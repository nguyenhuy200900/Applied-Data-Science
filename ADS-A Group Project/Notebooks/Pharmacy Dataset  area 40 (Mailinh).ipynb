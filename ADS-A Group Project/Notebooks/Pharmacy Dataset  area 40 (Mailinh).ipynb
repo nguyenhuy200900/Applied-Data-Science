{
 "cells": [
  {
   "cell_type": "markdown",
   "metadata": {},
   "source": [
    "# Region 40: Mai Linh Luong"
   ]
  },
  {
   "cell_type": "markdown",
   "metadata": {},
   "source": [
    "To divide the work, we first had to take a look where most of the medications are being sold in which region. In this case, the top 5 regions are: number 20, 10, 30, 40 and 22. I had to do my EDA on region 40. \n"
   ]
  },
  {
   "cell_type": "code",
   "execution_count": 1,
   "metadata": {},
   "outputs": [
    {
     "data": {
      "text/html": [
       "<div>\n",
       "<style scoped>\n",
       "    .dataframe tbody tr th:only-of-type {\n",
       "        vertical-align: middle;\n",
       "    }\n",
       "\n",
       "    .dataframe tbody tr th {\n",
       "        vertical-align: top;\n",
       "    }\n",
       "\n",
       "    .dataframe thead th {\n",
       "        text-align: right;\n",
       "    }\n",
       "</style>\n",
       "<table border=\"1\" class=\"dataframe\">\n",
       "  <thead>\n",
       "    <tr style=\"text-align: right;\">\n",
       "      <th></th>\n",
       "      <th>Delivery date</th>\n",
       "      <th>Delivery time</th>\n",
       "      <th>Pharmacy number</th>\n",
       "      <th>Pharmacy postcode</th>\n",
       "      <th>YOB</th>\n",
       "      <th>Gender</th>\n",
       "      <th>CNK</th>\n",
       "      <th>Product name</th>\n",
       "      <th>ATC code</th>\n",
       "      <th>Units</th>\n",
       "      <th>Price</th>\n",
       "      <th>Contribution</th>\n",
       "    </tr>\n",
       "  </thead>\n",
       "  <tbody>\n",
       "    <tr>\n",
       "      <th>0</th>\n",
       "      <td>01/01/2017</td>\n",
       "      <td>00:00</td>\n",
       "      <td>7341765</td>\n",
       "      <td>21</td>\n",
       "      <td>1922</td>\n",
       "      <td>1</td>\n",
       "      <td>5520523</td>\n",
       "      <td>WACHTHONORARIUM</td>\n",
       "      <td></td>\n",
       "      <td>0</td>\n",
       "      <td>4.90</td>\n",
       "      <td>0.00</td>\n",
       "    </tr>\n",
       "    <tr>\n",
       "      <th>1</th>\n",
       "      <td>01/01/2017</td>\n",
       "      <td>00:00</td>\n",
       "      <td>7341765</td>\n",
       "      <td>21</td>\n",
       "      <td>1925</td>\n",
       "      <td>1</td>\n",
       "      <td>1799931</td>\n",
       "      <td>ZALDIAR 37,5 MG/325 MG FILMOMH TABL 20</td>\n",
       "      <td>N02AJ13</td>\n",
       "      <td>20</td>\n",
       "      <td>9.26</td>\n",
       "      <td>3.62</td>\n",
       "    </tr>\n",
       "    <tr>\n",
       "      <th>2</th>\n",
       "      <td>01/01/2017</td>\n",
       "      <td>00:00</td>\n",
       "      <td>8272695</td>\n",
       "      <td>16</td>\n",
       "      <td>1932</td>\n",
       "      <td>2</td>\n",
       "      <td>1719400</td>\n",
       "      <td>VASEXTEN CAPS BLIST 28 X 10 MG</td>\n",
       "      <td>C08CA12</td>\n",
       "      <td>28</td>\n",
       "      <td>19.22</td>\n",
       "      <td>4.98</td>\n",
       "    </tr>\n",
       "    <tr>\n",
       "      <th>3</th>\n",
       "      <td>01/01/2017</td>\n",
       "      <td>00:00</td>\n",
       "      <td>8272695</td>\n",
       "      <td>16</td>\n",
       "      <td>1933</td>\n",
       "      <td>2</td>\n",
       "      <td>5520523</td>\n",
       "      <td>WACHTHONORARIUM</td>\n",
       "      <td></td>\n",
       "      <td>0</td>\n",
       "      <td>4.90</td>\n",
       "      <td>0.00</td>\n",
       "    </tr>\n",
       "    <tr>\n",
       "      <th>4</th>\n",
       "      <td>01/01/2017</td>\n",
       "      <td>00:00</td>\n",
       "      <td>9111423</td>\n",
       "      <td>10</td>\n",
       "      <td>1931</td>\n",
       "      <td>1</td>\n",
       "      <td>1750132</td>\n",
       "      <td>AACIDEXAM 5MG/ML OPL INJ FL INJ  1 X 1ML</td>\n",
       "      <td>H02AB02</td>\n",
       "      <td>1</td>\n",
       "      <td>6.15</td>\n",
       "      <td>0.39</td>\n",
       "    </tr>\n",
       "  </tbody>\n",
       "</table>\n",
       "</div>"
      ],
      "text/plain": [
       "  Delivery date Delivery time  Pharmacy number  Pharmacy postcode   YOB  \\\n",
       "0    01/01/2017         00:00          7341765                 21  1922   \n",
       "1    01/01/2017         00:00          7341765                 21  1925   \n",
       "2    01/01/2017         00:00          8272695                 16  1932   \n",
       "3    01/01/2017         00:00          8272695                 16  1933   \n",
       "4    01/01/2017         00:00          9111423                 10  1931   \n",
       "\n",
       "   Gender      CNK                              Product name ATC code  Units  \\\n",
       "0       1  5520523                           WACHTHONORARIUM               0   \n",
       "1       1  1799931    ZALDIAR 37,5 MG/325 MG FILMOMH TABL 20  N02AJ13     20   \n",
       "2       2  1719400            VASEXTEN CAPS BLIST 28 X 10 MG  C08CA12     28   \n",
       "3       2  5520523                           WACHTHONORARIUM               0   \n",
       "4       1  1750132  AACIDEXAM 5MG/ML OPL INJ FL INJ  1 X 1ML  H02AB02      1   \n",
       "\n",
       "   Price  Contribution  \n",
       "0   4.90          0.00  \n",
       "1   9.26          3.62  \n",
       "2  19.22          4.98  \n",
       "3   4.90          0.00  \n",
       "4   6.15          0.39  "
      ]
     },
     "execution_count": 1,
     "metadata": {},
     "output_type": "execute_result"
    }
   ],
   "source": [
    "import pandas as pd\n",
    "import numpy as np\n",
    "import matplotlib.pyplot as plt\n",
    "\n",
    "\n",
    "## Your code ...\n",
    "df_ds1 = pd.read_csv(\"ds-1.csv\")\n",
    "df_ds2 = pd.read_csv(\"ds-2.csv\")\n",
    "df_ds3 = pd.read_csv(\"ds-3.csv\")\n",
    "df_ds4 = pd.read_csv(\"ds-4.csv\")\n",
    "df_ds5 = pd.read_csv(\"ds-5.csv\")\n",
    "df_ds6 = pd.read_csv(\"ds-6.csv\")\n",
    "df_ds7 = pd.read_csv(\"ds-7.csv\")\n",
    "df_ds8 = pd.read_csv(\"ds-8.csv\")\n",
    "df_ds9 = pd.read_csv(\"ds-9.csv\")\n",
    "\n",
    "frames = [df_ds1, df_ds2, df_ds3, df_ds4, df_ds5, df_ds6, df_ds7, df_ds8, df_ds9]\n",
    "df = pd.concat(frames)\n",
    "\n",
    "## in the code above, I am reading the CSV file\n",
    "\n",
    "##df_ds9.columns = ['Delivery date', 'Delivery time', 'Pharmacy number', 'Pharmacy postcode', 'YOB', 'Gender', 'CNK', 'Product name', 'ATC code', 'Units', 'Price', 'Contribution']\n",
    "##df_ds9.head()\n",
    "\n",
    "df.columns = ['Delivery date', 'Delivery time', 'Pharmacy number', 'Pharmacy postcode', 'YOB', 'Gender', 'CNK', 'Product name', 'ATC code', 'Units', 'Price', 'Contribution']\n",
    "df.head()\n",
    "\n",
    "\n"
   ]
  },
  {
   "cell_type": "markdown",
   "metadata": {},
   "source": [
    "### Types of the dataset"
   ]
  },
  {
   "cell_type": "code",
   "execution_count": 2,
   "metadata": {},
   "outputs": [
    {
     "name": "stdout",
     "output_type": "stream",
     "text": [
      "<class 'pandas.core.frame.DataFrame'>\n",
      "Int64Index: 22705347 entries, 0 to 1905354\n",
      "Data columns (total 12 columns):\n",
      " #   Column             Dtype  \n",
      "---  ------             -----  \n",
      " 0   Delivery date      object \n",
      " 1   Delivery time      object \n",
      " 2   Pharmacy number    int64  \n",
      " 3   Pharmacy postcode  int64  \n",
      " 4   YOB                int64  \n",
      " 5   Gender             int64  \n",
      " 6   CNK                int64  \n",
      " 7   Product name       object \n",
      " 8   ATC code           object \n",
      " 9   Units              int64  \n",
      " 10  Price              float64\n",
      " 11  Contribution       float64\n",
      "dtypes: float64(2), int64(6), object(4)\n",
      "memory usage: 2.2+ GB\n"
     ]
    }
   ],
   "source": [
    "df.info()"
   ]
  },
  {
   "cell_type": "markdown",
   "metadata": {},
   "source": [
    "We can see that delivery date and delivery time are objects, in the code below we are going to change this into the correct datatype: Date Time"
   ]
  },
  {
   "cell_type": "code",
   "execution_count": 3,
   "metadata": {},
   "outputs": [],
   "source": [
    "df['Delivery date'] = pd.to_datetime(df['Delivery date'])"
   ]
  },
  {
   "cell_type": "code",
   "execution_count": 4,
   "metadata": {},
   "outputs": [
    {
     "name": "stdout",
     "output_type": "stream",
     "text": [
      "<class 'pandas.core.frame.DataFrame'>\n",
      "Int64Index: 22705347 entries, 0 to 1905354\n",
      "Data columns (total 12 columns):\n",
      " #   Column             Dtype         \n",
      "---  ------             -----         \n",
      " 0   Delivery date      datetime64[ns]\n",
      " 1   Delivery time      object        \n",
      " 2   Pharmacy number    int64         \n",
      " 3   Pharmacy postcode  int64         \n",
      " 4   YOB                int64         \n",
      " 5   Gender             int64         \n",
      " 6   CNK                int64         \n",
      " 7   Product name       object        \n",
      " 8   ATC code           object        \n",
      " 9   Units              int64         \n",
      " 10  Price              float64       \n",
      " 11  Contribution       float64       \n",
      "dtypes: datetime64[ns](1), float64(2), int64(6), object(3)\n",
      "memory usage: 2.2+ GB\n"
     ]
    }
   ],
   "source": [
    "df.info()"
   ]
  },
  {
   "cell_type": "markdown",
   "metadata": {},
   "source": [
    "Now we are going to see the amount of null values in each columns. "
   ]
  },
  {
   "cell_type": "code",
   "execution_count": 5,
   "metadata": {},
   "outputs": [
    {
     "data": {
      "text/plain": [
       "Delivery date              0\n",
       "Delivery time        4941181\n",
       "Pharmacy number            0\n",
       "Pharmacy postcode          0\n",
       "YOB                        0\n",
       "Gender                     0\n",
       "CNK                        0\n",
       "Product name               0\n",
       "ATC code                   0\n",
       "Units                      0\n",
       "Price                      0\n",
       "Contribution               0\n",
       "dtype: int64"
      ]
     },
     "execution_count": 5,
     "metadata": {},
     "output_type": "execute_result"
    }
   ],
   "source": [
    "## here we are going to check the oldest and the youngest patients from the pharmacy \n",
    "df.isnull().sum()"
   ]
  },
  {
   "cell_type": "markdown",
   "metadata": {},
   "source": [
    "Now we can maybe see the age range of people."
   ]
  },
  {
   "cell_type": "code",
   "execution_count": 6,
   "metadata": {
    "scrolled": true
   },
   "outputs": [
    {
     "data": {
      "text/plain": [
       "(0, 4092)"
      ]
     },
     "execution_count": 6,
     "metadata": {},
     "output_type": "execute_result"
    }
   ],
   "source": [
    "df['YOB'].min(), df['YOB'].max()"
   ]
  },
  {
   "cell_type": "markdown",
   "metadata": {},
   "source": [
    "We can see that there is a year of birth 0, so we can take patients out from the year of 1920 to 2019. "
   ]
  },
  {
   "cell_type": "code",
   "execution_count": 7,
   "metadata": {},
   "outputs": [
    {
     "data": {
      "text/plain": [
       "0          False\n",
       "1          False\n",
       "2          False\n",
       "3          False\n",
       "4          False\n",
       "           ...  \n",
       "1905350    False\n",
       "1905351    False\n",
       "1905352    False\n",
       "1905353    False\n",
       "1905354    False\n",
       "Name: YOB, Length: 22705347, dtype: bool"
      ]
     },
     "execution_count": 7,
     "metadata": {},
     "output_type": "execute_result"
    }
   ],
   "source": [
    "df_ghosts = ( (df['YOB'] < 1910) | (df['YOB'] > 2020) )\n",
    "\n",
    "df_ghosts"
   ]
  },
  {
   "cell_type": "markdown",
   "metadata": {},
   "source": [
    "Now, we want to drop the df_ghost"
   ]
  },
  {
   "cell_type": "code",
   "execution_count": 8,
   "metadata": {},
   "outputs": [],
   "source": [
    "del df_ghosts"
   ]
  },
  {
   "cell_type": "code",
   "execution_count": 9,
   "metadata": {},
   "outputs": [
    {
     "data": {
      "text/html": [
       "<div>\n",
       "<style scoped>\n",
       "    .dataframe tbody tr th:only-of-type {\n",
       "        vertical-align: middle;\n",
       "    }\n",
       "\n",
       "    .dataframe tbody tr th {\n",
       "        vertical-align: top;\n",
       "    }\n",
       "\n",
       "    .dataframe thead th {\n",
       "        text-align: right;\n",
       "    }\n",
       "</style>\n",
       "<table border=\"1\" class=\"dataframe\">\n",
       "  <thead>\n",
       "    <tr style=\"text-align: right;\">\n",
       "      <th></th>\n",
       "      <th>Delivery date</th>\n",
       "      <th>Delivery time</th>\n",
       "      <th>Pharmacy number</th>\n",
       "      <th>Pharmacy postcode</th>\n",
       "      <th>YOB</th>\n",
       "      <th>Gender</th>\n",
       "      <th>CNK</th>\n",
       "      <th>Product name</th>\n",
       "      <th>ATC code</th>\n",
       "      <th>Units</th>\n",
       "      <th>Price</th>\n",
       "      <th>Contribution</th>\n",
       "    </tr>\n",
       "  </thead>\n",
       "  <tbody>\n",
       "    <tr>\n",
       "      <th>0</th>\n",
       "      <td>2017-01-01</td>\n",
       "      <td>00:00</td>\n",
       "      <td>7341765</td>\n",
       "      <td>21</td>\n",
       "      <td>1922</td>\n",
       "      <td>Male</td>\n",
       "      <td>5520523</td>\n",
       "      <td>WACHTHONORARIUM</td>\n",
       "      <td></td>\n",
       "      <td>0</td>\n",
       "      <td>4.90</td>\n",
       "      <td>0.00</td>\n",
       "    </tr>\n",
       "    <tr>\n",
       "      <th>1</th>\n",
       "      <td>2017-01-01</td>\n",
       "      <td>00:00</td>\n",
       "      <td>7341765</td>\n",
       "      <td>21</td>\n",
       "      <td>1925</td>\n",
       "      <td>Male</td>\n",
       "      <td>1799931</td>\n",
       "      <td>ZALDIAR 37,5 MG/325 MG FILMOMH TABL 20</td>\n",
       "      <td>N02AJ13</td>\n",
       "      <td>20</td>\n",
       "      <td>9.26</td>\n",
       "      <td>3.62</td>\n",
       "    </tr>\n",
       "    <tr>\n",
       "      <th>2</th>\n",
       "      <td>2017-01-01</td>\n",
       "      <td>00:00</td>\n",
       "      <td>8272695</td>\n",
       "      <td>16</td>\n",
       "      <td>1932</td>\n",
       "      <td>Female</td>\n",
       "      <td>1719400</td>\n",
       "      <td>VASEXTEN CAPS BLIST 28 X 10 MG</td>\n",
       "      <td>C08CA12</td>\n",
       "      <td>28</td>\n",
       "      <td>19.22</td>\n",
       "      <td>4.98</td>\n",
       "    </tr>\n",
       "    <tr>\n",
       "      <th>3</th>\n",
       "      <td>2017-01-01</td>\n",
       "      <td>00:00</td>\n",
       "      <td>8272695</td>\n",
       "      <td>16</td>\n",
       "      <td>1933</td>\n",
       "      <td>Female</td>\n",
       "      <td>5520523</td>\n",
       "      <td>WACHTHONORARIUM</td>\n",
       "      <td></td>\n",
       "      <td>0</td>\n",
       "      <td>4.90</td>\n",
       "      <td>0.00</td>\n",
       "    </tr>\n",
       "    <tr>\n",
       "      <th>4</th>\n",
       "      <td>2017-01-01</td>\n",
       "      <td>00:00</td>\n",
       "      <td>9111423</td>\n",
       "      <td>10</td>\n",
       "      <td>1931</td>\n",
       "      <td>Male</td>\n",
       "      <td>1750132</td>\n",
       "      <td>AACIDEXAM 5MG/ML OPL INJ FL INJ  1 X 1ML</td>\n",
       "      <td>H02AB02</td>\n",
       "      <td>1</td>\n",
       "      <td>6.15</td>\n",
       "      <td>0.39</td>\n",
       "    </tr>\n",
       "    <tr>\n",
       "      <th>...</th>\n",
       "      <td>...</td>\n",
       "      <td>...</td>\n",
       "      <td>...</td>\n",
       "      <td>...</td>\n",
       "      <td>...</td>\n",
       "      <td>...</td>\n",
       "      <td>...</td>\n",
       "      <td>...</td>\n",
       "      <td>...</td>\n",
       "      <td>...</td>\n",
       "      <td>...</td>\n",
       "      <td>...</td>\n",
       "    </tr>\n",
       "    <tr>\n",
       "      <th>1905350</th>\n",
       "      <td>2019-12-31</td>\n",
       "      <td>23:56</td>\n",
       "      <td>7068483</td>\n",
       "      <td>90</td>\n",
       "      <td>1963</td>\n",
       "      <td>Female</td>\n",
       "      <td>2139137</td>\n",
       "      <td>FLOCATH QUICK SONDE INTERM.+AUTOLUB. CH14 20CM 30</td>\n",
       "      <td></td>\n",
       "      <td>0</td>\n",
       "      <td>81.81</td>\n",
       "      <td>0.00</td>\n",
       "    </tr>\n",
       "    <tr>\n",
       "      <th>1905351</th>\n",
       "      <td>2019-12-31</td>\n",
       "      <td>23:56</td>\n",
       "      <td>7068483</td>\n",
       "      <td>90</td>\n",
       "      <td>1962</td>\n",
       "      <td>Female</td>\n",
       "      <td>2139137</td>\n",
       "      <td>FLOCATH QUICK SONDE INTERM.+AUTOLUB. CH14 20CM 30</td>\n",
       "      <td></td>\n",
       "      <td>0</td>\n",
       "      <td>81.81</td>\n",
       "      <td>0.00</td>\n",
       "    </tr>\n",
       "    <tr>\n",
       "      <th>1905352</th>\n",
       "      <td>2019-12-31</td>\n",
       "      <td>23:56</td>\n",
       "      <td>7068483</td>\n",
       "      <td>90</td>\n",
       "      <td>1961</td>\n",
       "      <td>Female</td>\n",
       "      <td>2139137</td>\n",
       "      <td>FLOCATH QUICK SONDE INTERM.+AUTOLUB. CH14 20CM 30</td>\n",
       "      <td></td>\n",
       "      <td>0</td>\n",
       "      <td>81.81</td>\n",
       "      <td>0.00</td>\n",
       "    </tr>\n",
       "    <tr>\n",
       "      <th>1905353</th>\n",
       "      <td>2019-12-31</td>\n",
       "      <td>23:56</td>\n",
       "      <td>7068483</td>\n",
       "      <td>90</td>\n",
       "      <td>1962</td>\n",
       "      <td>Female</td>\n",
       "      <td>2139137</td>\n",
       "      <td>FLOCATH QUICK SONDE INTERM.+AUTOLUB. CH14 20CM 30</td>\n",
       "      <td></td>\n",
       "      <td>0</td>\n",
       "      <td>81.81</td>\n",
       "      <td>0.00</td>\n",
       "    </tr>\n",
       "    <tr>\n",
       "      <th>1905354</th>\n",
       "      <td>2019-12-31</td>\n",
       "      <td>23:56</td>\n",
       "      <td>7068483</td>\n",
       "      <td>90</td>\n",
       "      <td>1962</td>\n",
       "      <td>Female</td>\n",
       "      <td>2139137</td>\n",
       "      <td>FLOCATH QUICK SONDE INTERM.+AUTOLUB. CH14 20CM 30</td>\n",
       "      <td></td>\n",
       "      <td>0</td>\n",
       "      <td>81.81</td>\n",
       "      <td>0.00</td>\n",
       "    </tr>\n",
       "  </tbody>\n",
       "</table>\n",
       "<p>22705347 rows × 12 columns</p>\n",
       "</div>"
      ],
      "text/plain": [
       "        Delivery date Delivery time  Pharmacy number  Pharmacy postcode   YOB  \\\n",
       "0          2017-01-01         00:00          7341765                 21  1922   \n",
       "1          2017-01-01         00:00          7341765                 21  1925   \n",
       "2          2017-01-01         00:00          8272695                 16  1932   \n",
       "3          2017-01-01         00:00          8272695                 16  1933   \n",
       "4          2017-01-01         00:00          9111423                 10  1931   \n",
       "...               ...           ...              ...                ...   ...   \n",
       "1905350    2019-12-31         23:56          7068483                 90  1963   \n",
       "1905351    2019-12-31         23:56          7068483                 90  1962   \n",
       "1905352    2019-12-31         23:56          7068483                 90  1961   \n",
       "1905353    2019-12-31         23:56          7068483                 90  1962   \n",
       "1905354    2019-12-31         23:56          7068483                 90  1962   \n",
       "\n",
       "         Gender      CNK                                       Product name  \\\n",
       "0          Male  5520523                                    WACHTHONORARIUM   \n",
       "1          Male  1799931             ZALDIAR 37,5 MG/325 MG FILMOMH TABL 20   \n",
       "2        Female  1719400                     VASEXTEN CAPS BLIST 28 X 10 MG   \n",
       "3        Female  5520523                                    WACHTHONORARIUM   \n",
       "4          Male  1750132           AACIDEXAM 5MG/ML OPL INJ FL INJ  1 X 1ML   \n",
       "...         ...      ...                                                ...   \n",
       "1905350  Female  2139137  FLOCATH QUICK SONDE INTERM.+AUTOLUB. CH14 20CM 30   \n",
       "1905351  Female  2139137  FLOCATH QUICK SONDE INTERM.+AUTOLUB. CH14 20CM 30   \n",
       "1905352  Female  2139137  FLOCATH QUICK SONDE INTERM.+AUTOLUB. CH14 20CM 30   \n",
       "1905353  Female  2139137  FLOCATH QUICK SONDE INTERM.+AUTOLUB. CH14 20CM 30   \n",
       "1905354  Female  2139137  FLOCATH QUICK SONDE INTERM.+AUTOLUB. CH14 20CM 30   \n",
       "\n",
       "        ATC code  Units  Price  Contribution  \n",
       "0                     0   4.90          0.00  \n",
       "1        N02AJ13     20   9.26          3.62  \n",
       "2        C08CA12     28  19.22          4.98  \n",
       "3                     0   4.90          0.00  \n",
       "4        H02AB02      1   6.15          0.39  \n",
       "...          ...    ...    ...           ...  \n",
       "1905350               0  81.81          0.00  \n",
       "1905351               0  81.81          0.00  \n",
       "1905352               0  81.81          0.00  \n",
       "1905353               0  81.81          0.00  \n",
       "1905354               0  81.81          0.00  \n",
       "\n",
       "[22705347 rows x 12 columns]"
      ]
     },
     "execution_count": 9,
     "metadata": {},
     "output_type": "execute_result"
    }
   ],
   "source": [
    "## all the genders have numbers, which is kind of hard to analyze. \n",
    "## so we change 1 to male and 2 to female \n",
    "\n",
    "df['Gender']\n",
    "df['Gender'].replace([1], 'Male', inplace = True)\n",
    "df['Gender'].replace([2], 'Female', inplace = True)\n",
    "df['Gender'].replace([3], 'Neutral', inplace = True)\n",
    "df['Gender'].replace([0], 'Neutral', inplace = True)\n",
    "\n",
    "df"
   ]
  },
  {
   "cell_type": "code",
   "execution_count": 10,
   "metadata": {},
   "outputs": [
    {
     "data": {
      "text/plain": [
       "Gender\n",
       "Female     614182\n",
       "Male       458473\n",
       "Neutral       853\n",
       "Name: Product name, dtype: int64"
      ]
     },
     "execution_count": 10,
     "metadata": {},
     "output_type": "execute_result"
    }
   ],
   "source": [
    "## group by gender and count the amount of product names. For this we will see which gender buys the most medicine. Since I have\n",
    "## to do to the regioncode of 40, I will start by filtering\n",
    "\n",
    "df = df[df['Pharmacy postcode'] == 40]\n",
    "\n",
    "df_by_postcode = df.groupby(\"Gender\")[\"Product name\"].count()\n",
    "df_by_postcode"
   ]
  },
  {
   "cell_type": "markdown",
   "metadata": {},
   "source": [
    "### Histogram plot almount of sold medicines to gender"
   ]
  },
  {
   "cell_type": "code",
   "execution_count": 11,
   "metadata": {},
   "outputs": [
    {
     "data": {
      "image/png": "[encoded data removed]",
      "text/plain": [
       "<Figure size 432x288 with 1 Axes>"
      ]
     },
     "metadata": {
      "needs_background": "light"
     },
     "output_type": "display_data"
    }
   ],
   "source": [
    "##plotting the histogram on pharmacy postcode so we can see which region sells the most medicines\n",
    "from pandas import DataFrame\n",
    "import matplotlib.pyplot as plt\n",
    "\n",
    "datagender = {'Gender': ['Female','Male','Neutral'],\n",
    "        'Total': [614182,458473,853]}\n",
    "  \n",
    "dfgender = DataFrame(datagender,columns=['Gender','Total'])\n",
    "dfgender.plot(x ='Gender', y='Total', kind = 'bar')\n",
    "plt.title('Gender sold medicines')\n",
    "plt.show()"
   ]
  },
  {
   "cell_type": "code",
   "execution_count": 12,
   "metadata": {
    "scrolled": true
   },
   "outputs": [
    {
     "data": {
      "text/plain": [
       "(1910.0, 2020.0)"
      ]
     },
     "execution_count": 12,
     "metadata": {},
     "output_type": "execute_result"
    },
    {
     "data": {
      "image/png": "[encoded data removed]",
      "text/plain": [
       "<Figure size 432x288 with 1 Axes>"
      ]
     },
     "metadata": {},
     "output_type": "display_data"
    }
   ],
   "source": [
    "## I want to see which age group by which gender will most likely buy medications more \n",
    "## source: https://seaborn.pydata.org/generated/seaborn.countplot.html\n",
    "## source: https://seaborn.pydata.org/generated/seaborn.distplot.html\n",
    "import seaborn as sns\n",
    "\n",
    "m_yob = df[df['Gender']=='Male']\n",
    "f_yob = df[df['Gender']=='Female']\n",
    "\n",
    "sns.set_style(\"darkgrid\")\n",
    "\n",
    "ax = sns.distplot(m_yob[['YOB']], bins = 120)\n",
    "sns.distplot(f_yob[['YOB']], bins = 120)\n",
    "\n",
    "plt.legend(['Male','Female','Neutral']);\n",
    "plt.title('Year of Birth of patients')\n",
    "plt.xlabel('Year of Birth')\n",
    "plt.xlim(1910, 2020)"
   ]
  },
  {
   "cell_type": "markdown",
   "metadata": {},
   "source": [
    "### Most sold products"
   ]
  },
  {
   "cell_type": "code",
   "execution_count": 13,
   "metadata": {},
   "outputs": [
    {
     "data": {
      "text/html": [
       "<div>\n",
       "<style scoped>\n",
       "    .dataframe tbody tr th:only-of-type {\n",
       "        vertical-align: middle;\n",
       "    }\n",
       "\n",
       "    .dataframe tbody tr th {\n",
       "        vertical-align: top;\n",
       "    }\n",
       "\n",
       "    .dataframe thead th {\n",
       "        text-align: right;\n",
       "    }\n",
       "</style>\n",
       "<table border=\"1\" class=\"dataframe\">\n",
       "  <thead>\n",
       "    <tr style=\"text-align: right;\">\n",
       "      <th></th>\n",
       "      <th>Price</th>\n",
       "      <th>Product name</th>\n",
       "      <th>Counts</th>\n",
       "    </tr>\n",
       "  </thead>\n",
       "  <tbody>\n",
       "    <tr>\n",
       "      <th>3629</th>\n",
       "      <td>3.14</td>\n",
       "      <td>HONORARIUM PER WEEK PER RUSTOORDBEWONER ROB-RVT</td>\n",
       "      <td>13094</td>\n",
       "    </tr>\n",
       "    <tr>\n",
       "      <th>3626</th>\n",
       "      <td>3.09</td>\n",
       "      <td>HONORARIUM PER WEEK PER RUSTOORDBEWONER ROB-RVT</td>\n",
       "      <td>13022</td>\n",
       "    </tr>\n",
       "    <tr>\n",
       "      <th>3623</th>\n",
       "      <td>3.04</td>\n",
       "      <td>HONORARIUM PER WEEK PER RUSTOORDBEWONER ROB-RVT</td>\n",
       "      <td>12396</td>\n",
       "    </tr>\n",
       "    <tr>\n",
       "      <th>2855</th>\n",
       "      <td>0.03</td>\n",
       "      <td>ASAFLOW COMP  1 X  80 MG</td>\n",
       "      <td>11850</td>\n",
       "    </tr>\n",
       "    <tr>\n",
       "      <th>3040</th>\n",
       "      <td>0.12</td>\n",
       "      <td>BURINEX COMP 1 X 1 MG</td>\n",
       "      <td>7009</td>\n",
       "    </tr>\n",
       "  </tbody>\n",
       "</table>\n",
       "</div>"
      ],
      "text/plain": [
       "      Price                                     Product name  Counts\n",
       "3629   3.14  HONORARIUM PER WEEK PER RUSTOORDBEWONER ROB-RVT   13094\n",
       "3626   3.09  HONORARIUM PER WEEK PER RUSTOORDBEWONER ROB-RVT   13022\n",
       "3623   3.04  HONORARIUM PER WEEK PER RUSTOORDBEWONER ROB-RVT   12396\n",
       "2855   0.03                         ASAFLOW COMP  1 X  80 MG   11850\n",
       "3040   0.12                            BURINEX COMP 1 X 1 MG    7009"
      ]
     },
     "execution_count": 13,
     "metadata": {},
     "output_type": "execute_result"
    }
   ],
   "source": [
    "## Here we want to see the top 5 most sold products in region 40 \n",
    "df_products = df.groupby(['Price','Product name'])['Gender'].count().reset_index()\n",
    "\n",
    "df_products.columns=['Price','Product name','Counts']\n",
    "df_products.sort_values(by='Counts',ascending=False,inplace=True)\n",
    "df_products5 = df_products.head(5)\n",
    "df_products5\n"
   ]
  },
  {
   "cell_type": "code",
   "execution_count": 14,
   "metadata": {},
   "outputs": [
    {
     "data": {
      "image/png": "[encoded data removed]",
      "text/plain": [
       "<Figure size 432x288 with 1 Axes>"
      ]
     },
     "metadata": {},
     "output_type": "display_data"
    }
   ],
   "source": [
    "df_products = df.groupby(['Price','Product name'])['Gender'].count().reset_index()\n",
    "\n",
    "df_products.columns=['Price','Product name','Counts']\n",
    "df_products.sort_values(by='Counts',ascending=False,inplace=True)\n",
    "df_products5 = df_products.head(5)\n",
    "\n",
    "bars = df_products5['Product name']\n",
    "height = df_products5['Counts']\n",
    "\n",
    "y_pos = np.arange(len(bars))\n",
    "\n",
    "plt.barh(y_pos, height)\n",
    "plt.yticks(y_pos, bars)\n",
    "plt.title('Top 5 most sold products')\n",
    "plt.show()"
   ]
  },
  {
   "cell_type": "code",
   "execution_count": 29,
   "metadata": {},
   "outputs": [
    {
     "data": {
      "text/html": [
       "<div>\n",
       "<style scoped>\n",
       "    .dataframe tbody tr th:only-of-type {\n",
       "        vertical-align: middle;\n",
       "    }\n",
       "\n",
       "    .dataframe tbody tr th {\n",
       "        vertical-align: top;\n",
       "    }\n",
       "\n",
       "    .dataframe thead th {\n",
       "        text-align: right;\n",
       "    }\n",
       "</style>\n",
       "<table border=\"1\" class=\"dataframe\">\n",
       "  <thead>\n",
       "    <tr style=\"text-align: right;\">\n",
       "      <th></th>\n",
       "      <th>Price</th>\n",
       "      <th>Product name</th>\n",
       "      <th>Counts</th>\n",
       "      <th>ProductType</th>\n",
       "    </tr>\n",
       "  </thead>\n",
       "  <tbody>\n",
       "    <tr>\n",
       "      <th>3629</th>\n",
       "      <td>3.14</td>\n",
       "      <td>HONORARIUM PER WEEK PER RUSTOORDBEWONER ROB-RVT</td>\n",
       "      <td>13094</td>\n",
       "      <td>Honorarium</td>\n",
       "    </tr>\n",
       "    <tr>\n",
       "      <th>3626</th>\n",
       "      <td>3.09</td>\n",
       "      <td>HONORARIUM PER WEEK PER RUSTOORDBEWONER ROB-RVT</td>\n",
       "      <td>13022</td>\n",
       "      <td>Honorarium</td>\n",
       "    </tr>\n",
       "    <tr>\n",
       "      <th>3623</th>\n",
       "      <td>3.04</td>\n",
       "      <td>HONORARIUM PER WEEK PER RUSTOORDBEWONER ROB-RVT</td>\n",
       "      <td>12396</td>\n",
       "      <td>Honorarium</td>\n",
       "    </tr>\n",
       "    <tr>\n",
       "      <th>2855</th>\n",
       "      <td>0.03</td>\n",
       "      <td>ASAFLOW COMP  1 X  80 MG</td>\n",
       "      <td>11850</td>\n",
       "      <td>Pills</td>\n",
       "    </tr>\n",
       "    <tr>\n",
       "      <th>3040</th>\n",
       "      <td>0.12</td>\n",
       "      <td>BURINEX COMP 1 X 1 MG</td>\n",
       "      <td>7009</td>\n",
       "      <td>Pills</td>\n",
       "    </tr>\n",
       "  </tbody>\n",
       "</table>\n",
       "</div>"
      ],
      "text/plain": [
       "      Price                                     Product name  Counts  \\\n",
       "3629   3.14  HONORARIUM PER WEEK PER RUSTOORDBEWONER ROB-RVT   13094   \n",
       "3626   3.09  HONORARIUM PER WEEK PER RUSTOORDBEWONER ROB-RVT   13022   \n",
       "3623   3.04  HONORARIUM PER WEEK PER RUSTOORDBEWONER ROB-RVT   12396   \n",
       "2855   0.03                         ASAFLOW COMP  1 X  80 MG   11850   \n",
       "3040   0.12                            BURINEX COMP 1 X 1 MG    7009   \n",
       "\n",
       "     ProductType  \n",
       "3629  Honorarium  \n",
       "3626  Honorarium  \n",
       "3623  Honorarium  \n",
       "2855       Pills  \n",
       "3040       Pills  "
      ]
     },
     "execution_count": 29,
     "metadata": {},
     "output_type": "execute_result"
    }
   ],
   "source": [
    "df_productstype = df.groupby(['Price','Product name'])['Gender'].count().reset_index()\n",
    "df_productstype.columns=['Price','Product name','Counts']\n",
    "df_productstype.sort_values(by='Counts',ascending=False,inplace=True)\n",
    "\n",
    "for i in range(0, len(df_productstype)):\n",
    "    if ('honorarium' in df_productstype.loc[i, 'Product name'].lower()): \n",
    "        df_productstype.loc[i, 'ProductType'] = 'Honorarium'\n",
    "    elif ('tab' in df_productstype.loc[i, 'Product name'].lower()): \n",
    "        df_productstype.loc[i, 'ProductType'] = 'Tablet'\n",
    "    else:\n",
    "        df_productstype.loc[i, 'ProductType'] = 'Pills'\n",
    "\n",
    "df_productstype.head()\n"
   ]
  },
  {
   "cell_type": "code",
   "execution_count": 31,
   "metadata": {},
   "outputs": [
    {
     "data": {
      "image/png": "[encoded data removed]",
      "text/plain": [
       "<Figure size 720x288 with 1 Axes>"
      ]
     },
     "metadata": {},
     "output_type": "display_data"
    }
   ],
   "source": [
    "plt.figure(figsize=(10,4))\n",
    "plt.title(\"Products type\")\n",
    "sns.barplot(x='ProductType', y='Price', data=df_productstype);"
   ]
  },
  {
   "cell_type": "code",
   "execution_count": null,
   "metadata": {},
   "outputs": [],
   "source": [
    "df.groupby(\"Product type\")[\"Product name\"].count()\n",
    "df"
   ]
  },
  {
   "cell_type": "markdown",
   "metadata": {},
   "source": [
    "### Season"
   ]
  },
  {
   "cell_type": "code",
   "execution_count": null,
   "metadata": {},
   "outputs": [],
   "source": [
    "## we are going to extract the months from the delivery date in order to categorize the the months in seasons\n",
    "## source: https://stackoverflow.com/questions/41918115/how-do-i-extract-the-date-year-month-from-pandas-dataframe\n",
    "df['Delivery month'] = df['Delivery date'].dt.month"
   ]
  },
  {
   "cell_type": "code",
   "execution_count": null,
   "metadata": {},
   "outputs": [],
   "source": [
    "## now we are going to filter where month 12, 1 and 2 are winter. \n",
    "\n",
    "df.loc[df['Delivery date'].dt.month <= 2 , 'Season'] = 'Winter'\n",
    "df.loc[df['Delivery date'].dt.month == 12 , 'Season'] = 'Winter'\n",
    "\n",
    "## now we are going to filter where month 3, 4 and 5 are spring. \n",
    "\n",
    "df.loc[df['Delivery date'].dt.month == df['Delivery date'].dt.month.between(3,5), 'Season'] = 'Spring' \n",
    "\n",
    "## now we are going to filter were month 6, 7 and 8 are summer\n",
    "df.loc[df['Delivery date'].dt.month == df['Delivery date'].dt.month.between(6,8), 'Season'] = 'Summer' \n",
    "\n",
    "## now we are going to filter where month 9, 10 and 11 are fall \n",
    "\n",
    "df.loc[df['Delivery date'].dt.month == 9, 'Season'] = 'Fall' \n",
    "df.loc[df['Delivery date'].dt.month == 10, 'Season'] = 'Fall' \n",
    "df.loc[df['Delivery date'].dt.month == 11, 'Season'] = 'Fall' \n",
    "\n",
    "df"
   ]
  },
  {
   "cell_type": "code",
   "execution_count": null,
   "metadata": {},
   "outputs": [],
   "source": [
    "df_season = df.groupby(['Season'])['Product name'].count().reset_index()\n",
    "\n",
    "df_season.columns=['Season', 'Total Product']\n",
    "df_season.sort_values(by='Total Product',ascending=False,inplace=True)\n",
    "df_season\n"
   ]
  },
  {
   "cell_type": "code",
   "execution_count": null,
   "metadata": {},
   "outputs": [],
   "source": []
  }
 ],
 "metadata": {
  "kernelspec": {
   "display_name": "Python 3",
   "language": "python",
   "name": "python3"
  },
  "language_info": {
   "codemirror_mode": {
    "name": "ipython",
    "version": 3
   },
   "file_extension": ".py",
   "mimetype": "text/x-python",
   "name": "python",
   "nbconvert_exporter": "python",
   "pygments_lexer": "ipython3",
   "version": "3.8.3"
  }
 },
 "nbformat": 4,
 "nbformat_minor": 2
}
