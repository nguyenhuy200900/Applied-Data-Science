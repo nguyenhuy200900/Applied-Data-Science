{
 "cells": [
  {
   "cell_type": "markdown",
   "metadata": {},
   "source": [
    "# Pharmacies"
   ]
  },
  {
   "cell_type": "markdown",
   "metadata": {},
   "source": [
    "## Load the libraries and data"
   ]
  },
  {
   "cell_type": "code",
   "execution_count": 1,
   "metadata": {},
   "outputs": [],
   "source": [
    "import numpy as np\n",
    "import pandas as pd\n",
    "import datetime\n",
    "\n",
    "# next command ensures that plots appear inside the notebook\n",
    "%matplotlib inline\n",
    "import matplotlib.pyplot as plt\n",
    "import seaborn as sns\n",
    "sns.set()  # set Seaborn defaults\n",
    "plt.rcParams['figure.figsize'] = 12, 5  # default hor./vert. size of plots, in inches\n",
    "plt.rcParams['lines.markeredgewidth'] = 1  # to fix issue with seaborn box plots; needed after import seaborn\n",
    "\n",
    "import warnings\n",
    "warnings.filterwarnings('ignore')"
   ]
  },
  {
   "cell_type": "markdown",
   "metadata": {},
   "source": [
    "all the data.."
   ]
  },
  {
   "cell_type": "code",
   "execution_count": 2,
   "metadata": {
    "scrolled": true
   },
   "outputs": [],
   "source": [
    "colnames = ['Date', 'Time', 'Ph_number', 'Ph_postcode', 'YOB', 'Gender', 'CNK', 'Product', 'ATC', 'Units', 'Price', 'Contribution']\n",
    "df_all = pd.read_csv('C:/Users/letra/Desktop/huy/ADS-A/ADS-A pharmacy/ds.csv', names=colnames)"
   ]
  },
  {
   "cell_type": "code",
   "execution_count": 3,
   "metadata": {},
   "outputs": [
    {
     "data": {
      "text/html": [
       "<div>\n",
       "<style scoped>\n",
       "    .dataframe tbody tr th:only-of-type {\n",
       "        vertical-align: middle;\n",
       "    }\n",
       "\n",
       "    .dataframe tbody tr th {\n",
       "        vertical-align: top;\n",
       "    }\n",
       "\n",
       "    .dataframe thead th {\n",
       "        text-align: right;\n",
       "    }\n",
       "</style>\n",
       "<table border=\"1\" class=\"dataframe\">\n",
       "  <thead>\n",
       "    <tr style=\"text-align: right;\">\n",
       "      <th></th>\n",
       "      <th>Date</th>\n",
       "      <th>Time</th>\n",
       "      <th>Ph_number</th>\n",
       "      <th>Ph_postcode</th>\n",
       "      <th>YOB</th>\n",
       "      <th>Gender</th>\n",
       "      <th>CNK</th>\n",
       "      <th>Product</th>\n",
       "      <th>ATC</th>\n",
       "      <th>Units</th>\n",
       "      <th>Price</th>\n",
       "      <th>Contribution</th>\n",
       "    </tr>\n",
       "  </thead>\n",
       "  <tbody>\n",
       "    <tr>\n",
       "      <td>0</td>\n",
       "      <td>01/01/2017</td>\n",
       "      <td>00:00</td>\n",
       "      <td>7341765</td>\n",
       "      <td>21</td>\n",
       "      <td>1924</td>\n",
       "      <td>1</td>\n",
       "      <td>1715119</td>\n",
       "      <td>AMOXICLAV SANDOZ 500MG/125 MG COMP 30</td>\n",
       "      <td>J01CR02</td>\n",
       "      <td>30</td>\n",
       "      <td>14.81</td>\n",
       "      <td>3.47</td>\n",
       "    </tr>\n",
       "    <tr>\n",
       "      <td>1</td>\n",
       "      <td>01/01/2017</td>\n",
       "      <td>00:00</td>\n",
       "      <td>7341765</td>\n",
       "      <td>21</td>\n",
       "      <td>1922</td>\n",
       "      <td>1</td>\n",
       "      <td>5520523</td>\n",
       "      <td>WACHTHONORARIUM</td>\n",
       "      <td></td>\n",
       "      <td>0</td>\n",
       "      <td>4.90</td>\n",
       "      <td>0.00</td>\n",
       "    </tr>\n",
       "  </tbody>\n",
       "</table>\n",
       "</div>"
      ],
      "text/plain": [
       "         Date   Time  Ph_number  Ph_postcode   YOB  Gender      CNK  \\\n",
       "0  01/01/2017  00:00    7341765           21  1924       1  1715119   \n",
       "1  01/01/2017  00:00    7341765           21  1922       1  5520523   \n",
       "\n",
       "                                 Product      ATC  Units  Price  Contribution  \n",
       "0  AMOXICLAV SANDOZ 500MG/125 MG COMP 30  J01CR02     30  14.81          3.47  \n",
       "1                        WACHTHONORARIUM               0   4.90          0.00  "
      ]
     },
     "execution_count": 3,
     "metadata": {},
     "output_type": "execute_result"
    }
   ],
   "source": [
    "df_all.head(2)"
   ]
  },
  {
   "cell_type": "code",
   "execution_count": 4,
   "metadata": {},
   "outputs": [
    {
     "data": {
      "text/plain": [
       "(22705348, 12)"
      ]
     },
     "execution_count": 4,
     "metadata": {},
     "output_type": "execute_result"
    }
   ],
   "source": [
    "df_all.shape"
   ]
  },
  {
   "cell_type": "code",
   "execution_count": 5,
   "metadata": {},
   "outputs": [
    {
     "name": "stdout",
     "output_type": "stream",
     "text": [
      "<class 'pandas.core.frame.DataFrame'>\n",
      "RangeIndex: 22705348 entries, 0 to 22705347\n",
      "Data columns (total 12 columns):\n",
      "Date            object\n",
      "Time            object\n",
      "Ph_number       int64\n",
      "Ph_postcode     int64\n",
      "YOB             int64\n",
      "Gender          int64\n",
      "CNK             int64\n",
      "Product         object\n",
      "ATC             object\n",
      "Units           int64\n",
      "Price           float64\n",
      "Contribution    float64\n",
      "dtypes: float64(2), int64(6), object(4)\n",
      "memory usage: 2.0+ GB\n"
     ]
    }
   ],
   "source": [
    "df_all.info()"
   ]
  },
  {
   "cell_type": "code",
   "execution_count": 6,
   "metadata": {},
   "outputs": [
    {
     "data": {
      "text/plain": [
       "Date                  0\n",
       "Time            4941181\n",
       "Ph_number             0\n",
       "Ph_postcode           0\n",
       "YOB                   0\n",
       "Gender                0\n",
       "CNK                   0\n",
       "Product               0\n",
       "ATC                   0\n",
       "Units                 0\n",
       "Price                 0\n",
       "Contribution          0\n",
       "dtype: int64"
      ]
     },
     "execution_count": 6,
     "metadata": {},
     "output_type": "execute_result"
    }
   ],
   "source": [
    "df_all.isnull().sum()"
   ]
  },
  {
   "cell_type": "code",
   "execution_count": 7,
   "metadata": {},
   "outputs": [
    {
     "data": {
      "text/html": [
       "<div>\n",
       "<style scoped>\n",
       "    .dataframe tbody tr th:only-of-type {\n",
       "        vertical-align: middle;\n",
       "    }\n",
       "\n",
       "    .dataframe tbody tr th {\n",
       "        vertical-align: top;\n",
       "    }\n",
       "\n",
       "    .dataframe thead th {\n",
       "        text-align: right;\n",
       "    }\n",
       "</style>\n",
       "<table border=\"1\" class=\"dataframe\">\n",
       "  <thead>\n",
       "    <tr style=\"text-align: right;\">\n",
       "      <th></th>\n",
       "      <th>Ph_number</th>\n",
       "      <th>Ph_postcode</th>\n",
       "      <th>YOB</th>\n",
       "      <th>Gender</th>\n",
       "      <th>CNK</th>\n",
       "      <th>Units</th>\n",
       "      <th>Price</th>\n",
       "      <th>Contribution</th>\n",
       "    </tr>\n",
       "  </thead>\n",
       "  <tbody>\n",
       "    <tr>\n",
       "      <td>count</td>\n",
       "      <td>2.270535e+07</td>\n",
       "      <td>2.270535e+07</td>\n",
       "      <td>2.270535e+07</td>\n",
       "      <td>2.270535e+07</td>\n",
       "      <td>2.270535e+07</td>\n",
       "      <td>2.270535e+07</td>\n",
       "      <td>2.270535e+07</td>\n",
       "      <td>2.270535e+07</td>\n",
       "    </tr>\n",
       "    <tr>\n",
       "      <td>mean</td>\n",
       "      <td>8.031142e+06</td>\n",
       "      <td>3.496216e+01</td>\n",
       "      <td>1.954498e+03</td>\n",
       "      <td>1.571832e+00</td>\n",
       "      <td>1.960846e+06</td>\n",
       "      <td>4.498157e+01</td>\n",
       "      <td>2.494228e+01</td>\n",
       "      <td>4.003821e+00</td>\n",
       "    </tr>\n",
       "    <tr>\n",
       "      <td>std</td>\n",
       "      <td>1.764944e+06</td>\n",
       "      <td>2.575097e+01</td>\n",
       "      <td>3.706748e+01</td>\n",
       "      <td>5.017270e-01</td>\n",
       "      <td>1.329533e+06</td>\n",
       "      <td>4.417011e+01</td>\n",
       "      <td>9.025505e+01</td>\n",
       "      <td>7.305994e+00</td>\n",
       "    </tr>\n",
       "    <tr>\n",
       "      <td>min</td>\n",
       "      <td>3.790968e+06</td>\n",
       "      <td>0.000000e+00</td>\n",
       "      <td>0.000000e+00</td>\n",
       "      <td>0.000000e+00</td>\n",
       "      <td>1.195700e+04</td>\n",
       "      <td>0.000000e+00</td>\n",
       "      <td>0.000000e+00</td>\n",
       "      <td>0.000000e+00</td>\n",
       "    </tr>\n",
       "    <tr>\n",
       "      <td>25%</td>\n",
       "      <td>7.686732e+06</td>\n",
       "      <td>2.000000e+01</td>\n",
       "      <td>1.938000e+03</td>\n",
       "      <td>1.000000e+00</td>\n",
       "      <td>7.919960e+05</td>\n",
       "      <td>1.000000e+00</td>\n",
       "      <td>7.040000e+00</td>\n",
       "      <td>4.000000e-02</td>\n",
       "    </tr>\n",
       "    <tr>\n",
       "      <td>50%</td>\n",
       "      <td>7.905180e+06</td>\n",
       "      <td>2.400000e+01</td>\n",
       "      <td>1.951000e+03</td>\n",
       "      <td>2.000000e+00</td>\n",
       "      <td>2.055200e+06</td>\n",
       "      <td>3.000000e+01</td>\n",
       "      <td>1.156000e+01</td>\n",
       "      <td>2.140000e+00</td>\n",
       "    </tr>\n",
       "    <tr>\n",
       "      <td>75%</td>\n",
       "      <td>8.101962e+06</td>\n",
       "      <td>4.800000e+01</td>\n",
       "      <td>1.967000e+03</td>\n",
       "      <td>2.000000e+00</td>\n",
       "      <td>2.678951e+06</td>\n",
       "      <td>9.000000e+01</td>\n",
       "      <td>2.150000e+01</td>\n",
       "      <td>6.630000e+00</td>\n",
       "    </tr>\n",
       "    <tr>\n",
       "      <td>max</td>\n",
       "      <td>3.052274e+07</td>\n",
       "      <td>9.900000e+01</td>\n",
       "      <td>4.092000e+03</td>\n",
       "      <td>3.000000e+00</td>\n",
       "      <td>7.726284e+06</td>\n",
       "      <td>3.000000e+02</td>\n",
       "      <td>4.917340e+03</td>\n",
       "      <td>1.847120e+03</td>\n",
       "    </tr>\n",
       "  </tbody>\n",
       "</table>\n",
       "</div>"
      ],
      "text/plain": [
       "          Ph_number   Ph_postcode           YOB        Gender           CNK  \\\n",
       "count  2.270535e+07  2.270535e+07  2.270535e+07  2.270535e+07  2.270535e+07   \n",
       "mean   8.031142e+06  3.496216e+01  1.954498e+03  1.571832e+00  1.960846e+06   \n",
       "std    1.764944e+06  2.575097e+01  3.706748e+01  5.017270e-01  1.329533e+06   \n",
       "min    3.790968e+06  0.000000e+00  0.000000e+00  0.000000e+00  1.195700e+04   \n",
       "25%    7.686732e+06  2.000000e+01  1.938000e+03  1.000000e+00  7.919960e+05   \n",
       "50%    7.905180e+06  2.400000e+01  1.951000e+03  2.000000e+00  2.055200e+06   \n",
       "75%    8.101962e+06  4.800000e+01  1.967000e+03  2.000000e+00  2.678951e+06   \n",
       "max    3.052274e+07  9.900000e+01  4.092000e+03  3.000000e+00  7.726284e+06   \n",
       "\n",
       "              Units         Price  Contribution  \n",
       "count  2.270535e+07  2.270535e+07  2.270535e+07  \n",
       "mean   4.498157e+01  2.494228e+01  4.003821e+00  \n",
       "std    4.417011e+01  9.025505e+01  7.305994e+00  \n",
       "min    0.000000e+00  0.000000e+00  0.000000e+00  \n",
       "25%    1.000000e+00  7.040000e+00  4.000000e-02  \n",
       "50%    3.000000e+01  1.156000e+01  2.140000e+00  \n",
       "75%    9.000000e+01  2.150000e+01  6.630000e+00  \n",
       "max    3.000000e+02  4.917340e+03  1.847120e+03  "
      ]
     },
     "execution_count": 7,
     "metadata": {},
     "output_type": "execute_result"
    }
   ],
   "source": [
    "df_all.describe()"
   ]
  },
  {
   "cell_type": "markdown",
   "metadata": {},
   "source": [
    "## Uni-variate analysis + data cleaning"
   ]
  },
  {
   "cell_type": "markdown",
   "metadata": {},
   "source": [
    "#### Date and Time"
   ]
  },
  {
   "cell_type": "code",
   "execution_count": 8,
   "metadata": {},
   "outputs": [],
   "source": [
    "df_all['DateTime'] = pd.to_datetime(df_all['Date'] + ' ' + df_all['Time'])\n",
    "#df_all['Date'] = "
   ]
  },
  {
   "cell_type": "code",
   "execution_count": 9,
   "metadata": {},
   "outputs": [
    {
     "data": {
      "text/plain": [
       "00:00    3418511\n",
       "10:05      39610\n",
       "10:07      39112\n",
       "10:59      38922\n",
       "10:14      38898\n",
       "          ...   \n",
       "03:56          1\n",
       "05:05          1\n",
       "04:07          1\n",
       "06:16          1\n",
       "04:47          1\n",
       "Name: Time, Length: 1413, dtype: int64"
      ]
     },
     "execution_count": 9,
     "metadata": {},
     "output_type": "execute_result"
    }
   ],
   "source": [
    "df_all['Time'].value_counts()"
   ]
  },
  {
   "cell_type": "markdown",
   "metadata": {},
   "source": [
    "#### Ph_postcode"
   ]
  },
  {
   "cell_type": "code",
   "execution_count": 10,
   "metadata": {},
   "outputs": [
    {
     "data": {
      "text/plain": [
       "(0, 99)"
      ]
     },
     "execution_count": 10,
     "metadata": {},
     "output_type": "execute_result"
    }
   ],
   "source": [
    "df_all['Ph_postcode'].min(), df_all['Ph_postcode'].max()"
   ]
  },
  {
   "cell_type": "code",
   "execution_count": 11,
   "metadata": {},
   "outputs": [
    {
     "data": {
      "image/png": "[encoded data removed]",
      "text/plain": [
       "<Figure size 432x288 with 1 Axes>"
      ]
     },
     "metadata": {
      "needs_background": "light"
     },
     "output_type": "display_data"
    }
   ],
   "source": [
    "df_all['Ph_postcode'].hist(bins=100);"
   ]
  },
  {
   "cell_type": "markdown",
   "metadata": {},
   "source": [
    "#### YOB"
   ]
  },
  {
   "cell_type": "code",
   "execution_count": 12,
   "metadata": {},
   "outputs": [
    {
     "data": {
      "image/png": "[encoded data removed]",
      "text/plain": [
       "<Figure size 432x288 with 1 Axes>"
      ]
     },
     "metadata": {
      "needs_background": "light"
     },
     "output_type": "display_data"
    }
   ],
   "source": [
    "#df_all['YOB'].plot(kind='box');\n",
    "sns.boxplot(y='YOB',data=df_all);"
   ]
  },
  {
   "cell_type": "code",
   "execution_count": 13,
   "metadata": {},
   "outputs": [
    {
     "data": {
      "text/plain": [
       "0           False\n",
       "1           False\n",
       "2           False\n",
       "3           False\n",
       "4           False\n",
       "            ...  \n",
       "22705343    False\n",
       "22705344    False\n",
       "22705345    False\n",
       "22705346    False\n",
       "22705347    False\n",
       "Name: YOB, Length: 22705348, dtype: bool"
      ]
     },
     "execution_count": 13,
     "metadata": {},
     "output_type": "execute_result"
    }
   ],
   "source": [
    "b_ghosts = ( (df_all['YOB'] < 1900) | (df_all['YOB'] > 2020) )\n",
    "b_ghosts"
   ]
  },
  {
   "cell_type": "code",
   "execution_count": 14,
   "metadata": {},
   "outputs": [
    {
     "name": "stdout",
     "output_type": "stream",
     "text": [
      "There are 81612 records (that is, 0.36% of the whole dataset) with persons that cannot be alive now.\n"
     ]
    }
   ],
   "source": [
    "df_ghosts = df_all[b_ghosts]\n",
    "\n",
    "nghosts = df_ghosts.shape[0]\n",
    "\n",
    "ntotal = df_all.shape[0]\n",
    "\n",
    "print(\"There are {} records (that is, {}% of the whole dataset) with persons that cannot be alive now.\"\n",
    "      .format(nghosts,round((nghosts/ntotal)*100,2)))"
   ]
  },
  {
   "cell_type": "code",
   "execution_count": 16,
   "metadata": {},
   "outputs": [
    {
     "data": {
      "text/html": [
       "<div>\n",
       "<style scoped>\n",
       "    .dataframe tbody tr th:only-of-type {\n",
       "        vertical-align: middle;\n",
       "    }\n",
       "\n",
       "    .dataframe tbody tr th {\n",
       "        vertical-align: top;\n",
       "    }\n",
       "\n",
       "    .dataframe thead th {\n",
       "        text-align: right;\n",
       "    }\n",
       "</style>\n",
       "<table border=\"1\" class=\"dataframe\">\n",
       "  <thead>\n",
       "    <tr style=\"text-align: right;\">\n",
       "      <th></th>\n",
       "      <th>Date</th>\n",
       "      <th>Time</th>\n",
       "      <th>Ph_number</th>\n",
       "      <th>Ph_postcode</th>\n",
       "      <th>YOB</th>\n",
       "      <th>Gender</th>\n",
       "      <th>CNK</th>\n",
       "      <th>Product</th>\n",
       "      <th>ATC</th>\n",
       "      <th>Units</th>\n",
       "      <th>Price</th>\n",
       "      <th>Contribution</th>\n",
       "      <th>DateTime</th>\n",
       "    </tr>\n",
       "  </thead>\n",
       "  <tbody>\n",
       "    <tr>\n",
       "      <td>0</td>\n",
       "      <td>01/01/2017</td>\n",
       "      <td>00:00</td>\n",
       "      <td>7341765</td>\n",
       "      <td>21</td>\n",
       "      <td>1924</td>\n",
       "      <td>1</td>\n",
       "      <td>1715119</td>\n",
       "      <td>AMOXICLAV SANDOZ 500MG/125 MG COMP 30</td>\n",
       "      <td>J01CR02</td>\n",
       "      <td>30</td>\n",
       "      <td>14.81</td>\n",
       "      <td>3.47</td>\n",
       "      <td>2017-01-01</td>\n",
       "    </tr>\n",
       "    <tr>\n",
       "      <td>1</td>\n",
       "      <td>01/01/2017</td>\n",
       "      <td>00:00</td>\n",
       "      <td>7341765</td>\n",
       "      <td>21</td>\n",
       "      <td>1922</td>\n",
       "      <td>1</td>\n",
       "      <td>5520523</td>\n",
       "      <td>WACHTHONORARIUM</td>\n",
       "      <td></td>\n",
       "      <td>0</td>\n",
       "      <td>4.90</td>\n",
       "      <td>0.00</td>\n",
       "      <td>2017-01-01</td>\n",
       "    </tr>\n",
       "    <tr>\n",
       "      <td>2</td>\n",
       "      <td>01/01/2017</td>\n",
       "      <td>00:00</td>\n",
       "      <td>7341765</td>\n",
       "      <td>21</td>\n",
       "      <td>1925</td>\n",
       "      <td>1</td>\n",
       "      <td>1799931</td>\n",
       "      <td>ZALDIAR 37,5 MG/325 MG FILMOMH TABL 20</td>\n",
       "      <td>N02AJ13</td>\n",
       "      <td>20</td>\n",
       "      <td>9.26</td>\n",
       "      <td>3.62</td>\n",
       "      <td>2017-01-01</td>\n",
       "    </tr>\n",
       "    <tr>\n",
       "      <td>3</td>\n",
       "      <td>01/01/2017</td>\n",
       "      <td>00:00</td>\n",
       "      <td>8272695</td>\n",
       "      <td>16</td>\n",
       "      <td>1932</td>\n",
       "      <td>2</td>\n",
       "      <td>1719400</td>\n",
       "      <td>VASEXTEN CAPS BLIST 28 X 10 MG</td>\n",
       "      <td>C08CA12</td>\n",
       "      <td>28</td>\n",
       "      <td>19.22</td>\n",
       "      <td>4.98</td>\n",
       "      <td>2017-01-01</td>\n",
       "    </tr>\n",
       "    <tr>\n",
       "      <td>4</td>\n",
       "      <td>01/01/2017</td>\n",
       "      <td>00:00</td>\n",
       "      <td>8272695</td>\n",
       "      <td>16</td>\n",
       "      <td>1933</td>\n",
       "      <td>2</td>\n",
       "      <td>5520523</td>\n",
       "      <td>WACHTHONORARIUM</td>\n",
       "      <td></td>\n",
       "      <td>0</td>\n",
       "      <td>4.90</td>\n",
       "      <td>0.00</td>\n",
       "      <td>2017-01-01</td>\n",
       "    </tr>\n",
       "  </tbody>\n",
       "</table>\n",
       "</div>"
      ],
      "text/plain": [
       "         Date   Time  Ph_number  Ph_postcode   YOB  Gender      CNK  \\\n",
       "0  01/01/2017  00:00    7341765           21  1924       1  1715119   \n",
       "1  01/01/2017  00:00    7341765           21  1922       1  5520523   \n",
       "2  01/01/2017  00:00    7341765           21  1925       1  1799931   \n",
       "3  01/01/2017  00:00    8272695           16  1932       2  1719400   \n",
       "4  01/01/2017  00:00    8272695           16  1933       2  5520523   \n",
       "\n",
       "                                  Product      ATC  Units  Price  \\\n",
       "0   AMOXICLAV SANDOZ 500MG/125 MG COMP 30  J01CR02     30  14.81   \n",
       "1                         WACHTHONORARIUM               0   4.90   \n",
       "2  ZALDIAR 37,5 MG/325 MG FILMOMH TABL 20  N02AJ13     20   9.26   \n",
       "3          VASEXTEN CAPS BLIST 28 X 10 MG  C08CA12     28  19.22   \n",
       "4                         WACHTHONORARIUM               0   4.90   \n",
       "\n",
       "   Contribution   DateTime  \n",
       "0          3.47 2017-01-01  \n",
       "1          0.00 2017-01-01  \n",
       "2          3.62 2017-01-01  \n",
       "3          4.98 2017-01-01  \n",
       "4          0.00 2017-01-01  "
      ]
     },
     "execution_count": 16,
     "metadata": {},
     "output_type": "execute_result"
    }
   ],
   "source": [
    "df_all.head(5)"
   ]
  },
  {
   "cell_type": "code",
   "execution_count": 17,
   "metadata": {
    "scrolled": true
   },
   "outputs": [
    {
     "data": {
      "text/plain": [
       "(22623736, 13)"
      ]
     },
     "execution_count": 17,
     "metadata": {},
     "output_type": "execute_result"
    }
   ],
   "source": [
    "df_all.drop ( df_all[b_ghosts].index, inplace=True )\n",
    "df_all.reset_index(drop=True,inplace=True)\n",
    "\n",
    "df_all.shape"
   ]
  },
  {
   "cell_type": "code",
   "execution_count": 18,
   "metadata": {},
   "outputs": [
    {
     "data": {
      "text/html": [
       "<div>\n",
       "<style scoped>\n",
       "    .dataframe tbody tr th:only-of-type {\n",
       "        vertical-align: middle;\n",
       "    }\n",
       "\n",
       "    .dataframe tbody tr th {\n",
       "        vertical-align: top;\n",
       "    }\n",
       "\n",
       "    .dataframe thead th {\n",
       "        text-align: right;\n",
       "    }\n",
       "</style>\n",
       "<table border=\"1\" class=\"dataframe\">\n",
       "  <thead>\n",
       "    <tr style=\"text-align: right;\">\n",
       "      <th></th>\n",
       "      <th>Date</th>\n",
       "      <th>Time</th>\n",
       "      <th>Ph_number</th>\n",
       "      <th>Ph_postcode</th>\n",
       "      <th>YOB</th>\n",
       "      <th>Gender</th>\n",
       "      <th>CNK</th>\n",
       "      <th>Product</th>\n",
       "      <th>ATC</th>\n",
       "      <th>Units</th>\n",
       "      <th>Price</th>\n",
       "      <th>Contribution</th>\n",
       "      <th>DateTime</th>\n",
       "    </tr>\n",
       "  </thead>\n",
       "  <tbody>\n",
       "    <tr>\n",
       "      <td>22623734</td>\n",
       "      <td>12/31/2019</td>\n",
       "      <td>23:56</td>\n",
       "      <td>7068483</td>\n",
       "      <td>90</td>\n",
       "      <td>1962</td>\n",
       "      <td>2</td>\n",
       "      <td>2139137</td>\n",
       "      <td>FLOCATH QUICK SONDE INTERM.+AUTOLUB. CH14 20CM 30</td>\n",
       "      <td></td>\n",
       "      <td>0</td>\n",
       "      <td>81.81</td>\n",
       "      <td>0.0</td>\n",
       "      <td>2019-12-31 23:56:00</td>\n",
       "    </tr>\n",
       "    <tr>\n",
       "      <td>22623735</td>\n",
       "      <td>12/31/2019</td>\n",
       "      <td>23:56</td>\n",
       "      <td>7068483</td>\n",
       "      <td>90</td>\n",
       "      <td>1962</td>\n",
       "      <td>2</td>\n",
       "      <td>2139137</td>\n",
       "      <td>FLOCATH QUICK SONDE INTERM.+AUTOLUB. CH14 20CM 30</td>\n",
       "      <td></td>\n",
       "      <td>0</td>\n",
       "      <td>81.81</td>\n",
       "      <td>0.0</td>\n",
       "      <td>2019-12-31 23:56:00</td>\n",
       "    </tr>\n",
       "  </tbody>\n",
       "</table>\n",
       "</div>"
      ],
      "text/plain": [
       "                Date   Time  Ph_number  Ph_postcode   YOB  Gender      CNK  \\\n",
       "22623734  12/31/2019  23:56    7068483           90  1962       2  2139137   \n",
       "22623735  12/31/2019  23:56    7068483           90  1962       2  2139137   \n",
       "\n",
       "                                                    Product ATC  Units  Price  \\\n",
       "22623734  FLOCATH QUICK SONDE INTERM.+AUTOLUB. CH14 20CM 30          0  81.81   \n",
       "22623735  FLOCATH QUICK SONDE INTERM.+AUTOLUB. CH14 20CM 30          0  81.81   \n",
       "\n",
       "          Contribution            DateTime  \n",
       "22623734           0.0 2019-12-31 23:56:00  \n",
       "22623735           0.0 2019-12-31 23:56:00  "
      ]
     },
     "execution_count": 18,
     "metadata": {},
     "output_type": "execute_result"
    }
   ],
   "source": [
    "df_all.tail(2)"
   ]
  },
  {
   "cell_type": "markdown",
   "metadata": {},
   "source": [
    "#### Gender"
   ]
  },
  {
   "cell_type": "code",
   "execution_count": 19,
   "metadata": {},
   "outputs": [
    {
     "data": {
      "text/plain": [
       "2    13060176\n",
       "1     9562686\n",
       "0         854\n",
       "3          20\n",
       "Name: Gender, dtype: int64"
      ]
     },
     "execution_count": 19,
     "metadata": {},
     "output_type": "execute_result"
    }
   ],
   "source": [
    "df_all['Gender'].value_counts()"
   ]
  },
  {
   "cell_type": "markdown",
   "metadata": {},
   "source": [
    "3 is a very small group, ignore (unless in focus). Or merge 0 and 3, both small. "
   ]
  },
  {
   "cell_type": "code",
   "execution_count": 20,
   "metadata": {},
   "outputs": [
    {
     "data": {
      "text/html": [
       "<div>\n",
       "<style scoped>\n",
       "    .dataframe tbody tr th:only-of-type {\n",
       "        vertical-align: middle;\n",
       "    }\n",
       "\n",
       "    .dataframe tbody tr th {\n",
       "        vertical-align: top;\n",
       "    }\n",
       "\n",
       "    .dataframe thead th {\n",
       "        text-align: right;\n",
       "    }\n",
       "</style>\n",
       "<table border=\"1\" class=\"dataframe\">\n",
       "  <thead>\n",
       "    <tr style=\"text-align: right;\">\n",
       "      <th></th>\n",
       "      <th>Date</th>\n",
       "      <th>Time</th>\n",
       "      <th>Ph_number</th>\n",
       "      <th>Ph_postcode</th>\n",
       "      <th>YOB</th>\n",
       "      <th>Gender</th>\n",
       "      <th>CNK</th>\n",
       "      <th>Product</th>\n",
       "      <th>ATC</th>\n",
       "      <th>Units</th>\n",
       "      <th>Price</th>\n",
       "      <th>Contribution</th>\n",
       "      <th>DateTime</th>\n",
       "    </tr>\n",
       "  </thead>\n",
       "  <tbody>\n",
       "    <tr>\n",
       "      <td>0</td>\n",
       "      <td>01/01/2017</td>\n",
       "      <td>00:00</td>\n",
       "      <td>7341765</td>\n",
       "      <td>21</td>\n",
       "      <td>1924</td>\n",
       "      <td>Male</td>\n",
       "      <td>1715119</td>\n",
       "      <td>AMOXICLAV SANDOZ 500MG/125 MG COMP 30</td>\n",
       "      <td>J01CR02</td>\n",
       "      <td>30</td>\n",
       "      <td>14.81</td>\n",
       "      <td>3.47</td>\n",
       "      <td>2017-01-01</td>\n",
       "    </tr>\n",
       "    <tr>\n",
       "      <td>1</td>\n",
       "      <td>01/01/2017</td>\n",
       "      <td>00:00</td>\n",
       "      <td>7341765</td>\n",
       "      <td>21</td>\n",
       "      <td>1922</td>\n",
       "      <td>Male</td>\n",
       "      <td>5520523</td>\n",
       "      <td>WACHTHONORARIUM</td>\n",
       "      <td></td>\n",
       "      <td>0</td>\n",
       "      <td>4.90</td>\n",
       "      <td>0.00</td>\n",
       "      <td>2017-01-01</td>\n",
       "    </tr>\n",
       "  </tbody>\n",
       "</table>\n",
       "</div>"
      ],
      "text/plain": [
       "         Date   Time  Ph_number  Ph_postcode   YOB Gender      CNK  \\\n",
       "0  01/01/2017  00:00    7341765           21  1924   Male  1715119   \n",
       "1  01/01/2017  00:00    7341765           21  1922   Male  5520523   \n",
       "\n",
       "                                 Product      ATC  Units  Price  Contribution  \\\n",
       "0  AMOXICLAV SANDOZ 500MG/125 MG COMP 30  J01CR02     30  14.81          3.47   \n",
       "1                        WACHTHONORARIUM               0   4.90          0.00   \n",
       "\n",
       "    DateTime  \n",
       "0 2017-01-01  \n",
       "1 2017-01-01  "
      ]
     },
     "execution_count": 20,
     "metadata": {},
     "output_type": "execute_result"
    }
   ],
   "source": [
    "dict_genders = {0:'Other', 1:'Male', 2: 'Female', 3: 'Other'}\n",
    "df_all['Gender'] = df_all['Gender'].map(dict_genders)\n",
    "df_all.head(2)"
   ]
  },
  {
   "cell_type": "code",
   "execution_count": 21,
   "metadata": {
    "scrolled": true
   },
   "outputs": [
    {
     "data": {
      "text/plain": [
       "(1900, 2020)"
      ]
     },
     "execution_count": 21,
     "metadata": {},
     "output_type": "execute_result"
    },
    {
     "data": {
      "image/png": "[encoded data removed]",
      "text/plain": [
       "<Figure size 720x360 with 1 Axes>"
      ]
     },
     "metadata": {
      "needs_background": "light"
     },
     "output_type": "display_data"
    }
   ],
   "source": [
    "plt.figure(figsize=(10,5))\n",
    "\n",
    "m_yob = df_all[df_all['Gender']=='Male']['YOB']\n",
    "f_yob = df_all[df_all['Gender']=='Female']['YOB']\n",
    "o_yob = df_all[df_all['Gender']=='Other']['YOB']\n",
    "\n",
    "ax=sns.distplot(m_yob,bins=120,hist_kws={'alpha':0.7}, norm_hist=False)\n",
    "sns.distplot(f_yob,bins=120,hist_kws={'alpha':0.7}, norm_hist=False)\n",
    "sns.distplot(o_yob,bins=120,hist_kws={'alpha':0.7}, norm_hist=False)\n",
    "\n",
    "plt.legend(['Male','Female','Other']);\n",
    "ax.set_xlim(1900,2020)"
   ]
  },
  {
   "cell_type": "markdown",
   "metadata": {},
   "source": [
    "The 'Other' category seems noisy, can also just be dropped :-)"
   ]
  },
  {
   "cell_type": "code",
   "execution_count": 22,
   "metadata": {},
   "outputs": [
    {
     "data": {
      "text/plain": [
       "(22622862, 13)"
      ]
     },
     "execution_count": 22,
     "metadata": {},
     "output_type": "execute_result"
    }
   ],
   "source": [
    "df_all.drop(df_all[df_all['Gender']=='Other'].index,inplace=True)\n",
    "df_all.reset_index(drop=True,inplace=True)\n",
    "df_all.shape"
   ]
  },
  {
   "cell_type": "code",
   "execution_count": 23,
   "metadata": {},
   "outputs": [
    {
     "data": {
      "text/html": [
       "<div>\n",
       "<style scoped>\n",
       "    .dataframe tbody tr th:only-of-type {\n",
       "        vertical-align: middle;\n",
       "    }\n",
       "\n",
       "    .dataframe tbody tr th {\n",
       "        vertical-align: top;\n",
       "    }\n",
       "\n",
       "    .dataframe thead th {\n",
       "        text-align: right;\n",
       "    }\n",
       "</style>\n",
       "<table border=\"1\" class=\"dataframe\">\n",
       "  <thead>\n",
       "    <tr style=\"text-align: right;\">\n",
       "      <th></th>\n",
       "      <th>Date</th>\n",
       "      <th>Time</th>\n",
       "      <th>Ph_number</th>\n",
       "      <th>Ph_postcode</th>\n",
       "      <th>YOB</th>\n",
       "      <th>Gender</th>\n",
       "      <th>CNK</th>\n",
       "      <th>Product</th>\n",
       "      <th>ATC</th>\n",
       "      <th>Units</th>\n",
       "      <th>Price</th>\n",
       "      <th>Contribution</th>\n",
       "      <th>DateTime</th>\n",
       "    </tr>\n",
       "  </thead>\n",
       "  <tbody>\n",
       "    <tr>\n",
       "      <td>22622860</td>\n",
       "      <td>12/31/2019</td>\n",
       "      <td>23:56</td>\n",
       "      <td>7068483</td>\n",
       "      <td>90</td>\n",
       "      <td>1962</td>\n",
       "      <td>Female</td>\n",
       "      <td>2139137</td>\n",
       "      <td>FLOCATH QUICK SONDE INTERM.+AUTOLUB. CH14 20CM 30</td>\n",
       "      <td></td>\n",
       "      <td>0</td>\n",
       "      <td>81.81</td>\n",
       "      <td>0.0</td>\n",
       "      <td>2019-12-31 23:56:00</td>\n",
       "    </tr>\n",
       "    <tr>\n",
       "      <td>22622861</td>\n",
       "      <td>12/31/2019</td>\n",
       "      <td>23:56</td>\n",
       "      <td>7068483</td>\n",
       "      <td>90</td>\n",
       "      <td>1962</td>\n",
       "      <td>Female</td>\n",
       "      <td>2139137</td>\n",
       "      <td>FLOCATH QUICK SONDE INTERM.+AUTOLUB. CH14 20CM 30</td>\n",
       "      <td></td>\n",
       "      <td>0</td>\n",
       "      <td>81.81</td>\n",
       "      <td>0.0</td>\n",
       "      <td>2019-12-31 23:56:00</td>\n",
       "    </tr>\n",
       "  </tbody>\n",
       "</table>\n",
       "</div>"
      ],
      "text/plain": [
       "                Date   Time  Ph_number  Ph_postcode   YOB  Gender      CNK  \\\n",
       "22622860  12/31/2019  23:56    7068483           90  1962  Female  2139137   \n",
       "22622861  12/31/2019  23:56    7068483           90  1962  Female  2139137   \n",
       "\n",
       "                                                    Product ATC  Units  Price  \\\n",
       "22622860  FLOCATH QUICK SONDE INTERM.+AUTOLUB. CH14 20CM 30          0  81.81   \n",
       "22622861  FLOCATH QUICK SONDE INTERM.+AUTOLUB. CH14 20CM 30          0  81.81   \n",
       "\n",
       "          Contribution            DateTime  \n",
       "22622860           0.0 2019-12-31 23:56:00  \n",
       "22622861           0.0 2019-12-31 23:56:00  "
      ]
     },
     "execution_count": 23,
     "metadata": {},
     "output_type": "execute_result"
    }
   ],
   "source": [
    "df_all.tail(2)"
   ]
  },
  {
   "cell_type": "markdown",
   "metadata": {},
   "source": [
    "#### Product"
   ]
  },
  {
   "cell_type": "code",
   "execution_count": 24,
   "metadata": {},
   "outputs": [
    {
     "data": {
      "text/html": [
       "<div>\n",
       "<style scoped>\n",
       "    .dataframe tbody tr th:only-of-type {\n",
       "        vertical-align: middle;\n",
       "    }\n",
       "\n",
       "    .dataframe tbody tr th {\n",
       "        vertical-align: top;\n",
       "    }\n",
       "\n",
       "    .dataframe thead th {\n",
       "        text-align: right;\n",
       "    }\n",
       "</style>\n",
       "<table border=\"1\" class=\"dataframe\">\n",
       "  <thead>\n",
       "    <tr style=\"text-align: right;\">\n",
       "      <th></th>\n",
       "      <th>CNK</th>\n",
       "      <th>Product</th>\n",
       "      <th>Counts</th>\n",
       "    </tr>\n",
       "  </thead>\n",
       "  <tbody>\n",
       "    <tr>\n",
       "      <td>9470</td>\n",
       "      <td>5520465</td>\n",
       "      <td>HONORARIUM PER WEEK PER RUSTOORDBEWONER ROB-RVT</td>\n",
       "      <td>424557</td>\n",
       "    </tr>\n",
       "    <tr>\n",
       "      <td>5030</td>\n",
       "      <td>2542488</td>\n",
       "      <td>ASAFLOW  80MG MAAGSAPRES COMP BLI 168X 80MG</td>\n",
       "      <td>335563</td>\n",
       "    </tr>\n",
       "    <tr>\n",
       "      <td>1814</td>\n",
       "      <td>789537</td>\n",
       "      <td>ASAFLOW COMP  1 X  80 MG</td>\n",
       "      <td>189579</td>\n",
       "    </tr>\n",
       "    <tr>\n",
       "      <td>9471</td>\n",
       "      <td>5520523</td>\n",
       "      <td>WACHTHONORARIUM</td>\n",
       "      <td>175151</td>\n",
       "    </tr>\n",
       "    <tr>\n",
       "      <td>5117</td>\n",
       "      <td>2557163</td>\n",
       "      <td>PANTOMED  40 MG TABL  56</td>\n",
       "      <td>168337</td>\n",
       "    </tr>\n",
       "  </tbody>\n",
       "</table>\n",
       "</div>"
      ],
      "text/plain": [
       "          CNK                                          Product  Counts\n",
       "9470  5520465  HONORARIUM PER WEEK PER RUSTOORDBEWONER ROB-RVT  424557\n",
       "5030  2542488      ASAFLOW  80MG MAAGSAPRES COMP BLI 168X 80MG  335563\n",
       "1814   789537                         ASAFLOW COMP  1 X  80 MG  189579\n",
       "9471  5520523                                  WACHTHONORARIUM  175151\n",
       "5117  2557163                         PANTOMED  40 MG TABL  56  168337"
      ]
     },
     "execution_count": 24,
     "metadata": {},
     "output_type": "execute_result"
    }
   ],
   "source": [
    "df_products = df_all.groupby(['CNK','Product'])['Gender'].count().reset_index()\n",
    "\n",
    "df_products.columns=['CNK','Product','Counts']\n",
    "df_products.sort_values(by='Counts',ascending=False,inplace=True)\n",
    "df_products.head()"
   ]
  },
  {
   "cell_type": "markdown",
   "metadata": {},
   "source": [
    "## Make the dataset smaller"
   ]
  },
  {
   "cell_type": "markdown",
   "metadata": {},
   "source": [
    "#### AREA 20"
   ]
  },
  {
   "cell_type": "code",
   "execution_count": 26,
   "metadata": {
    "scrolled": true
   },
   "outputs": [
    {
     "data": {
      "text/plain": [
       "(4403544, 14)"
      ]
     },
     "execution_count": 26,
     "metadata": {},
     "output_type": "execute_result"
    }
   ],
   "source": [
    "df_nguyen_filter = df_all[(df_all['Ph_postcode']==20)].reset_index(drop=True) \n",
    "df_nguyen_filter.shape"
   ]
  },
  {
   "cell_type": "code",
   "execution_count": 28,
   "metadata": {},
   "outputs": [
    {
     "data": {
      "text/html": [
       "<div>\n",
       "<style scoped>\n",
       "    .dataframe tbody tr th:only-of-type {\n",
       "        vertical-align: middle;\n",
       "    }\n",
       "\n",
       "    .dataframe tbody tr th {\n",
       "        vertical-align: top;\n",
       "    }\n",
       "\n",
       "    .dataframe thead th {\n",
       "        text-align: right;\n",
       "    }\n",
       "</style>\n",
       "<table border=\"1\" class=\"dataframe\">\n",
       "  <thead>\n",
       "    <tr style=\"text-align: right;\">\n",
       "      <th></th>\n",
       "      <th>Date</th>\n",
       "      <th>Time</th>\n",
       "      <th>Ph_number</th>\n",
       "      <th>Ph_postcode</th>\n",
       "      <th>YOB</th>\n",
       "      <th>Gender</th>\n",
       "      <th>CNK</th>\n",
       "      <th>Product</th>\n",
       "      <th>ATC</th>\n",
       "      <th>Units</th>\n",
       "      <th>Price</th>\n",
       "      <th>Contribution</th>\n",
       "      <th>DateTime</th>\n",
       "      <th>ProductType</th>\n",
       "    </tr>\n",
       "  </thead>\n",
       "  <tbody>\n",
       "    <tr>\n",
       "      <td>0</td>\n",
       "      <td>08/25/2017</td>\n",
       "      <td>17:00</td>\n",
       "      <td>8027226</td>\n",
       "      <td>20</td>\n",
       "      <td>1990</td>\n",
       "      <td>Male</td>\n",
       "      <td>1201078</td>\n",
       "      <td>LOCOID CRELO EMULS 100ML 1MG/G</td>\n",
       "      <td>D07AB02</td>\n",
       "      <td>1</td>\n",
       "      <td>11.69</td>\n",
       "      <td>2.46</td>\n",
       "      <td>2017-08-25 17:00:00</td>\n",
       "      <td>NaN</td>\n",
       "    </tr>\n",
       "    <tr>\n",
       "      <td>1</td>\n",
       "      <td>07/31/2017</td>\n",
       "      <td>NaN</td>\n",
       "      <td>7802280</td>\n",
       "      <td>20</td>\n",
       "      <td>1938</td>\n",
       "      <td>Male</td>\n",
       "      <td>789537</td>\n",
       "      <td>ASAFLOW COMP  1 X  80 MG</td>\n",
       "      <td>B01AC06</td>\n",
       "      <td>0</td>\n",
       "      <td>0.03</td>\n",
       "      <td>0.01</td>\n",
       "      <td>NaT</td>\n",
       "      <td>NaN</td>\n",
       "    </tr>\n",
       "  </tbody>\n",
       "</table>\n",
       "</div>"
      ],
      "text/plain": [
       "         Date   Time  Ph_number  Ph_postcode   YOB Gender      CNK  \\\n",
       "0  08/25/2017  17:00    8027226           20  1990   Male  1201078   \n",
       "1  07/31/2017    NaN    7802280           20  1938   Male   789537   \n",
       "\n",
       "                          Product      ATC  Units  Price  Contribution  \\\n",
       "0  LOCOID CRELO EMULS 100ML 1MG/G  D07AB02      1  11.69          2.46   \n",
       "1        ASAFLOW COMP  1 X  80 MG  B01AC06      0   0.03          0.01   \n",
       "\n",
       "             DateTime ProductType  \n",
       "0 2017-08-25 17:00:00         NaN  \n",
       "1                 NaT         NaN  "
      ]
     },
     "execution_count": 28,
     "metadata": {},
     "output_type": "execute_result"
    }
   ],
   "source": [
    "df_s = df_nguyen_filter.sample(1000).reset_index(drop=True)\n",
    "df_s.head(2)"
   ]
  },
  {
   "cell_type": "code",
   "execution_count": 29,
   "metadata": {},
   "outputs": [
    {
     "data": {
      "text/html": [
       "<div>\n",
       "<style scoped>\n",
       "    .dataframe tbody tr th:only-of-type {\n",
       "        vertical-align: middle;\n",
       "    }\n",
       "\n",
       "    .dataframe tbody tr th {\n",
       "        vertical-align: top;\n",
       "    }\n",
       "\n",
       "    .dataframe thead th {\n",
       "        text-align: right;\n",
       "    }\n",
       "</style>\n",
       "<table border=\"1\" class=\"dataframe\">\n",
       "  <thead>\n",
       "    <tr style=\"text-align: right;\">\n",
       "      <th></th>\n",
       "      <th>Date</th>\n",
       "      <th>Time</th>\n",
       "      <th>Ph_number</th>\n",
       "      <th>Ph_postcode</th>\n",
       "      <th>YOB</th>\n",
       "      <th>Gender</th>\n",
       "      <th>CNK</th>\n",
       "      <th>Product</th>\n",
       "      <th>ATC</th>\n",
       "      <th>Units</th>\n",
       "      <th>Price</th>\n",
       "      <th>Contribution</th>\n",
       "      <th>DateTime</th>\n",
       "      <th>ProductType</th>\n",
       "    </tr>\n",
       "  </thead>\n",
       "  <tbody>\n",
       "    <tr>\n",
       "      <td>0</td>\n",
       "      <td>08/25/2017</td>\n",
       "      <td>17:00</td>\n",
       "      <td>8027226</td>\n",
       "      <td>20</td>\n",
       "      <td>1990</td>\n",
       "      <td>Male</td>\n",
       "      <td>1201078</td>\n",
       "      <td>LOCOID CRELO EMULS 100ML 1MG/G</td>\n",
       "      <td>D07AB02</td>\n",
       "      <td>1</td>\n",
       "      <td>11.69</td>\n",
       "      <td>2.46</td>\n",
       "      <td>2017-08-25 17:00:00</td>\n",
       "      <td>Pills</td>\n",
       "    </tr>\n",
       "    <tr>\n",
       "      <td>1</td>\n",
       "      <td>07/31/2017</td>\n",
       "      <td>NaN</td>\n",
       "      <td>7802280</td>\n",
       "      <td>20</td>\n",
       "      <td>1938</td>\n",
       "      <td>Male</td>\n",
       "      <td>789537</td>\n",
       "      <td>ASAFLOW COMP  1 X  80 MG</td>\n",
       "      <td>B01AC06</td>\n",
       "      <td>0</td>\n",
       "      <td>0.03</td>\n",
       "      <td>0.01</td>\n",
       "      <td>NaT</td>\n",
       "      <td>Pills</td>\n",
       "    </tr>\n",
       "    <tr>\n",
       "      <td>2</td>\n",
       "      <td>10/10/2019</td>\n",
       "      <td>18:35</td>\n",
       "      <td>4038423</td>\n",
       "      <td>20</td>\n",
       "      <td>1961</td>\n",
       "      <td>Male</td>\n",
       "      <td>468801</td>\n",
       "      <td>PROPRANOLOL EG COMP 100 X 40 MG</td>\n",
       "      <td>C07AA05</td>\n",
       "      <td>100</td>\n",
       "      <td>8.27</td>\n",
       "      <td>1.20</td>\n",
       "      <td>2019-10-10 18:35:00</td>\n",
       "      <td>Pills</td>\n",
       "    </tr>\n",
       "    <tr>\n",
       "      <td>3</td>\n",
       "      <td>07/08/2019</td>\n",
       "      <td>NaN</td>\n",
       "      <td>7981035</td>\n",
       "      <td>20</td>\n",
       "      <td>1936</td>\n",
       "      <td>Male</td>\n",
       "      <td>5520465</td>\n",
       "      <td>HONORARIUM PER WEEK PER RUSTOORDBEWONER ROB-RVT</td>\n",
       "      <td></td>\n",
       "      <td>0</td>\n",
       "      <td>3.14</td>\n",
       "      <td>0.00</td>\n",
       "      <td>NaT</td>\n",
       "      <td>Honorarium</td>\n",
       "    </tr>\n",
       "    <tr>\n",
       "      <td>4</td>\n",
       "      <td>05/29/2019</td>\n",
       "      <td>12:48</td>\n",
       "      <td>9093729</td>\n",
       "      <td>20</td>\n",
       "      <td>1962</td>\n",
       "      <td>Female</td>\n",
       "      <td>40394</td>\n",
       "      <td>EUMOVATE CREME 1 X 30 G  0,05%</td>\n",
       "      <td>D07AB01</td>\n",
       "      <td>1</td>\n",
       "      <td>9.13</td>\n",
       "      <td>1.58</td>\n",
       "      <td>2019-05-29 12:48:00</td>\n",
       "      <td>Pills</td>\n",
       "    </tr>\n",
       "  </tbody>\n",
       "</table>\n",
       "</div>"
      ],
      "text/plain": [
       "         Date   Time  Ph_number  Ph_postcode   YOB  Gender      CNK  \\\n",
       "0  08/25/2017  17:00    8027226           20  1990    Male  1201078   \n",
       "1  07/31/2017    NaN    7802280           20  1938    Male   789537   \n",
       "2  10/10/2019  18:35    4038423           20  1961    Male   468801   \n",
       "3  07/08/2019    NaN    7981035           20  1936    Male  5520465   \n",
       "4  05/29/2019  12:48    9093729           20  1962  Female    40394   \n",
       "\n",
       "                                           Product      ATC  Units  Price  \\\n",
       "0                   LOCOID CRELO EMULS 100ML 1MG/G  D07AB02      1  11.69   \n",
       "1                         ASAFLOW COMP  1 X  80 MG  B01AC06      0   0.03   \n",
       "2                  PROPRANOLOL EG COMP 100 X 40 MG  C07AA05    100   8.27   \n",
       "3  HONORARIUM PER WEEK PER RUSTOORDBEWONER ROB-RVT               0   3.14   \n",
       "4                   EUMOVATE CREME 1 X 30 G  0,05%  D07AB01      1   9.13   \n",
       "\n",
       "   Contribution            DateTime ProductType  \n",
       "0          2.46 2017-08-25 17:00:00       Pills  \n",
       "1          0.01                 NaT       Pills  \n",
       "2          1.20 2019-10-10 18:35:00       Pills  \n",
       "3          0.00                 NaT  Honorarium  \n",
       "4          1.58 2019-05-29 12:48:00       Pills  "
      ]
     },
     "execution_count": 29,
     "metadata": {},
     "output_type": "execute_result"
    }
   ],
   "source": [
    "for i in range(0, len(df_s)):\n",
    "    if ('honorarium' in df_s.loc[i, 'Product'].lower()): \n",
    "        df_s.loc[i, 'ProductType'] = 'Honorarium'\n",
    "    else:\n",
    "        df_s.loc[i, 'ProductType'] = 'Pills'\n",
    "\n",
    "df_s.head()"
   ]
  },
  {
   "cell_type": "markdown",
   "metadata": {},
   "source": [
    "## Comparison plots"
   ]
  },
  {
   "cell_type": "markdown",
   "metadata": {},
   "source": [
    "Which is more expensive, medication or honorarium?"
   ]
  },
  {
   "cell_type": "code",
   "execution_count": 30,
   "metadata": {},
   "outputs": [
    {
     "data": {
      "image/png": "[encoded data removed]",
      "text/plain": [
       "<Figure size 720x288 with 1 Axes>"
      ]
     },
     "metadata": {
      "needs_background": "light"
     },
     "output_type": "display_data"
    }
   ],
   "source": [
    "plt.figure(figsize=(10,4))\n",
    "sns.barplot(x='ProductType', y='Price', data=df_s);"
   ]
  },
  {
   "cell_type": "markdown",
   "metadata": {},
   "source": [
    "Most expensive products? top 10 .."
   ]
  },
  {
   "cell_type": "code",
   "execution_count": 31,
   "metadata": {},
   "outputs": [],
   "source": [
    "df_price_top10 = df_s.sort_values(by='Price',ascending=False).head(10)"
   ]
  },
  {
   "cell_type": "code",
   "execution_count": 32,
   "metadata": {},
   "outputs": [
    {
     "data": {
      "text/plain": [
       "<matplotlib.axes._subplots.AxesSubplot at 0x171eb8b6948>"
      ]
     },
     "execution_count": 32,
     "metadata": {},
     "output_type": "execute_result"
    },
    {
     "data": {
      "image/png": "[encoded data removed]",
      "text/plain": [
       "<Figure size 432x288 with 1 Axes>"
      ]
     },
     "metadata": {
      "needs_background": "light"
     },
     "output_type": "display_data"
    }
   ],
   "source": [
    "df_price_top10.set_index('Product',inplace=True)\n",
    "dfp=df_price_top10[['Price','Contribution']]\n",
    "dfp.plot.bar()"
   ]
  },
  {
   "cell_type": "markdown",
   "metadata": {},
   "source": [
    "## Correlation plots"
   ]
  },
  {
   "cell_type": "code",
   "execution_count": 33,
   "metadata": {},
   "outputs": [
    {
     "data": {
      "image/png": "[encoded data removed]",
      "text/plain": [
       "<Figure size 720x720 with 1 Axes>"
      ]
     },
     "metadata": {
      "needs_background": "light"
     },
     "output_type": "display_data"
    }
   ],
   "source": [
    "ax=plt.figure(figsize=(10,10))\n",
    "sns.scatterplot(x='Price', y='Contribution', hue='Gender',data=df_s);"
   ]
  },
  {
   "cell_type": "markdown",
   "metadata": {},
   "source": [
    "## Timelines"
   ]
  },
  {
   "cell_type": "code",
   "execution_count": 34,
   "metadata": {},
   "outputs": [
    {
     "data": {
      "text/html": [
       "<div>\n",
       "<style scoped>\n",
       "    .dataframe tbody tr th:only-of-type {\n",
       "        vertical-align: middle;\n",
       "    }\n",
       "\n",
       "    .dataframe tbody tr th {\n",
       "        vertical-align: top;\n",
       "    }\n",
       "\n",
       "    .dataframe thead th {\n",
       "        text-align: right;\n",
       "    }\n",
       "</style>\n",
       "<table border=\"1\" class=\"dataframe\">\n",
       "  <thead>\n",
       "    <tr style=\"text-align: right;\">\n",
       "      <th></th>\n",
       "      <th>Price</th>\n",
       "    </tr>\n",
       "    <tr>\n",
       "      <th>DateTime</th>\n",
       "      <th></th>\n",
       "    </tr>\n",
       "  </thead>\n",
       "  <tbody>\n",
       "    <tr>\n",
       "      <td>2017-01-02 15:20:00</td>\n",
       "      <td>6.65</td>\n",
       "    </tr>\n",
       "    <tr>\n",
       "      <td>2017-01-03 17:54:00</td>\n",
       "      <td>9.91</td>\n",
       "    </tr>\n",
       "    <tr>\n",
       "      <td>2017-01-03 18:03:00</td>\n",
       "      <td>6.97</td>\n",
       "    </tr>\n",
       "    <tr>\n",
       "      <td>2017-01-04 10:40:00</td>\n",
       "      <td>13.09</td>\n",
       "    </tr>\n",
       "    <tr>\n",
       "      <td>2017-01-05 15:05:00</td>\n",
       "      <td>24.34</td>\n",
       "    </tr>\n",
       "  </tbody>\n",
       "</table>\n",
       "</div>"
      ],
      "text/plain": [
       "                     Price\n",
       "DateTime                  \n",
       "2017-01-02 15:20:00   6.65\n",
       "2017-01-03 17:54:00   9.91\n",
       "2017-01-03 18:03:00   6.97\n",
       "2017-01-04 10:40:00  13.09\n",
       "2017-01-05 15:05:00  24.34"
      ]
     },
     "execution_count": 34,
     "metadata": {},
     "output_type": "execute_result"
    }
   ],
   "source": [
    "df_sales=df_s.groupby(['DateTime'])['Price'].sum().reset_index()\n",
    "df_sales.set_index('DateTime',inplace=True)\n",
    "df_sales.head()"
   ]
  },
  {
   "cell_type": "code",
   "execution_count": 35,
   "metadata": {},
   "outputs": [
    {
     "data": {
      "image/png": "[encoded data removed]",
      "text/plain": [
       "<Figure size 1080x720 with 2 Axes>"
      ]
     },
     "metadata": {
      "needs_background": "light"
     },
     "output_type": "display_data"
    }
   ],
   "source": [
    "fig, ax = plt.subplots(2, 1,figsize=(15,10))\n",
    "df_sales['Price'].plot(ax=ax[0],color=\"#4C72B0\")\n",
    "ax[0].set_title(\"Sales\")\n",
    "ax[0].legend([\"area 20\"])\n",
    "\n",
    "df_sales['rp']=df_sales['Price'].rolling(10).mean()\n",
    "df_sales['rp'].plot(ax=ax[1],color=\"#4C72B0\")\n",
    "ax[1].set_title(\"Rolling Sales\")\n",
    "ax[1].legend([\"area 20\"]);"
   ]
  },
  {
   "cell_type": "code",
   "execution_count": 36,
   "metadata": {},
   "outputs": [
    {
     "data": {
      "text/plain": [
       "(1910, 2020)"
      ]
     },
     "execution_count": 36,
     "metadata": {},
     "output_type": "execute_result"
    },
    {
     "data": {
      "image/png": "[encoded data removed]",
      "text/plain": [
       "<Figure size 432x288 with 1 Axes>"
      ]
     },
     "metadata": {},
     "output_type": "display_data"
    }
   ],
   "source": [
    "m_yob = df_nguyen_filter[df_nguyen_filter['Gender']=='Male']\n",
    "f_yob = df_nguyen_filter[df_nguyen_filter['Gender']=='Female']\n",
    "\n",
    "sns.set_style(\"darkgrid\")\n",
    "\n",
    "ax = sns.distplot(m_yob[['YOB']], bins = 120)\n",
    "sns.distplot(f_yob[['YOB']], bins = 120)\n",
    "\n",
    "plt.legend(['Male','Female','Neutral']);\n",
    "plt.title('Year of Birth base on Gender')\n",
    "plt.xlabel('Year of Birth')\n",
    "plt.xlim(1910, 2020)"
   ]
  },
  {
   "cell_type": "code",
   "execution_count": null,
   "metadata": {},
   "outputs": [],
   "source": []
  }
 ],
 "metadata": {
  "kernelspec": {
   "display_name": "Python 3",
   "language": "python",
   "name": "python3"
  },
  "language_info": {
   "codemirror_mode": {
    "name": "ipython",
    "version": 3
   },
   "file_extension": ".py",
   "mimetype": "text/x-python",
   "name": "python",
   "nbconvert_exporter": "python",
   "pygments_lexer": "ipython3",
   "version": "3.7.4"
  }
 },
 "nbformat": 4,
 "nbformat_minor": 1
}
