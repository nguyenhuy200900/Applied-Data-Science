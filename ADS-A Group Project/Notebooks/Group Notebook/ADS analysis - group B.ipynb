{
 "cells": [
  {
   "cell_type": "markdown",
   "metadata": {
    "papermill": {
     "duration": 0.085201,
     "end_time": "2020-10-26T01:43:35.812610",
     "exception": false,
     "start_time": "2020-10-26T01:43:35.727409",
     "status": "completed"
    },
    "tags": []
   },
   "source": [
    "*ADS-A Proftask - Group B*\n",
    "\n",
    "# Data Analysis: Informa\n",
    "\n",
    "## Introduction\n",
    "\n",
    "For this project it is expected that we can show where the money is in the data. Therefore questions like, where the organizations improve or how to increase the upsell could be answered when analyzing the data. Comparisons could also be useful, so we could show which pharmacists are underachieving compared to others and why.\n",
    "\n",
    "The objective for this project is to give insight to the pharmacist. To do so, we are going to analyse the dataset. Our goal for the pharmacist is to be prepared for the particular “illness season”, so not only that the pharmacist can be prepared for the amount of medications but also to be able to improve their services for their patients during that season. To do so, analyzing the most sold medicine we can understand what illness appears the most in the region by the season\n",
    "of the year. \n",
    "\n",
    "## 1.Loading Libraries\n",
    "\n",
    "The first thing we do is import all the neccessary libraries that are going to be used to analyse the data."
   ]
  },
  {
   "cell_type": "code",
   "execution_count": 1,
   "metadata": {
    "_cell_guid": "b1076dfc-b9ad-4769-8c92-a6c4dae69d19",
    "_uuid": "8f2839f25d086af736a60e9eeb907d3b93b6e0e5",
    "execution": {
     "iopub.execute_input": "2020-10-26T01:43:35.990637Z",
     "iopub.status.busy": "2020-10-26T01:43:35.989745Z",
     "iopub.status.idle": "2020-10-26T01:43:37.128924Z",
     "shell.execute_reply": "2020-10-26T01:43:37.128182Z"
    },
    "papermill": {
     "duration": 1.231712,
     "end_time": "2020-10-26T01:43:37.129091",
     "exception": false,
     "start_time": "2020-10-26T01:43:35.897379",
     "status": "completed"
    },
    "tags": []
   },
   "outputs": [],
   "source": [
    "import numpy as np\n",
    "import datetime\n",
    "import pandas as pd\n",
    "import pylab as pyl\n",
    "\n",
    "import matplotlib as mpl\n",
    "from matplotlib import pyplot as plt\n",
    "\n",
    "import seaborn as sns\n",
    "sns.set()\n",
    "\n",
    "%matplotlib inline "
   ]
  },
  {
   "cell_type": "markdown",
   "metadata": {
    "papermill": {
     "duration": 0.084045,
     "end_time": "2020-10-26T01:43:37.297909",
     "exception": false,
     "start_time": "2020-10-26T01:43:37.213864",
     "status": "completed"
    },
    "tags": []
   },
   "source": [
    "## 2.Loading CSV Data \n",
    "\n",
    "With the code below we can import the csv files to the notebook. After reading the CSV files, we merge the CSV files together."
   ]
  },
  {
   "cell_type": "code",
   "execution_count": 2,
   "metadata": {
    "execution": {
     "iopub.execute_input": "2020-10-26T01:43:37.475597Z",
     "iopub.status.busy": "2020-10-26T01:43:37.474838Z",
     "iopub.status.idle": "2020-10-26T01:44:57.463540Z",
     "shell.execute_reply": "2020-10-26T01:44:57.462828Z"
    },
    "papermill": {
     "duration": 80.08277,
     "end_time": "2020-10-26T01:44:57.463671",
     "exception": false,
     "start_time": "2020-10-26T01:43:37.380901",
     "status": "completed"
    },
    "tags": []
   },
   "outputs": [],
   "source": [
    "df1 = pd.read_csv('../input/informadataset/ds-1.csv')\n",
    "df2 = pd.read_csv('../input/informadataset/ds-2.csv')\n",
    "df3 = pd.read_csv('../input/informadataset/ds-3.csv')\n",
    "df4 = pd.read_csv('../input/informadataset/ds-4.csv')\n",
    "df5 = pd.read_csv('../input/informadataset/ds-5.csv')\n",
    "df6 = pd.read_csv('../input/informadataset/ds-6.csv')\n",
    "df7 = pd.read_csv('../input/informadataset/ds-7.csv')\n",
    "df8 = pd.read_csv('../input/informadataset/ds-8.csv')\n",
    "df9 = pd.read_csv('../input/informadataset/ds-9.csv')"
   ]
  },
  {
   "cell_type": "markdown",
   "metadata": {
    "papermill": {
     "duration": 0.083673,
     "end_time": "2020-10-26T01:44:57.631282",
     "exception": false,
     "start_time": "2020-10-26T01:44:57.547609",
     "status": "completed"
    },
    "tags": []
   },
   "source": [
    "## 3.Data Merging\n",
    "\n",
    "In the code below, we are going to merge all of our files together and put it into one dataframe."
   ]
  },
  {
   "cell_type": "code",
   "execution_count": 3,
   "metadata": {
    "execution": {
     "iopub.execute_input": "2020-10-26T01:44:57.808237Z",
     "iopub.status.busy": "2020-10-26T01:44:57.807107Z",
     "iopub.status.idle": "2020-10-26T01:45:02.267817Z",
     "shell.execute_reply": "2020-10-26T01:45:02.267003Z"
    },
    "papermill": {
     "duration": 4.552078,
     "end_time": "2020-10-26T01:45:02.267946",
     "exception": false,
     "start_time": "2020-10-26T01:44:57.715868",
     "status": "completed"
    },
    "tags": []
   },
   "outputs": [],
   "source": [
    "frames = [df1, df2, df3, df4, df5, df6, df7, df8, df9]\n",
    "df_all = pd.concat(frames)\n",
    "\n",
    "df_all.columns = ['Delivery date','Delivery time','Pharmacy number','Pharmacy postcode','YOB','Gender','CNK','Product name','ATC code','Unit','Price','Contribution']"
   ]
  },
  {
   "cell_type": "markdown",
   "metadata": {
    "papermill": {
     "duration": 0.084634,
     "end_time": "2020-10-26T01:45:02.438661",
     "exception": false,
     "start_time": "2020-10-26T01:45:02.354027",
     "status": "completed"
    },
    "tags": []
   },
   "source": [
    "## 4.Data Cleaning\n",
    "\n",
    "In these codes below, we are going to clean our dataset to make it more useful to work with. \n",
    "### 4.1.Gender Number Replacement\n",
    "\n",
    "We noticed, that genders were given in numbers. There were 4 numbers. We therefore assumed that 1 would be male and 2 would be female. 0 and 3 are in this case identified as unknown. We are not focussing on the unknown gender and therefore dropping the rows containing gender number 0 and 3. "
   ]
  },
  {
   "cell_type": "code",
   "execution_count": 4,
   "metadata": {
    "execution": {
     "iopub.execute_input": "2020-10-26T01:45:02.626682Z",
     "iopub.status.busy": "2020-10-26T01:45:02.625843Z",
     "iopub.status.idle": "2020-10-26T01:45:19.346969Z",
     "shell.execute_reply": "2020-10-26T01:45:19.346304Z"
    },
    "papermill": {
     "duration": 16.820838,
     "end_time": "2020-10-26T01:45:19.347109",
     "exception": false,
     "start_time": "2020-10-26T01:45:02.526271",
     "status": "completed"
    },
    "tags": []
   },
   "outputs": [],
   "source": [
    "df_gend = ((df_all['Gender'] == 0) | (df_all['Gender'] == 3))\n",
    "df_all.drop (df_all[df_gend].index, inplace=True)\n",
    "df_all.reset_index(drop=True,inplace=True)"
   ]
  },
  {
   "cell_type": "code",
   "execution_count": 5,
   "metadata": {
    "execution": {
     "iopub.execute_input": "2020-10-26T01:45:19.520110Z",
     "iopub.status.busy": "2020-10-26T01:45:19.519049Z",
     "iopub.status.idle": "2020-10-26T01:45:19.742117Z",
     "shell.execute_reply": "2020-10-26T01:45:19.742673Z"
    },
    "papermill": {
     "duration": 0.312362,
     "end_time": "2020-10-26T01:45:19.742829",
     "exception": false,
     "start_time": "2020-10-26T01:45:19.430467",
     "status": "completed"
    },
    "tags": []
   },
   "outputs": [
    {
     "data": {
      "text/plain": [
       "2    12714051\n",
       "1     9311785\n",
       "Name: Gender, dtype: int64"
      ]
     },
     "execution_count": 5,
     "metadata": {},
     "output_type": "execute_result"
    }
   ],
   "source": [
    "df_all['Gender'].value_counts()"
   ]
  },
  {
   "cell_type": "code",
   "execution_count": 6,
   "metadata": {
    "execution": {
     "iopub.execute_input": "2020-10-26T01:45:19.917515Z",
     "iopub.status.busy": "2020-10-26T01:45:19.916741Z",
     "iopub.status.idle": "2020-10-26T01:45:23.563574Z",
     "shell.execute_reply": "2020-10-26T01:45:23.562805Z"
    },
    "papermill": {
     "duration": 3.736507,
     "end_time": "2020-10-26T01:45:23.563702",
     "exception": false,
     "start_time": "2020-10-26T01:45:19.827195",
     "status": "completed"
    },
    "tags": []
   },
   "outputs": [],
   "source": [
    "df_all['Gender'].replace([1], 'Male', inplace = True)\n",
    "df_all['Gender'].replace([2], 'Female', inplace = True)"
   ]
  },
  {
   "cell_type": "markdown",
   "metadata": {
    "papermill": {
     "duration": 0.088404,
     "end_time": "2020-10-26T01:45:23.735955",
     "exception": false,
     "start_time": "2020-10-26T01:45:23.647551",
     "status": "completed"
    },
    "tags": []
   },
   "source": [
    "As we see below, females would more likely medications more than males."
   ]
  },
  {
   "cell_type": "code",
   "execution_count": 7,
   "metadata": {
    "execution": {
     "iopub.execute_input": "2020-10-26T01:45:29.705237Z",
     "iopub.status.busy": "2020-10-26T01:45:29.703184Z",
     "iopub.status.idle": "2020-10-26T01:45:29.713899Z",
     "shell.execute_reply": "2020-10-26T01:45:29.714530Z"
    },
    "papermill": {
     "duration": 5.895394,
     "end_time": "2020-10-26T01:45:29.714704",
     "exception": false,
     "start_time": "2020-10-26T01:45:23.819310",
     "status": "completed"
    },
    "tags": []
   },
   "outputs": [
    {
     "data": {
      "text/plain": [
       "Female    12714051\n",
       "Male       9311785\n",
       "Name: Gender, dtype: int64"
      ]
     },
     "execution_count": 7,
     "metadata": {},
     "output_type": "execute_result"
    }
   ],
   "source": [
    "df_all['Gender'].value_counts()"
   ]
  },
  {
   "cell_type": "markdown",
   "metadata": {
    "papermill": {
     "duration": 0.087354,
     "end_time": "2020-10-26T01:45:29.897263",
     "exception": false,
     "start_time": "2020-10-26T01:45:29.809909",
     "status": "completed"
    },
    "tags": []
   },
   "source": [
    "### 4.2.Change Delivery Date & Time\n",
    "\n",
    "Now we are going to change the delivery date and time since the data type is an object. We are going to convert it into datetime"
   ]
  },
  {
   "cell_type": "code",
   "execution_count": 8,
   "metadata": {
    "execution": {
     "iopub.execute_input": "2020-10-26T01:45:31.416432Z",
     "iopub.status.busy": "2020-10-26T01:45:31.414788Z",
     "iopub.status.idle": "2020-10-26T01:45:36.645939Z",
     "shell.execute_reply": "2020-10-26T01:45:36.645194Z"
    },
    "papermill": {
     "duration": 6.664521,
     "end_time": "2020-10-26T01:45:36.646059",
     "exception": false,
     "start_time": "2020-10-26T01:45:29.981538",
     "status": "completed"
    },
    "tags": []
   },
   "outputs": [
    {
     "data": {
      "text/plain": [
       "00:00    3317485\n",
       "10:05      38797\n",
       "10:07      38458\n",
       "10:14      38151\n",
       "10:59      38011\n",
       "          ...   \n",
       "04:07          1\n",
       "06:16          1\n",
       "05:05          1\n",
       "06:48          1\n",
       "04:47          1\n",
       "Name: Delivery time, Length: 1410, dtype: int64"
      ]
     },
     "execution_count": 8,
     "metadata": {},
     "output_type": "execute_result"
    }
   ],
   "source": [
    "df_all['Delivery time'].replace('?', np.NaN)\n",
    "df_all['Delivery time'].value_counts()"
   ]
  },
  {
   "cell_type": "code",
   "execution_count": 9,
   "metadata": {
    "execution": {
     "iopub.execute_input": "2020-10-26T01:45:39.669136Z",
     "iopub.status.busy": "2020-10-26T01:45:39.668006Z",
     "iopub.status.idle": "2020-10-26T01:47:21.757013Z",
     "shell.execute_reply": "2020-10-26T01:47:21.757643Z"
    },
    "papermill": {
     "duration": 105.026883,
     "end_time": "2020-10-26T01:47:21.757815",
     "exception": false,
     "start_time": "2020-10-26T01:45:36.730932",
     "status": "completed"
    },
    "tags": []
   },
   "outputs": [
    {
     "data": {
      "text/plain": [
       "2019-04-30 00:00:00    17499\n",
       "2019-04-29 00:00:00    17092\n",
       "2019-05-27 00:00:00    17040\n",
       "2019-12-23 00:00:00    16991\n",
       "2019-11-25 00:00:00    16988\n",
       "                       ...  \n",
       "2018-09-29 14:57:00        1\n",
       "2017-04-24 13:41:00        1\n",
       "2018-10-04 00:35:00        1\n",
       "2017-10-27 19:42:00        1\n",
       "2018-06-27 20:18:00        1\n",
       "Name: DateTime, Length: 642592, dtype: int64"
      ]
     },
     "execution_count": 9,
     "metadata": {},
     "output_type": "execute_result"
    }
   ],
   "source": [
    "df_all['DateTime'] = pd.to_datetime(df_all['Delivery date'] + ' ' + df_all['Delivery time'])\n",
    "df_all['DateTime'].value_counts()"
   ]
  },
  {
   "cell_type": "code",
   "execution_count": 10,
   "metadata": {
    "execution": {
     "iopub.execute_input": "2020-10-26T01:47:21.942830Z",
     "iopub.status.busy": "2020-10-26T01:47:21.941646Z",
     "iopub.status.idle": "2020-10-26T01:47:21.957040Z",
     "shell.execute_reply": "2020-10-26T01:47:21.956379Z"
    },
    "papermill": {
     "duration": 0.114221,
     "end_time": "2020-10-26T01:47:21.957178",
     "exception": false,
     "start_time": "2020-10-26T01:47:21.842957",
     "status": "completed"
    },
    "tags": []
   },
   "outputs": [
    {
     "data": {
      "text/html": [
       "<div>\n",
       "<style scoped>\n",
       "    .dataframe tbody tr th:only-of-type {\n",
       "        vertical-align: middle;\n",
       "    }\n",
       "\n",
       "    .dataframe tbody tr th {\n",
       "        vertical-align: top;\n",
       "    }\n",
       "\n",
       "    .dataframe thead th {\n",
       "        text-align: right;\n",
       "    }\n",
       "</style>\n",
       "<table border=\"1\" class=\"dataframe\">\n",
       "  <thead>\n",
       "    <tr style=\"text-align: right;\">\n",
       "      <th></th>\n",
       "      <th>Delivery date</th>\n",
       "      <th>Delivery time</th>\n",
       "      <th>Pharmacy number</th>\n",
       "      <th>Pharmacy postcode</th>\n",
       "      <th>YOB</th>\n",
       "      <th>Gender</th>\n",
       "      <th>CNK</th>\n",
       "      <th>Product name</th>\n",
       "      <th>ATC code</th>\n",
       "      <th>Unit</th>\n",
       "      <th>Price</th>\n",
       "      <th>Contribution</th>\n",
       "      <th>DateTime</th>\n",
       "    </tr>\n",
       "  </thead>\n",
       "  <tbody>\n",
       "    <tr>\n",
       "      <th>0</th>\n",
       "      <td>01/01/2017</td>\n",
       "      <td>00:00</td>\n",
       "      <td>7341765</td>\n",
       "      <td>21</td>\n",
       "      <td>1922</td>\n",
       "      <td>Male</td>\n",
       "      <td>5520523</td>\n",
       "      <td>WACHTHONORARIUM</td>\n",
       "      <td></td>\n",
       "      <td>0</td>\n",
       "      <td>4.90</td>\n",
       "      <td>0.00</td>\n",
       "      <td>2017-01-01</td>\n",
       "    </tr>\n",
       "    <tr>\n",
       "      <th>1</th>\n",
       "      <td>01/01/2017</td>\n",
       "      <td>00:00</td>\n",
       "      <td>7341765</td>\n",
       "      <td>21</td>\n",
       "      <td>1925</td>\n",
       "      <td>Male</td>\n",
       "      <td>1799931</td>\n",
       "      <td>ZALDIAR 37,5 MG/325 MG FILMOMH TABL 20</td>\n",
       "      <td>N02AJ13</td>\n",
       "      <td>20</td>\n",
       "      <td>9.26</td>\n",
       "      <td>3.62</td>\n",
       "      <td>2017-01-01</td>\n",
       "    </tr>\n",
       "    <tr>\n",
       "      <th>2</th>\n",
       "      <td>01/01/2017</td>\n",
       "      <td>00:00</td>\n",
       "      <td>8272695</td>\n",
       "      <td>16</td>\n",
       "      <td>1932</td>\n",
       "      <td>Female</td>\n",
       "      <td>1719400</td>\n",
       "      <td>VASEXTEN CAPS BLIST 28 X 10 MG</td>\n",
       "      <td>C08CA12</td>\n",
       "      <td>28</td>\n",
       "      <td>19.22</td>\n",
       "      <td>4.98</td>\n",
       "      <td>2017-01-01</td>\n",
       "    </tr>\n",
       "    <tr>\n",
       "      <th>3</th>\n",
       "      <td>01/01/2017</td>\n",
       "      <td>00:00</td>\n",
       "      <td>8272695</td>\n",
       "      <td>16</td>\n",
       "      <td>1933</td>\n",
       "      <td>Female</td>\n",
       "      <td>5520523</td>\n",
       "      <td>WACHTHONORARIUM</td>\n",
       "      <td></td>\n",
       "      <td>0</td>\n",
       "      <td>4.90</td>\n",
       "      <td>0.00</td>\n",
       "      <td>2017-01-01</td>\n",
       "    </tr>\n",
       "    <tr>\n",
       "      <th>4</th>\n",
       "      <td>01/01/2017</td>\n",
       "      <td>00:00</td>\n",
       "      <td>9111423</td>\n",
       "      <td>10</td>\n",
       "      <td>1931</td>\n",
       "      <td>Male</td>\n",
       "      <td>1750132</td>\n",
       "      <td>AACIDEXAM 5MG/ML OPL INJ FL INJ  1 X 1ML</td>\n",
       "      <td>H02AB02</td>\n",
       "      <td>1</td>\n",
       "      <td>6.15</td>\n",
       "      <td>0.39</td>\n",
       "      <td>2017-01-01</td>\n",
       "    </tr>\n",
       "  </tbody>\n",
       "</table>\n",
       "</div>"
      ],
      "text/plain": [
       "  Delivery date Delivery time  Pharmacy number  Pharmacy postcode   YOB  \\\n",
       "0    01/01/2017         00:00          7341765                 21  1922   \n",
       "1    01/01/2017         00:00          7341765                 21  1925   \n",
       "2    01/01/2017         00:00          8272695                 16  1932   \n",
       "3    01/01/2017         00:00          8272695                 16  1933   \n",
       "4    01/01/2017         00:00          9111423                 10  1931   \n",
       "\n",
       "   Gender      CNK                              Product name ATC code  Unit  \\\n",
       "0    Male  5520523                           WACHTHONORARIUM              0   \n",
       "1    Male  1799931    ZALDIAR 37,5 MG/325 MG FILMOMH TABL 20  N02AJ13    20   \n",
       "2  Female  1719400            VASEXTEN CAPS BLIST 28 X 10 MG  C08CA12    28   \n",
       "3  Female  5520523                           WACHTHONORARIUM              0   \n",
       "4    Male  1750132  AACIDEXAM 5MG/ML OPL INJ FL INJ  1 X 1ML  H02AB02     1   \n",
       "\n",
       "   Price  Contribution   DateTime  \n",
       "0   4.90          0.00 2017-01-01  \n",
       "1   9.26          3.62 2017-01-01  \n",
       "2  19.22          4.98 2017-01-01  \n",
       "3   4.90          0.00 2017-01-01  \n",
       "4   6.15          0.39 2017-01-01  "
      ]
     },
     "execution_count": 10,
     "metadata": {},
     "output_type": "execute_result"
    }
   ],
   "source": [
    "df_all.head(5)"
   ]
  },
  {
   "cell_type": "markdown",
   "metadata": {
    "papermill": {
     "duration": 0.086303,
     "end_time": "2020-10-26T01:47:22.130977",
     "exception": false,
     "start_time": "2020-10-26T01:47:22.044674",
     "status": "completed"
    },
    "tags": []
   },
   "source": [
    "### 4.3.Season Category\n",
    "\n",
    "To make some good visuals with the seasons we first have to extract the seasons from the DateTime column, which was made from the delivery dates and delivery times. This has been done with pd.cut.\n",
    "\n",
    "Source: https://stackoverflow.com/questions/60285557/extract-seasons-from-datetime-pandas\n",
    "\n",
    "After making the column for the seasons we want to see if it was successfully executed. This is why we count the values by season to see is all season are made and what season has the most deliveries."
   ]
  },
  {
   "cell_type": "code",
   "execution_count": 11,
   "metadata": {
    "execution": {
     "iopub.execute_input": "2020-10-26T01:47:22.311700Z",
     "iopub.status.busy": "2020-10-26T01:47:22.310917Z",
     "iopub.status.idle": "2020-10-26T01:47:26.636882Z",
     "shell.execute_reply": "2020-10-26T01:47:26.636156Z"
    },
    "papermill": {
     "duration": 4.420264,
     "end_time": "2020-10-26T01:47:26.637026",
     "exception": false,
     "start_time": "2020-10-26T01:47:22.216762",
     "status": "completed"
    },
    "tags": []
   },
   "outputs": [
    {
     "data": {
      "text/html": [
       "<div>\n",
       "<style scoped>\n",
       "    .dataframe tbody tr th:only-of-type {\n",
       "        vertical-align: middle;\n",
       "    }\n",
       "\n",
       "    .dataframe tbody tr th {\n",
       "        vertical-align: top;\n",
       "    }\n",
       "\n",
       "    .dataframe thead th {\n",
       "        text-align: right;\n",
       "    }\n",
       "</style>\n",
       "<table border=\"1\" class=\"dataframe\">\n",
       "  <thead>\n",
       "    <tr style=\"text-align: right;\">\n",
       "      <th></th>\n",
       "      <th>Delivery date</th>\n",
       "      <th>Delivery time</th>\n",
       "      <th>Pharmacy number</th>\n",
       "      <th>Pharmacy postcode</th>\n",
       "      <th>YOB</th>\n",
       "      <th>Gender</th>\n",
       "      <th>CNK</th>\n",
       "      <th>Product name</th>\n",
       "      <th>ATC code</th>\n",
       "      <th>Unit</th>\n",
       "      <th>Price</th>\n",
       "      <th>Contribution</th>\n",
       "      <th>DateTime</th>\n",
       "      <th>date_offset</th>\n",
       "      <th>Season</th>\n",
       "    </tr>\n",
       "  </thead>\n",
       "  <tbody>\n",
       "    <tr>\n",
       "      <th>22025831</th>\n",
       "      <td>12/31/2019</td>\n",
       "      <td>23:56</td>\n",
       "      <td>7068483</td>\n",
       "      <td>90</td>\n",
       "      <td>1963</td>\n",
       "      <td>Female</td>\n",
       "      <td>2139137</td>\n",
       "      <td>FLOCATH QUICK SONDE INTERM.+AUTOLUB. CH14 20CM 30</td>\n",
       "      <td></td>\n",
       "      <td>0</td>\n",
       "      <td>81.81</td>\n",
       "      <td>0.0</td>\n",
       "      <td>2019-12-31 23:56:00</td>\n",
       "      <td>911.0</td>\n",
       "      <td>winter</td>\n",
       "    </tr>\n",
       "    <tr>\n",
       "      <th>22025832</th>\n",
       "      <td>12/31/2019</td>\n",
       "      <td>23:56</td>\n",
       "      <td>7068483</td>\n",
       "      <td>90</td>\n",
       "      <td>1962</td>\n",
       "      <td>Female</td>\n",
       "      <td>2139137</td>\n",
       "      <td>FLOCATH QUICK SONDE INTERM.+AUTOLUB. CH14 20CM 30</td>\n",
       "      <td></td>\n",
       "      <td>0</td>\n",
       "      <td>81.81</td>\n",
       "      <td>0.0</td>\n",
       "      <td>2019-12-31 23:56:00</td>\n",
       "      <td>911.0</td>\n",
       "      <td>winter</td>\n",
       "    </tr>\n",
       "    <tr>\n",
       "      <th>22025833</th>\n",
       "      <td>12/31/2019</td>\n",
       "      <td>23:56</td>\n",
       "      <td>7068483</td>\n",
       "      <td>90</td>\n",
       "      <td>1961</td>\n",
       "      <td>Female</td>\n",
       "      <td>2139137</td>\n",
       "      <td>FLOCATH QUICK SONDE INTERM.+AUTOLUB. CH14 20CM 30</td>\n",
       "      <td></td>\n",
       "      <td>0</td>\n",
       "      <td>81.81</td>\n",
       "      <td>0.0</td>\n",
       "      <td>2019-12-31 23:56:00</td>\n",
       "      <td>911.0</td>\n",
       "      <td>winter</td>\n",
       "    </tr>\n",
       "    <tr>\n",
       "      <th>22025834</th>\n",
       "      <td>12/31/2019</td>\n",
       "      <td>23:56</td>\n",
       "      <td>7068483</td>\n",
       "      <td>90</td>\n",
       "      <td>1962</td>\n",
       "      <td>Female</td>\n",
       "      <td>2139137</td>\n",
       "      <td>FLOCATH QUICK SONDE INTERM.+AUTOLUB. CH14 20CM 30</td>\n",
       "      <td></td>\n",
       "      <td>0</td>\n",
       "      <td>81.81</td>\n",
       "      <td>0.0</td>\n",
       "      <td>2019-12-31 23:56:00</td>\n",
       "      <td>911.0</td>\n",
       "      <td>winter</td>\n",
       "    </tr>\n",
       "    <tr>\n",
       "      <th>22025835</th>\n",
       "      <td>12/31/2019</td>\n",
       "      <td>23:56</td>\n",
       "      <td>7068483</td>\n",
       "      <td>90</td>\n",
       "      <td>1962</td>\n",
       "      <td>Female</td>\n",
       "      <td>2139137</td>\n",
       "      <td>FLOCATH QUICK SONDE INTERM.+AUTOLUB. CH14 20CM 30</td>\n",
       "      <td></td>\n",
       "      <td>0</td>\n",
       "      <td>81.81</td>\n",
       "      <td>0.0</td>\n",
       "      <td>2019-12-31 23:56:00</td>\n",
       "      <td>911.0</td>\n",
       "      <td>winter</td>\n",
       "    </tr>\n",
       "  </tbody>\n",
       "</table>\n",
       "</div>"
      ],
      "text/plain": [
       "         Delivery date Delivery time  Pharmacy number  Pharmacy postcode  \\\n",
       "22025831    12/31/2019         23:56          7068483                 90   \n",
       "22025832    12/31/2019         23:56          7068483                 90   \n",
       "22025833    12/31/2019         23:56          7068483                 90   \n",
       "22025834    12/31/2019         23:56          7068483                 90   \n",
       "22025835    12/31/2019         23:56          7068483                 90   \n",
       "\n",
       "           YOB  Gender      CNK  \\\n",
       "22025831  1963  Female  2139137   \n",
       "22025832  1962  Female  2139137   \n",
       "22025833  1961  Female  2139137   \n",
       "22025834  1962  Female  2139137   \n",
       "22025835  1962  Female  2139137   \n",
       "\n",
       "                                               Product name ATC code  Unit  \\\n",
       "22025831  FLOCATH QUICK SONDE INTERM.+AUTOLUB. CH14 20CM 30              0   \n",
       "22025832  FLOCATH QUICK SONDE INTERM.+AUTOLUB. CH14 20CM 30              0   \n",
       "22025833  FLOCATH QUICK SONDE INTERM.+AUTOLUB. CH14 20CM 30              0   \n",
       "22025834  FLOCATH QUICK SONDE INTERM.+AUTOLUB. CH14 20CM 30              0   \n",
       "22025835  FLOCATH QUICK SONDE INTERM.+AUTOLUB. CH14 20CM 30              0   \n",
       "\n",
       "          Price  Contribution            DateTime  date_offset  Season  \n",
       "22025831  81.81           0.0 2019-12-31 23:56:00        911.0  winter  \n",
       "22025832  81.81           0.0 2019-12-31 23:56:00        911.0  winter  \n",
       "22025833  81.81           0.0 2019-12-31 23:56:00        911.0  winter  \n",
       "22025834  81.81           0.0 2019-12-31 23:56:00        911.0  winter  \n",
       "22025835  81.81           0.0 2019-12-31 23:56:00        911.0  winter  "
      ]
     },
     "execution_count": 11,
     "metadata": {},
     "output_type": "execute_result"
    }
   ],
   "source": [
    "df_all['date_offset'] = (df_all['DateTime'].dt.month * 100 + df_all['DateTime'].dt.day - 320) % 1300\n",
    "df_all['Season'] = pd.cut(df_all['date_offset'], [0, 300, 602, 900, 1300], labels = ['Spring', 'summer', 'autumn', 'winter'])\n",
    "df_all['Season'].value_counts()\n",
    "df_all.tail(5)"
   ]
  },
  {
   "cell_type": "markdown",
   "metadata": {
    "papermill": {
     "duration": 0.097925,
     "end_time": "2020-10-26T01:47:26.832693",
     "exception": false,
     "start_time": "2020-10-26T01:47:26.734768",
     "status": "completed"
    },
    "tags": []
   },
   "source": [
    "### 4.4.Prices\n",
    "\n",
    "While analyzing the dataset, we noticed that some of the units are 0. Most of them are from 'wachthonorarium'. Since honorarium  is an ex gratia payment we agreed that the units should be 1 where we can therefore we can make better calculations regarding the sales. "
   ]
  },
  {
   "cell_type": "code",
   "execution_count": 12,
   "metadata": {
    "execution": {
     "iopub.execute_input": "2020-10-26T01:47:27.039490Z",
     "iopub.status.busy": "2020-10-26T01:47:27.038437Z",
     "iopub.status.idle": "2020-10-26T01:47:27.198183Z",
     "shell.execute_reply": "2020-10-26T01:47:27.197487Z"
    },
    "papermill": {
     "duration": 0.266826,
     "end_time": "2020-10-26T01:47:27.198308",
     "exception": false,
     "start_time": "2020-10-26T01:47:26.931482",
     "status": "completed"
    },
    "tags": []
   },
   "outputs": [],
   "source": [
    "df_all['Unit'].replace([0], 1, inplace = True)\n",
    "df_all['Sales'] = df_all['Unit'] * df_all['Price']"
   ]
  },
  {
   "cell_type": "code",
   "execution_count": 13,
   "metadata": {
    "execution": {
     "iopub.execute_input": "2020-10-26T01:47:27.401708Z",
     "iopub.status.busy": "2020-10-26T01:47:27.400735Z",
     "iopub.status.idle": "2020-10-26T01:47:27.406271Z",
     "shell.execute_reply": "2020-10-26T01:47:27.405538Z"
    },
    "papermill": {
     "duration": 0.119781,
     "end_time": "2020-10-26T01:47:27.406406",
     "exception": false,
     "start_time": "2020-10-26T01:47:27.286625",
     "status": "completed"
    },
    "tags": []
   },
   "outputs": [
    {
     "data": {
      "text/html": [
       "<div>\n",
       "<style scoped>\n",
       "    .dataframe tbody tr th:only-of-type {\n",
       "        vertical-align: middle;\n",
       "    }\n",
       "\n",
       "    .dataframe tbody tr th {\n",
       "        vertical-align: top;\n",
       "    }\n",
       "\n",
       "    .dataframe thead th {\n",
       "        text-align: right;\n",
       "    }\n",
       "</style>\n",
       "<table border=\"1\" class=\"dataframe\">\n",
       "  <thead>\n",
       "    <tr style=\"text-align: right;\">\n",
       "      <th></th>\n",
       "      <th>Delivery date</th>\n",
       "      <th>Delivery time</th>\n",
       "      <th>Pharmacy number</th>\n",
       "      <th>Pharmacy postcode</th>\n",
       "      <th>YOB</th>\n",
       "      <th>Gender</th>\n",
       "      <th>CNK</th>\n",
       "      <th>Product name</th>\n",
       "      <th>ATC code</th>\n",
       "      <th>Unit</th>\n",
       "      <th>Price</th>\n",
       "      <th>Contribution</th>\n",
       "      <th>DateTime</th>\n",
       "      <th>date_offset</th>\n",
       "      <th>Season</th>\n",
       "      <th>Sales</th>\n",
       "    </tr>\n",
       "  </thead>\n",
       "  <tbody>\n",
       "    <tr>\n",
       "      <th>0</th>\n",
       "      <td>01/01/2017</td>\n",
       "      <td>00:00</td>\n",
       "      <td>7341765</td>\n",
       "      <td>21</td>\n",
       "      <td>1922</td>\n",
       "      <td>Male</td>\n",
       "      <td>5520523</td>\n",
       "      <td>WACHTHONORARIUM</td>\n",
       "      <td></td>\n",
       "      <td>1</td>\n",
       "      <td>4.90</td>\n",
       "      <td>0.00</td>\n",
       "      <td>2017-01-01</td>\n",
       "      <td>1081.0</td>\n",
       "      <td>winter</td>\n",
       "      <td>4.90</td>\n",
       "    </tr>\n",
       "    <tr>\n",
       "      <th>1</th>\n",
       "      <td>01/01/2017</td>\n",
       "      <td>00:00</td>\n",
       "      <td>7341765</td>\n",
       "      <td>21</td>\n",
       "      <td>1925</td>\n",
       "      <td>Male</td>\n",
       "      <td>1799931</td>\n",
       "      <td>ZALDIAR 37,5 MG/325 MG FILMOMH TABL 20</td>\n",
       "      <td>N02AJ13</td>\n",
       "      <td>20</td>\n",
       "      <td>9.26</td>\n",
       "      <td>3.62</td>\n",
       "      <td>2017-01-01</td>\n",
       "      <td>1081.0</td>\n",
       "      <td>winter</td>\n",
       "      <td>185.20</td>\n",
       "    </tr>\n",
       "    <tr>\n",
       "      <th>2</th>\n",
       "      <td>01/01/2017</td>\n",
       "      <td>00:00</td>\n",
       "      <td>8272695</td>\n",
       "      <td>16</td>\n",
       "      <td>1932</td>\n",
       "      <td>Female</td>\n",
       "      <td>1719400</td>\n",
       "      <td>VASEXTEN CAPS BLIST 28 X 10 MG</td>\n",
       "      <td>C08CA12</td>\n",
       "      <td>28</td>\n",
       "      <td>19.22</td>\n",
       "      <td>4.98</td>\n",
       "      <td>2017-01-01</td>\n",
       "      <td>1081.0</td>\n",
       "      <td>winter</td>\n",
       "      <td>538.16</td>\n",
       "    </tr>\n",
       "    <tr>\n",
       "      <th>3</th>\n",
       "      <td>01/01/2017</td>\n",
       "      <td>00:00</td>\n",
       "      <td>8272695</td>\n",
       "      <td>16</td>\n",
       "      <td>1933</td>\n",
       "      <td>Female</td>\n",
       "      <td>5520523</td>\n",
       "      <td>WACHTHONORARIUM</td>\n",
       "      <td></td>\n",
       "      <td>1</td>\n",
       "      <td>4.90</td>\n",
       "      <td>0.00</td>\n",
       "      <td>2017-01-01</td>\n",
       "      <td>1081.0</td>\n",
       "      <td>winter</td>\n",
       "      <td>4.90</td>\n",
       "    </tr>\n",
       "    <tr>\n",
       "      <th>4</th>\n",
       "      <td>01/01/2017</td>\n",
       "      <td>00:00</td>\n",
       "      <td>9111423</td>\n",
       "      <td>10</td>\n",
       "      <td>1931</td>\n",
       "      <td>Male</td>\n",
       "      <td>1750132</td>\n",
       "      <td>AACIDEXAM 5MG/ML OPL INJ FL INJ  1 X 1ML</td>\n",
       "      <td>H02AB02</td>\n",
       "      <td>1</td>\n",
       "      <td>6.15</td>\n",
       "      <td>0.39</td>\n",
       "      <td>2017-01-01</td>\n",
       "      <td>1081.0</td>\n",
       "      <td>winter</td>\n",
       "      <td>6.15</td>\n",
       "    </tr>\n",
       "    <tr>\n",
       "      <th>5</th>\n",
       "      <td>01/01/2017</td>\n",
       "      <td>00:00</td>\n",
       "      <td>8272695</td>\n",
       "      <td>10</td>\n",
       "      <td>1933</td>\n",
       "      <td>Male</td>\n",
       "      <td>1750132</td>\n",
       "      <td>AACIDEXAM 5MG/ML OPL INJ FL INJ  1 X 1ML</td>\n",
       "      <td>H02AB02</td>\n",
       "      <td>1</td>\n",
       "      <td>6.15</td>\n",
       "      <td>0.39</td>\n",
       "      <td>2017-01-01</td>\n",
       "      <td>1081.0</td>\n",
       "      <td>winter</td>\n",
       "      <td>6.15</td>\n",
       "    </tr>\n",
       "    <tr>\n",
       "      <th>6</th>\n",
       "      <td>01/01/2017</td>\n",
       "      <td>00:00</td>\n",
       "      <td>8272695</td>\n",
       "      <td>16</td>\n",
       "      <td>1935</td>\n",
       "      <td>Female</td>\n",
       "      <td>1715127</td>\n",
       "      <td>AMOXICLAV SANDOZ 875 MG/125 MG COMP 20</td>\n",
       "      <td>J01CR02</td>\n",
       "      <td>20</td>\n",
       "      <td>15.18</td>\n",
       "      <td>3.58</td>\n",
       "      <td>2017-01-01</td>\n",
       "      <td>1081.0</td>\n",
       "      <td>winter</td>\n",
       "      <td>303.60</td>\n",
       "    </tr>\n",
       "    <tr>\n",
       "      <th>7</th>\n",
       "      <td>01/01/2017</td>\n",
       "      <td>00:00</td>\n",
       "      <td>8272695</td>\n",
       "      <td>16</td>\n",
       "      <td>1933</td>\n",
       "      <td>Female</td>\n",
       "      <td>5520523</td>\n",
       "      <td>WACHTHONORARIUM</td>\n",
       "      <td></td>\n",
       "      <td>1</td>\n",
       "      <td>4.90</td>\n",
       "      <td>0.00</td>\n",
       "      <td>2017-01-01</td>\n",
       "      <td>1081.0</td>\n",
       "      <td>winter</td>\n",
       "      <td>4.90</td>\n",
       "    </tr>\n",
       "    <tr>\n",
       "      <th>8</th>\n",
       "      <td>01/01/2017</td>\n",
       "      <td>00:00</td>\n",
       "      <td>8272695</td>\n",
       "      <td>21</td>\n",
       "      <td>1940</td>\n",
       "      <td>Male</td>\n",
       "      <td>5520523</td>\n",
       "      <td>WACHTHONORARIUM</td>\n",
       "      <td></td>\n",
       "      <td>1</td>\n",
       "      <td>4.90</td>\n",
       "      <td>0.00</td>\n",
       "      <td>2017-01-01</td>\n",
       "      <td>1081.0</td>\n",
       "      <td>winter</td>\n",
       "      <td>4.90</td>\n",
       "    </tr>\n",
       "    <tr>\n",
       "      <th>9</th>\n",
       "      <td>01/01/2017</td>\n",
       "      <td>00:00</td>\n",
       "      <td>7939080</td>\n",
       "      <td>45</td>\n",
       "      <td>1949</td>\n",
       "      <td>Female</td>\n",
       "      <td>1537380</td>\n",
       "      <td>AROMASIN 25MG COMP 100</td>\n",
       "      <td>L02BG06</td>\n",
       "      <td>100</td>\n",
       "      <td>152.84</td>\n",
       "      <td>0.00</td>\n",
       "      <td>2017-01-01</td>\n",
       "      <td>1081.0</td>\n",
       "      <td>winter</td>\n",
       "      <td>15284.00</td>\n",
       "    </tr>\n",
       "  </tbody>\n",
       "</table>\n",
       "</div>"
      ],
      "text/plain": [
       "  Delivery date Delivery time  Pharmacy number  Pharmacy postcode   YOB  \\\n",
       "0    01/01/2017         00:00          7341765                 21  1922   \n",
       "1    01/01/2017         00:00          7341765                 21  1925   \n",
       "2    01/01/2017         00:00          8272695                 16  1932   \n",
       "3    01/01/2017         00:00          8272695                 16  1933   \n",
       "4    01/01/2017         00:00          9111423                 10  1931   \n",
       "5    01/01/2017         00:00          8272695                 10  1933   \n",
       "6    01/01/2017         00:00          8272695                 16  1935   \n",
       "7    01/01/2017         00:00          8272695                 16  1933   \n",
       "8    01/01/2017         00:00          8272695                 21  1940   \n",
       "9    01/01/2017         00:00          7939080                 45  1949   \n",
       "\n",
       "   Gender      CNK                              Product name ATC code  Unit  \\\n",
       "0    Male  5520523                           WACHTHONORARIUM              1   \n",
       "1    Male  1799931    ZALDIAR 37,5 MG/325 MG FILMOMH TABL 20  N02AJ13    20   \n",
       "2  Female  1719400            VASEXTEN CAPS BLIST 28 X 10 MG  C08CA12    28   \n",
       "3  Female  5520523                           WACHTHONORARIUM              1   \n",
       "4    Male  1750132  AACIDEXAM 5MG/ML OPL INJ FL INJ  1 X 1ML  H02AB02     1   \n",
       "5    Male  1750132  AACIDEXAM 5MG/ML OPL INJ FL INJ  1 X 1ML  H02AB02     1   \n",
       "6  Female  1715127    AMOXICLAV SANDOZ 875 MG/125 MG COMP 20  J01CR02    20   \n",
       "7  Female  5520523                           WACHTHONORARIUM              1   \n",
       "8    Male  5520523                           WACHTHONORARIUM              1   \n",
       "9  Female  1537380                    AROMASIN 25MG COMP 100  L02BG06   100   \n",
       "\n",
       "    Price  Contribution   DateTime  date_offset  Season     Sales  \n",
       "0    4.90          0.00 2017-01-01       1081.0  winter      4.90  \n",
       "1    9.26          3.62 2017-01-01       1081.0  winter    185.20  \n",
       "2   19.22          4.98 2017-01-01       1081.0  winter    538.16  \n",
       "3    4.90          0.00 2017-01-01       1081.0  winter      4.90  \n",
       "4    6.15          0.39 2017-01-01       1081.0  winter      6.15  \n",
       "5    6.15          0.39 2017-01-01       1081.0  winter      6.15  \n",
       "6   15.18          3.58 2017-01-01       1081.0  winter    303.60  \n",
       "7    4.90          0.00 2017-01-01       1081.0  winter      4.90  \n",
       "8    4.90          0.00 2017-01-01       1081.0  winter      4.90  \n",
       "9  152.84          0.00 2017-01-01       1081.0  winter  15284.00  "
      ]
     },
     "execution_count": 13,
     "metadata": {},
     "output_type": "execute_result"
    }
   ],
   "source": [
    "df_all.head(10)"
   ]
  },
  {
   "cell_type": "markdown",
   "metadata": {
    "papermill": {
     "duration": 0.087779,
     "end_time": "2020-10-26T01:47:27.582306",
     "exception": false,
     "start_time": "2020-10-26T01:47:27.494527",
     "status": "completed"
    },
    "tags": []
   },
   "source": [
    "### 4.5.Product Category\n",
    "\n",
    "To have a better overview of the sold medications, we distinguish the medications into 3 category. Honorarium, tablet and pills. In the code below, it shows which gender would most likely buy medications more. "
   ]
  },
  {
   "cell_type": "code",
   "execution_count": 14,
   "metadata": {
    "execution": {
     "iopub.execute_input": "2020-10-26T01:47:27.765162Z",
     "iopub.status.busy": "2020-10-26T01:47:27.764334Z",
     "iopub.status.idle": "2020-10-26T01:47:35.065938Z",
     "shell.execute_reply": "2020-10-26T01:47:35.065073Z"
    },
    "papermill": {
     "duration": 7.396739,
     "end_time": "2020-10-26T01:47:35.066077",
     "exception": false,
     "start_time": "2020-10-26T01:47:27.669338",
     "status": "completed"
    },
    "tags": []
   },
   "outputs": [],
   "source": [
    "df_products = df_all.groupby(['Price','Product name'])['Gender'].count().reset_index()\n",
    "\n",
    "df_products.columns = ['Price','Product name','Counts']\n",
    "df_products.sort_values(by = 'Counts', ascending = False, inplace = True)"
   ]
  },
  {
   "cell_type": "code",
   "execution_count": 15,
   "metadata": {
    "execution": {
     "iopub.execute_input": "2020-10-26T01:47:35.254828Z",
     "iopub.status.busy": "2020-10-26T01:47:35.253939Z",
     "iopub.status.idle": "2020-10-26T01:47:35.258814Z",
     "shell.execute_reply": "2020-10-26T01:47:35.258115Z"
    },
    "papermill": {
     "duration": 0.104472,
     "end_time": "2020-10-26T01:47:35.258951",
     "exception": false,
     "start_time": "2020-10-26T01:47:35.154479",
     "status": "completed"
    },
    "tags": []
   },
   "outputs": [
    {
     "data": {
      "text/html": [
       "<div>\n",
       "<style scoped>\n",
       "    .dataframe tbody tr th:only-of-type {\n",
       "        vertical-align: middle;\n",
       "    }\n",
       "\n",
       "    .dataframe tbody tr th {\n",
       "        vertical-align: top;\n",
       "    }\n",
       "\n",
       "    .dataframe thead th {\n",
       "        text-align: right;\n",
       "    }\n",
       "</style>\n",
       "<table border=\"1\" class=\"dataframe\">\n",
       "  <thead>\n",
       "    <tr style=\"text-align: right;\">\n",
       "      <th></th>\n",
       "      <th>Price</th>\n",
       "      <th>Product name</th>\n",
       "      <th>Counts</th>\n",
       "    </tr>\n",
       "  </thead>\n",
       "  <tbody>\n",
       "    <tr>\n",
       "      <th>7099</th>\n",
       "      <td>0.03</td>\n",
       "      <td>ASAFLOW COMP  1 X  80 MG</td>\n",
       "      <td>184727</td>\n",
       "    </tr>\n",
       "    <tr>\n",
       "      <th>9538</th>\n",
       "      <td>3.09</td>\n",
       "      <td>HONORARIUM PER WEEK PER RUSTOORDBEWONER ROB-RVT</td>\n",
       "      <td>145197</td>\n",
       "    </tr>\n",
       "    <tr>\n",
       "      <th>9551</th>\n",
       "      <td>3.14</td>\n",
       "      <td>HONORARIUM PER WEEK PER RUSTOORDBEWONER ROB-RVT</td>\n",
       "      <td>130554</td>\n",
       "    </tr>\n",
       "    <tr>\n",
       "      <th>9534</th>\n",
       "      <td>3.04</td>\n",
       "      <td>HONORARIUM PER WEEK PER RUSTOORDBEWONER ROB-RVT</td>\n",
       "      <td>129521</td>\n",
       "    </tr>\n",
       "    <tr>\n",
       "      <th>13961</th>\n",
       "      <td>10.03</td>\n",
       "      <td>ASAFLOW  80MG MAAGSAPRES COMP BLI 168X 80MG</td>\n",
       "      <td>100325</td>\n",
       "    </tr>\n",
       "    <tr>\n",
       "      <th>13859</th>\n",
       "      <td>9.95</td>\n",
       "      <td>ASAFLOW  80MG MAAGSAPRES COMP BLI 168X 80MG</td>\n",
       "      <td>98281</td>\n",
       "    </tr>\n",
       "    <tr>\n",
       "      <th>7545</th>\n",
       "      <td>0.12</td>\n",
       "      <td>BURINEX COMP 1 X 1 MG</td>\n",
       "      <td>85309</td>\n",
       "    </tr>\n",
       "    <tr>\n",
       "      <th>16996</th>\n",
       "      <td>13.28</td>\n",
       "      <td>ALPHARIX-TETRA SER INJ 0,5 ML  2017</td>\n",
       "      <td>83747</td>\n",
       "    </tr>\n",
       "    <tr>\n",
       "      <th>12072</th>\n",
       "      <td>8.25</td>\n",
       "      <td>BURINEX COMP  30 X 1 MG</td>\n",
       "      <td>77513</td>\n",
       "    </tr>\n",
       "    <tr>\n",
       "      <th>13792</th>\n",
       "      <td>9.89</td>\n",
       "      <td>ASAFLOW  80MG MAAGSAPRES COMP BLI 168X 80MG</td>\n",
       "      <td>76391</td>\n",
       "    </tr>\n",
       "  </tbody>\n",
       "</table>\n",
       "</div>"
      ],
      "text/plain": [
       "       Price                                     Product name  Counts\n",
       "7099    0.03                         ASAFLOW COMP  1 X  80 MG  184727\n",
       "9538    3.09  HONORARIUM PER WEEK PER RUSTOORDBEWONER ROB-RVT  145197\n",
       "9551    3.14  HONORARIUM PER WEEK PER RUSTOORDBEWONER ROB-RVT  130554\n",
       "9534    3.04  HONORARIUM PER WEEK PER RUSTOORDBEWONER ROB-RVT  129521\n",
       "13961  10.03      ASAFLOW  80MG MAAGSAPRES COMP BLI 168X 80MG  100325\n",
       "13859   9.95      ASAFLOW  80MG MAAGSAPRES COMP BLI 168X 80MG   98281\n",
       "7545    0.12                            BURINEX COMP 1 X 1 MG   85309\n",
       "16996  13.28              ALPHARIX-TETRA SER INJ 0,5 ML  2017   83747\n",
       "12072   8.25                          BURINEX COMP  30 X 1 MG   77513\n",
       "13792   9.89      ASAFLOW  80MG MAAGSAPRES COMP BLI 168X 80MG   76391"
      ]
     },
     "execution_count": 15,
     "metadata": {},
     "output_type": "execute_result"
    }
   ],
   "source": [
    "df_products.head(10)"
   ]
  },
  {
   "cell_type": "markdown",
   "metadata": {
    "papermill": {
     "duration": 0.087562,
     "end_time": "2020-10-26T01:47:35.445043",
     "exception": false,
     "start_time": "2020-10-26T01:47:35.357481",
     "status": "completed"
    },
    "tags": []
   },
   "source": [
    "The code below wil be analysed individualy because of the time it takes to load in the categories."
   ]
  },
  {
   "cell_type": "code",
   "execution_count": 16,
   "metadata": {
    "execution": {
     "iopub.execute_input": "2020-10-26T01:47:35.629664Z",
     "iopub.status.busy": "2020-10-26T01:47:35.628888Z",
     "iopub.status.idle": "2020-10-26T01:48:08.791716Z",
     "shell.execute_reply": "2020-10-26T01:48:08.790887Z"
    },
    "papermill": {
     "duration": 33.258814,
     "end_time": "2020-10-26T01:48:08.791865",
     "exception": false,
     "start_time": "2020-10-26T01:47:35.533051",
     "status": "completed"
    },
    "tags": []
   },
   "outputs": [],
   "source": [
    "for i in range(0, len(df_products)):\n",
    "    if ('honorarium' in df_products.loc[i, 'Product name'].lower()): \n",
    "        df_products.loc[i, 'ProductType'] = 'Honorarium'\n",
    "    elif ('tabl' in df_products.loc[i, 'Product name'].lower()): \n",
    "        df_products.loc[i, 'ProductType'] = 'Tablet'\n",
    "    else:\n",
    "        df_products.loc[i, 'ProductType'] = 'Pills'"
   ]
  },
  {
   "cell_type": "markdown",
   "metadata": {
    "papermill": {
     "duration": 0.102702,
     "end_time": "2020-10-26T01:48:09.006981",
     "exception": false,
     "start_time": "2020-10-26T01:48:08.904279",
     "status": "completed"
    },
    "tags": []
   },
   "source": [
    "It's most likely that pills are being sold the most"
   ]
  },
  {
   "cell_type": "code",
   "execution_count": 17,
   "metadata": {
    "execution": {
     "iopub.execute_input": "2020-10-26T01:48:09.259671Z",
     "iopub.status.busy": "2020-10-26T01:48:09.258653Z",
     "iopub.status.idle": "2020-10-26T01:48:09.326171Z",
     "shell.execute_reply": "2020-10-26T01:48:09.325514Z"
    },
    "papermill": {
     "duration": 0.171158,
     "end_time": "2020-10-26T01:48:09.326307",
     "exception": false,
     "start_time": "2020-10-26T01:48:09.155149",
     "status": "completed"
    },
    "tags": []
   },
   "outputs": [
    {
     "data": {
      "text/html": [
       "<div>\n",
       "<style scoped>\n",
       "    .dataframe tbody tr th:only-of-type {\n",
       "        vertical-align: middle;\n",
       "    }\n",
       "\n",
       "    .dataframe tbody tr th {\n",
       "        vertical-align: top;\n",
       "    }\n",
       "\n",
       "    .dataframe thead th {\n",
       "        text-align: right;\n",
       "    }\n",
       "</style>\n",
       "<table border=\"1\" class=\"dataframe\">\n",
       "  <thead>\n",
       "    <tr style=\"text-align: right;\">\n",
       "      <th></th>\n",
       "      <th>Price</th>\n",
       "      <th>Product name</th>\n",
       "      <th>Counts</th>\n",
       "      <th>ProductType</th>\n",
       "    </tr>\n",
       "  </thead>\n",
       "  <tbody>\n",
       "    <tr>\n",
       "      <th>10096</th>\n",
       "      <td>6.23</td>\n",
       "      <td>AACIDEXAM 5MG/ML OPL INJ FL INJ  1 X 1ML</td>\n",
       "      <td>275</td>\n",
       "      <td>Pills</td>\n",
       "    </tr>\n",
       "    <tr>\n",
       "      <th>10427</th>\n",
       "      <td>6.66</td>\n",
       "      <td>AACIDEXAM 5MG/ML OPL INJ FL INJ  1 X 1ML</td>\n",
       "      <td>398</td>\n",
       "      <td>Pills</td>\n",
       "    </tr>\n",
       "    <tr>\n",
       "      <th>10436</th>\n",
       "      <td>6.67</td>\n",
       "      <td>AACIDEXAM 5MG/ML OPL INJ FL INJ  1 X 1ML</td>\n",
       "      <td>1064</td>\n",
       "      <td>Pills</td>\n",
       "    </tr>\n",
       "    <tr>\n",
       "      <th>0</th>\n",
       "      <td>0.00</td>\n",
       "      <td>AACIDEXAM 5MG/ML OPL INJ FL INJ  1 X 1ML</td>\n",
       "      <td>18</td>\n",
       "      <td>Pills</td>\n",
       "    </tr>\n",
       "    <tr>\n",
       "      <th>10054</th>\n",
       "      <td>6.15</td>\n",
       "      <td>AACIDEXAM 5MG/ML OPL INJ FL INJ  1 X 1ML</td>\n",
       "      <td>1034</td>\n",
       "      <td>Pills</td>\n",
       "    </tr>\n",
       "  </tbody>\n",
       "</table>\n",
       "</div>"
      ],
      "text/plain": [
       "       Price                              Product name  Counts ProductType\n",
       "10096   6.23  AACIDEXAM 5MG/ML OPL INJ FL INJ  1 X 1ML     275       Pills\n",
       "10427   6.66  AACIDEXAM 5MG/ML OPL INJ FL INJ  1 X 1ML     398       Pills\n",
       "10436   6.67  AACIDEXAM 5MG/ML OPL INJ FL INJ  1 X 1ML    1064       Pills\n",
       "0       0.00  AACIDEXAM 5MG/ML OPL INJ FL INJ  1 X 1ML      18       Pills\n",
       "10054   6.15  AACIDEXAM 5MG/ML OPL INJ FL INJ  1 X 1ML    1034       Pills"
      ]
     },
     "execution_count": 17,
     "metadata": {},
     "output_type": "execute_result"
    }
   ],
   "source": [
    "df_products = df_products.sort_values(by = 'Product name')\n",
    "df_products.head(5)"
   ]
  },
  {
   "cell_type": "markdown",
   "metadata": {
    "papermill": {
     "duration": 0.099287,
     "end_time": "2020-10-26T01:48:09.525149",
     "exception": false,
     "start_time": "2020-10-26T01:48:09.425862",
     "status": "completed"
    },
    "tags": []
   },
   "source": [
    "As we see below, the popular product type are pills. Tablets on the other hand is second place. "
   ]
  },
  {
   "cell_type": "code",
   "execution_count": 18,
   "metadata": {
    "execution": {
     "iopub.execute_input": "2020-10-26T01:48:09.732798Z",
     "iopub.status.busy": "2020-10-26T01:48:09.732033Z",
     "iopub.status.idle": "2020-10-26T01:48:09.744703Z",
     "shell.execute_reply": "2020-10-26T01:48:09.744058Z"
    },
    "papermill": {
     "duration": 0.120224,
     "end_time": "2020-10-26T01:48:09.744829",
     "exception": false,
     "start_time": "2020-10-26T01:48:09.624605",
     "status": "completed"
    },
    "tags": []
   },
   "outputs": [
    {
     "data": {
      "text/plain": [
       "ProductType\n",
       "Honorarium       53\n",
       "Tablet         8531\n",
       "Pills         24816\n",
       "Name: Product name, dtype: int64"
      ]
     },
     "execution_count": 18,
     "metadata": {},
     "output_type": "execute_result"
    }
   ],
   "source": [
    "productsTypes = df_products.groupby(\"ProductType\")[\"Product name\"].count()\n",
    "productsTypes.sort_values()"
   ]
  },
  {
   "cell_type": "markdown",
   "metadata": {
    "papermill": {
     "duration": 0.098905,
     "end_time": "2020-10-26T01:48:09.933286",
     "exception": false,
     "start_time": "2020-10-26T01:48:09.834381",
     "status": "completed"
    },
    "tags": []
   },
   "source": [
    "## 5.Filters\n",
    "\n",
    "### 5.1.Postcode Filters\n",
    "\n",
    "To make our analysis more efficient, every project member will analyse a part of the data based of the pharmacy postcodes. We divided the work by the top 5 postcodes with the most products."
   ]
  },
  {
   "cell_type": "code",
   "execution_count": 19,
   "metadata": {
    "execution": {
     "iopub.execute_input": "2020-10-26T01:48:10.141021Z",
     "iopub.status.busy": "2020-10-26T01:48:10.139929Z",
     "iopub.status.idle": "2020-10-26T01:48:12.993728Z",
     "shell.execute_reply": "2020-10-26T01:48:12.992962Z"
    },
    "papermill": {
     "duration": 2.957235,
     "end_time": "2020-10-26T01:48:12.993857",
     "exception": false,
     "start_time": "2020-10-26T01:48:10.036622",
     "status": "completed"
    },
    "tags": []
   },
   "outputs": [
    {
     "data": {
      "text/plain": [
       "Pharmacy postcode\n",
       "64      10950\n",
       "33      20765\n",
       "83      26060\n",
       "81      29777\n",
       "51      43437\n",
       "       ...   \n",
       "22     836972\n",
       "40    1044184\n",
       "30    1587944\n",
       "10    3694895\n",
       "20    4290654\n",
       "Name: Product name, Length: 62, dtype: int64"
      ]
     },
     "execution_count": 19,
     "metadata": {},
     "output_type": "execute_result"
    }
   ],
   "source": [
    "df_by_postcode = df_all.groupby(\"Pharmacy postcode\")[\"Product name\"].count()\n",
    "df_by_postcode.sort_values()"
   ]
  },
  {
   "cell_type": "markdown",
   "metadata": {
    "papermill": {
     "duration": 0.089682,
     "end_time": "2020-10-26T01:48:13.174252",
     "exception": false,
     "start_time": "2020-10-26T01:48:13.084570",
     "status": "completed"
    },
    "tags": []
   },
   "source": [
    "In the code above we have looked at the top 5 postcodes in the dataset. These postcodes have been divided per project group member in the following code below."
   ]
  },
  {
   "cell_type": "code",
   "execution_count": 20,
   "metadata": {
    "execution": {
     "iopub.execute_input": "2020-10-26T01:48:13.374222Z",
     "iopub.status.busy": "2020-10-26T01:48:13.372946Z",
     "iopub.status.idle": "2020-10-26T01:48:20.546248Z",
     "shell.execute_reply": "2020-10-26T01:48:20.545637Z"
    },
    "papermill": {
     "duration": 7.281576,
     "end_time": "2020-10-26T01:48:20.546381",
     "exception": false,
     "start_time": "2020-10-26T01:48:13.264805",
     "status": "completed"
    },
    "tags": []
   },
   "outputs": [],
   "source": [
    "df_jak_filter = df_all[df_all['Pharmacy postcode'] == 10]\n",
    "df_nguyen_filter = df_all[df_all['Pharmacy postcode'] == 20].reset_index(drop=True)\n",
    "df_mitchel_filter = df_all[df_all['Pharmacy postcode'] == 22]\n",
    "df_nikita_filter = df_all[df_all['Pharmacy postcode'] == 30]\n",
    "df_mailinh_filter = df_all[df_all['Pharmacy postcode'] == 40]"
   ]
  },
  {
   "cell_type": "markdown",
   "metadata": {
    "papermill": {
     "duration": 0.089269,
     "end_time": "2020-10-26T01:48:20.725059",
     "exception": false,
     "start_time": "2020-10-26T01:48:20.635790",
     "status": "completed"
    },
    "tags": []
   },
   "source": [
    "## 6.Analysis\n",
    "\n",
    "This part of the notebook will show the analysis done by project group B. Every project member has made their own analysis on the data that is filtered on a specific region. This way we can see what the differences are in statistics per region."
   ]
  },
  {
   "cell_type": "markdown",
   "metadata": {
    "papermill": {
     "duration": 0.090044,
     "end_time": "2020-10-26T01:48:20.905077",
     "exception": false,
     "start_time": "2020-10-26T01:48:20.815033",
     "status": "completed"
    },
    "tags": []
   },
   "source": [
    "### 6.1.Region 10 (Jak)\n",
    "\n",
    "**6.1.1** The top 5 most profitable pharmacies according to total sales. Starting off with making a new dataframe and sorting the top 5 to be the most profitable pharmacies."
   ]
  },
  {
   "cell_type": "code",
   "execution_count": 21,
   "metadata": {
    "execution": {
     "iopub.execute_input": "2020-10-26T01:48:21.094045Z",
     "iopub.status.busy": "2020-10-26T01:48:21.093173Z",
     "iopub.status.idle": "2020-10-26T01:48:21.187171Z",
     "shell.execute_reply": "2020-10-26T01:48:21.186397Z"
    },
    "papermill": {
     "duration": 0.19147,
     "end_time": "2020-10-26T01:48:21.187293",
     "exception": false,
     "start_time": "2020-10-26T01:48:20.995823",
     "status": "completed"
    },
    "tags": []
   },
   "outputs": [
    {
     "data": {
      "text/html": [
       "<div>\n",
       "<style scoped>\n",
       "    .dataframe tbody tr th:only-of-type {\n",
       "        vertical-align: middle;\n",
       "    }\n",
       "\n",
       "    .dataframe tbody tr th {\n",
       "        vertical-align: top;\n",
       "    }\n",
       "\n",
       "    .dataframe thead th {\n",
       "        text-align: right;\n",
       "    }\n",
       "</style>\n",
       "<table border=\"1\" class=\"dataframe\">\n",
       "  <thead>\n",
       "    <tr style=\"text-align: right;\">\n",
       "      <th></th>\n",
       "      <th>Pharmacy number</th>\n",
       "      <th>Sales</th>\n",
       "    </tr>\n",
       "  </thead>\n",
       "  <tbody>\n",
       "    <tr>\n",
       "      <th>241</th>\n",
       "      <td>9090330</td>\n",
       "      <td>449803</td>\n",
       "    </tr>\n",
       "    <tr>\n",
       "      <th>252</th>\n",
       "      <td>9111423</td>\n",
       "      <td>442418</td>\n",
       "    </tr>\n",
       "    <tr>\n",
       "      <th>250</th>\n",
       "      <td>9105972</td>\n",
       "      <td>311686</td>\n",
       "    </tr>\n",
       "    <tr>\n",
       "      <th>228</th>\n",
       "      <td>8101971</td>\n",
       "      <td>142364</td>\n",
       "    </tr>\n",
       "    <tr>\n",
       "      <th>40</th>\n",
       "      <td>7338390</td>\n",
       "      <td>111083</td>\n",
       "    </tr>\n",
       "  </tbody>\n",
       "</table>\n",
       "</div>"
      ],
      "text/plain": [
       "     Pharmacy number   Sales\n",
       "241          9090330  449803\n",
       "252          9111423  442418\n",
       "250          9105972  311686\n",
       "228          8101971  142364\n",
       "40           7338390  111083"
      ]
     },
     "execution_count": 21,
     "metadata": {},
     "output_type": "execute_result"
    }
   ],
   "source": [
    "df_sales_ph = df_jak_filter.groupby('Pharmacy number')['Sales'].count().reset_index()\n",
    "df_sales_ph.columns=['Pharmacy number','Sales']\n",
    "df_sales_ph.sort_values(by='Sales',ascending=False,inplace=True)\n",
    "df_sales5 = df_sales_ph.head(5)\n",
    "df_sales5"
   ]
  },
  {
   "cell_type": "markdown",
   "metadata": {
    "papermill": {
     "duration": 0.091183,
     "end_time": "2020-10-26T01:48:21.370043",
     "exception": false,
     "start_time": "2020-10-26T01:48:21.278860",
     "status": "completed"
    },
    "tags": []
   },
   "source": [
    "Visualizing the dataframe using a plot bar as it's a good visual of the distribution."
   ]
  },
  {
   "cell_type": "code",
   "execution_count": 22,
   "metadata": {
    "execution": {
     "iopub.execute_input": "2020-10-26T01:48:21.558866Z",
     "iopub.status.busy": "2020-10-26T01:48:21.558021Z",
     "iopub.status.idle": "2020-10-26T01:48:21.890593Z",
     "shell.execute_reply": "2020-10-26T01:48:21.889867Z"
    },
    "papermill": {
     "duration": 0.430028,
     "end_time": "2020-10-26T01:48:21.890718",
     "exception": false,
     "start_time": "2020-10-26T01:48:21.460690",
     "status": "completed"
    },
    "tags": []
   },
   "outputs": [
    {
     "data": {
      "image/png": "[encoded data removed]",
      "text/plain": [
       "<Figure size 432x288 with 1 Axes>"
      ]
     },
     "metadata": {
      "needs_background": "light"
     },
     "output_type": "display_data"
    }
   ],
   "source": [
    "bars = df_sales5['Pharmacy number']\n",
    "height = df_sales5['Sales']\n",
    "\n",
    "y_pos = np.arange(len(bars))\n",
    "plt.barh(y_pos, height)\n",
    "plt.yticks(y_pos, bars)\n",
    "plt.title('Top 5 most profitable pharmacies')\n",
    "plt.show()"
   ]
  },
  {
   "cell_type": "markdown",
   "metadata": {
    "papermill": {
     "duration": 0.091815,
     "end_time": "2020-10-26T01:48:22.074097",
     "exception": false,
     "start_time": "2020-10-26T01:48:21.982282",
     "status": "completed"
    },
    "tags": []
   },
   "source": [
    "There is a huge lead on these 2 pharmacies in total sales compared to all others."
   ]
  },
  {
   "cell_type": "markdown",
   "metadata": {
    "papermill": {
     "duration": 0.092187,
     "end_time": "2020-10-26T01:48:22.259214",
     "exception": false,
     "start_time": "2020-10-26T01:48:22.167027",
     "status": "completed"
    },
    "tags": []
   },
   "source": [
    "**6.1.2** Seasonal sales"
   ]
  },
  {
   "cell_type": "markdown",
   "metadata": {
    "papermill": {
     "duration": 0.091024,
     "end_time": "2020-10-26T01:48:22.442078",
     "exception": false,
     "start_time": "2020-10-26T01:48:22.351054",
     "status": "completed"
    },
    "tags": []
   },
   "source": [
    "Total sales per season."
   ]
  },
  {
   "cell_type": "code",
   "execution_count": 23,
   "metadata": {
    "execution": {
     "iopub.execute_input": "2020-10-26T01:48:22.632188Z",
     "iopub.status.busy": "2020-10-26T01:48:22.631386Z",
     "iopub.status.idle": "2020-10-26T01:48:22.673276Z",
     "shell.execute_reply": "2020-10-26T01:48:22.672543Z"
    },
    "papermill": {
     "duration": 0.1398,
     "end_time": "2020-10-26T01:48:22.673407",
     "exception": false,
     "start_time": "2020-10-26T01:48:22.533607",
     "status": "completed"
    },
    "tags": []
   },
   "outputs": [
    {
     "data": {
      "text/html": [
       "<div>\n",
       "<style scoped>\n",
       "    .dataframe tbody tr th:only-of-type {\n",
       "        vertical-align: middle;\n",
       "    }\n",
       "\n",
       "    .dataframe tbody tr th {\n",
       "        vertical-align: top;\n",
       "    }\n",
       "\n",
       "    .dataframe thead th {\n",
       "        text-align: right;\n",
       "    }\n",
       "</style>\n",
       "<table border=\"1\" class=\"dataframe\">\n",
       "  <thead>\n",
       "    <tr style=\"text-align: right;\">\n",
       "      <th></th>\n",
       "      <th>Season</th>\n",
       "      <th>Sales</th>\n",
       "    </tr>\n",
       "  </thead>\n",
       "  <tbody>\n",
       "    <tr>\n",
       "      <th>2</th>\n",
       "      <td>autumn</td>\n",
       "      <td>728773</td>\n",
       "    </tr>\n",
       "    <tr>\n",
       "      <th>0</th>\n",
       "      <td>Spring</td>\n",
       "      <td>646520</td>\n",
       "    </tr>\n",
       "    <tr>\n",
       "      <th>1</th>\n",
       "      <td>summer</td>\n",
       "      <td>646512</td>\n",
       "    </tr>\n",
       "    <tr>\n",
       "      <th>3</th>\n",
       "      <td>winter</td>\n",
       "      <td>633169</td>\n",
       "    </tr>\n",
       "  </tbody>\n",
       "</table>\n",
       "</div>"
      ],
      "text/plain": [
       "   Season   Sales\n",
       "2  autumn  728773\n",
       "0  Spring  646520\n",
       "1  summer  646512\n",
       "3  winter  633169"
      ]
     },
     "execution_count": 23,
     "metadata": {},
     "output_type": "execute_result"
    }
   ],
   "source": [
    "df_sales_s = df_jak_filter.groupby(['Season'])['CNK'].count().reset_index()\n",
    "df_sales_s.columns=['Season','Sales']\n",
    "df_sales_s.sort_values(by='Sales',ascending=False,inplace=True)\n",
    "df_sales_s"
   ]
  },
  {
   "cell_type": "markdown",
   "metadata": {
    "papermill": {
     "duration": 0.092365,
     "end_time": "2020-10-26T01:48:22.858043",
     "exception": false,
     "start_time": "2020-10-26T01:48:22.765678",
     "status": "completed"
    },
    "tags": []
   },
   "source": [
    "Represented by a pie chart."
   ]
  },
  {
   "cell_type": "code",
   "execution_count": 24,
   "metadata": {
    "execution": {
     "iopub.execute_input": "2020-10-26T01:48:23.061282Z",
     "iopub.status.busy": "2020-10-26T01:48:23.056806Z",
     "iopub.status.idle": "2020-10-26T01:48:23.138445Z",
     "shell.execute_reply": "2020-10-26T01:48:23.137695Z"
    },
    "papermill": {
     "duration": 0.188434,
     "end_time": "2020-10-26T01:48:23.138603",
     "exception": false,
     "start_time": "2020-10-26T01:48:22.950169",
     "status": "completed"
    },
    "tags": []
   },
   "outputs": [
    {
     "data": {
      "image/png": "[encoded data removed]",
      "text/plain": [
       "<Figure size 432x288 with 1 Axes>"
      ]
     },
     "metadata": {},
     "output_type": "display_data"
    }
   ],
   "source": [
    "labels = df_sales_s['Season']\n",
    "sizes = df_sales_s['Sales']\n",
    "explode = (0.1, 0, 0, 0)\n",
    "\n",
    "fig1, ax1 = plt.subplots()\n",
    "ax1.pie(sizes, explode=explode, labels=labels, autopct='%1.1f%%',\n",
    "        shadow=True, startangle=90)\n",
    "ax1.axis('equal')\n",
    "\n",
    "plt.show()"
   ]
  },
  {
   "cell_type": "markdown",
   "metadata": {
    "papermill": {
     "duration": 0.094282,
     "end_time": "2020-10-26T01:48:23.327063",
     "exception": false,
     "start_time": "2020-10-26T01:48:23.232781",
     "status": "completed"
    },
    "tags": []
   },
   "source": [
    "Autumn is substantially stronger period compared to Winter as flu season is starting, but the duration of the cold season the prices drop for some reason."
   ]
  },
  {
   "cell_type": "markdown",
   "metadata": {
    "papermill": {
     "duration": 0.104888,
     "end_time": "2020-10-26T01:48:23.537145",
     "exception": false,
     "start_time": "2020-10-26T01:48:23.432257",
     "status": "completed"
    },
    "tags": []
   },
   "source": [
    "**6.1.3** Gender distribution"
   ]
  },
  {
   "cell_type": "code",
   "execution_count": 25,
   "metadata": {
    "execution": {
     "iopub.execute_input": "2020-10-26T01:48:23.859357Z",
     "iopub.status.busy": "2020-10-26T01:48:23.858579Z",
     "iopub.status.idle": "2020-10-26T01:48:24.287565Z",
     "shell.execute_reply": "2020-10-26T01:48:24.286851Z"
    },
    "papermill": {
     "duration": 0.644917,
     "end_time": "2020-10-26T01:48:24.287690",
     "exception": false,
     "start_time": "2020-10-26T01:48:23.642773",
     "status": "completed"
    },
    "tags": []
   },
   "outputs": [
    {
     "data": {
      "text/html": [
       "<div>\n",
       "<style scoped>\n",
       "    .dataframe tbody tr th:only-of-type {\n",
       "        vertical-align: middle;\n",
       "    }\n",
       "\n",
       "    .dataframe tbody tr th {\n",
       "        vertical-align: top;\n",
       "    }\n",
       "\n",
       "    .dataframe thead th {\n",
       "        text-align: right;\n",
       "    }\n",
       "</style>\n",
       "<table border=\"1\" class=\"dataframe\">\n",
       "  <thead>\n",
       "    <tr style=\"text-align: right;\">\n",
       "      <th></th>\n",
       "      <th>Gender</th>\n",
       "      <th>Sales</th>\n",
       "    </tr>\n",
       "  </thead>\n",
       "  <tbody>\n",
       "    <tr>\n",
       "      <th>0</th>\n",
       "      <td>Female</td>\n",
       "      <td>2256176</td>\n",
       "    </tr>\n",
       "    <tr>\n",
       "      <th>1</th>\n",
       "      <td>Male</td>\n",
       "      <td>1438719</td>\n",
       "    </tr>\n",
       "  </tbody>\n",
       "</table>\n",
       "</div>"
      ],
      "text/plain": [
       "   Gender    Sales\n",
       "0  Female  2256176\n",
       "1    Male  1438719"
      ]
     },
     "execution_count": 25,
     "metadata": {},
     "output_type": "execute_result"
    }
   ],
   "source": [
    "df_gender_10 = df_jak_filter.groupby('Gender')['Sales'].count().reset_index()\n",
    "df_gender_10.columns=['Gender','Sales']\n",
    "df_gender_10"
   ]
  },
  {
   "cell_type": "code",
   "execution_count": 26,
   "metadata": {
    "execution": {
     "iopub.execute_input": "2020-10-26T01:48:24.491802Z",
     "iopub.status.busy": "2020-10-26T01:48:24.490529Z",
     "iopub.status.idle": "2020-10-26T01:48:24.557245Z",
     "shell.execute_reply": "2020-10-26T01:48:24.557799Z"
    },
    "papermill": {
     "duration": 0.175602,
     "end_time": "2020-10-26T01:48:24.557971",
     "exception": false,
     "start_time": "2020-10-26T01:48:24.382369",
     "status": "completed"
    },
    "tags": []
   },
   "outputs": [
    {
     "data": {
      "image/png": "[encoded data removed]",
      "text/plain": [
       "<Figure size 432x288 with 1 Axes>"
      ]
     },
     "metadata": {},
     "output_type": "display_data"
    }
   ],
   "source": [
    "labels = df_gender_10['Gender']\n",
    "sizes = df_gender_10['Sales']\n",
    "explode = (0.1, 0)\n",
    "\n",
    "fig1, ax1 = plt.subplots()\n",
    "ax1.pie(sizes, explode=explode, labels=labels, autopct='%1.1f%%',\n",
    "        shadow=True, startangle=90)\n",
    "ax1.axis('equal')\n",
    "\n",
    "plt.show()"
   ]
  },
  {
   "cell_type": "markdown",
   "metadata": {
    "papermill": {
     "duration": 0.094931,
     "end_time": "2020-10-26T01:48:24.748518",
     "exception": false,
     "start_time": "2020-10-26T01:48:24.653587",
     "status": "completed"
    },
    "tags": []
   },
   "source": [
    "According to the data, a majority of the sales are from the female side."
   ]
  },
  {
   "cell_type": "markdown",
   "metadata": {
    "papermill": {
     "duration": 0.094924,
     "end_time": "2020-10-26T01:48:24.939671",
     "exception": false,
     "start_time": "2020-10-26T01:48:24.844747",
     "status": "completed"
    },
    "tags": []
   },
   "source": [
    "**6.1.4** Year of birth correlating to the total amount of sales"
   ]
  },
  {
   "cell_type": "code",
   "execution_count": 27,
   "metadata": {
    "execution": {
     "iopub.execute_input": "2020-10-26T01:48:25.170646Z",
     "iopub.status.busy": "2020-10-26T01:48:25.169866Z",
     "iopub.status.idle": "2020-10-26T01:48:25.260796Z",
     "shell.execute_reply": "2020-10-26T01:48:25.260028Z"
    },
    "papermill": {
     "duration": 0.210456,
     "end_time": "2020-10-26T01:48:25.260921",
     "exception": false,
     "start_time": "2020-10-26T01:48:25.050465",
     "status": "completed"
    },
    "tags": []
   },
   "outputs": [
    {
     "data": {
      "text/html": [
       "<div>\n",
       "<style scoped>\n",
       "    .dataframe tbody tr th:only-of-type {\n",
       "        vertical-align: middle;\n",
       "    }\n",
       "\n",
       "    .dataframe tbody tr th {\n",
       "        vertical-align: top;\n",
       "    }\n",
       "\n",
       "    .dataframe thead th {\n",
       "        text-align: right;\n",
       "    }\n",
       "</style>\n",
       "<table border=\"1\" class=\"dataframe\">\n",
       "  <thead>\n",
       "    <tr style=\"text-align: right;\">\n",
       "      <th></th>\n",
       "      <th>YOB</th>\n",
       "      <th>Sales</th>\n",
       "    </tr>\n",
       "  </thead>\n",
       "  <tbody>\n",
       "    <tr>\n",
       "      <th>0</th>\n",
       "      <td>0</td>\n",
       "      <td>362</td>\n",
       "    </tr>\n",
       "    <tr>\n",
       "      <th>1</th>\n",
       "      <td>1898</td>\n",
       "      <td>1</td>\n",
       "    </tr>\n",
       "    <tr>\n",
       "      <th>2</th>\n",
       "      <td>1899</td>\n",
       "      <td>300</td>\n",
       "    </tr>\n",
       "    <tr>\n",
       "      <th>3</th>\n",
       "      <td>1900</td>\n",
       "      <td>2</td>\n",
       "    </tr>\n",
       "    <tr>\n",
       "      <th>4</th>\n",
       "      <td>1901</td>\n",
       "      <td>1</td>\n",
       "    </tr>\n",
       "    <tr>\n",
       "      <th>...</th>\n",
       "      <td>...</td>\n",
       "      <td>...</td>\n",
       "    </tr>\n",
       "    <tr>\n",
       "      <th>118</th>\n",
       "      <td>2025</td>\n",
       "      <td>15</td>\n",
       "    </tr>\n",
       "    <tr>\n",
       "      <th>119</th>\n",
       "      <td>2026</td>\n",
       "      <td>15</td>\n",
       "    </tr>\n",
       "    <tr>\n",
       "      <th>120</th>\n",
       "      <td>2027</td>\n",
       "      <td>18</td>\n",
       "    </tr>\n",
       "    <tr>\n",
       "      <th>121</th>\n",
       "      <td>2028</td>\n",
       "      <td>48</td>\n",
       "    </tr>\n",
       "    <tr>\n",
       "      <th>122</th>\n",
       "      <td>2029</td>\n",
       "      <td>16</td>\n",
       "    </tr>\n",
       "  </tbody>\n",
       "</table>\n",
       "<p>123 rows × 2 columns</p>\n",
       "</div>"
      ],
      "text/plain": [
       "      YOB  Sales\n",
       "0       0    362\n",
       "1    1898      1\n",
       "2    1899    300\n",
       "3    1900      2\n",
       "4    1901      1\n",
       "..    ...    ...\n",
       "118  2025     15\n",
       "119  2026     15\n",
       "120  2027     18\n",
       "121  2028     48\n",
       "122  2029     16\n",
       "\n",
       "[123 rows x 2 columns]"
      ]
     },
     "execution_count": 27,
     "metadata": {},
     "output_type": "execute_result"
    }
   ],
   "source": [
    "df_yob_10 = df_jak_filter.groupby('YOB')['Sales'].count().reset_index()\n",
    "df_yob_10.columns=['YOB','Sales']\n",
    "df_yob_10"
   ]
  },
  {
   "cell_type": "code",
   "execution_count": 28,
   "metadata": {
    "execution": {
     "iopub.execute_input": "2020-10-26T01:48:25.469966Z",
     "iopub.status.busy": "2020-10-26T01:48:25.468750Z",
     "iopub.status.idle": "2020-10-26T01:48:25.811975Z",
     "shell.execute_reply": "2020-10-26T01:48:25.812705Z"
    },
    "papermill": {
     "duration": 0.454298,
     "end_time": "2020-10-26T01:48:25.812859",
     "exception": false,
     "start_time": "2020-10-26T01:48:25.358561",
     "status": "completed"
    },
    "tags": []
   },
   "outputs": [
    {
     "data": {
      "image/png": "[encoded data removed]",
      "text/plain": [
       "<Figure size 1008x576 with 1 Axes>"
      ]
     },
     "metadata": {
      "needs_background": "light"
     },
     "output_type": "display_data"
    }
   ],
   "source": [
    "plt.figure(figsize=(14,8))\n",
    "\n",
    "plt.plot(df_yob_10.YOB, df_yob_10.Sales)\n",
    "plt.title('Sales according to year of birth')\n",
    "plt.xlabel('Year of Birth')\n",
    "plt.ylabel('Total Sales')\n",
    "plt.xlim(1910, 2020)\n",
    "\n",
    "plt.show()"
   ]
  },
  {
   "cell_type": "markdown",
   "metadata": {
    "papermill": {
     "duration": 0.109269,
     "end_time": "2020-10-26T01:48:26.020006",
     "exception": false,
     "start_time": "2020-10-26T01:48:25.910737",
     "status": "completed"
    },
    "tags": []
   },
   "source": [
    "The majority of the most profitable clients are born between 1925 and 1935 with a small weird spike around 2015-2019."
   ]
  },
  {
   "cell_type": "markdown",
   "metadata": {
    "papermill": {
     "duration": 0.097277,
     "end_time": "2020-10-26T01:48:26.216333",
     "exception": false,
     "start_time": "2020-10-26T01:48:26.119056",
     "status": "completed"
    },
    "tags": []
   },
   "source": [
    "### 6.2.Region 20 (Nguyen)\n",
    "\n",
    "Make the dataset smaller</font>"
   ]
  },
  {
   "cell_type": "code",
   "execution_count": 29,
   "metadata": {
    "execution": {
     "iopub.execute_input": "2020-10-26T01:48:26.418356Z",
     "iopub.status.busy": "2020-10-26T01:48:26.417461Z",
     "iopub.status.idle": "2020-10-26T01:48:26.421844Z",
     "shell.execute_reply": "2020-10-26T01:48:26.421206Z"
    },
    "papermill": {
     "duration": 0.107098,
     "end_time": "2020-10-26T01:48:26.421970",
     "exception": false,
     "start_time": "2020-10-26T01:48:26.314872",
     "status": "completed"
    },
    "tags": []
   },
   "outputs": [
    {
     "data": {
      "text/plain": [
       "(4290654, 16)"
      ]
     },
     "execution_count": 29,
     "metadata": {},
     "output_type": "execute_result"
    }
   ],
   "source": [
    "df_nguyen_filter.shape"
   ]
  },
  {
   "cell_type": "markdown",
   "metadata": {
    "papermill": {
     "duration": 0.09722,
     "end_time": "2020-10-26T01:48:26.617126",
     "exception": false,
     "start_time": "2020-10-26T01:48:26.519906",
     "status": "completed"
    },
    "tags": []
   },
   "source": [
    "I had to take the region 20 and since it contains too much data so I only filter by the first 1000 samples and sort it by the Product Type.\t"
   ]
  },
  {
   "cell_type": "code",
   "execution_count": 30,
   "metadata": {
    "execution": {
     "iopub.execute_input": "2020-10-26T01:48:26.817085Z",
     "iopub.status.busy": "2020-10-26T01:48:26.816304Z",
     "iopub.status.idle": "2020-10-26T01:48:27.029436Z",
     "shell.execute_reply": "2020-10-26T01:48:27.030074Z"
    },
    "papermill": {
     "duration": 0.316048,
     "end_time": "2020-10-26T01:48:27.030232",
     "exception": false,
     "start_time": "2020-10-26T01:48:26.714184",
     "status": "completed"
    },
    "tags": []
   },
   "outputs": [
    {
     "data": {
      "text/html": [
       "<div>\n",
       "<style scoped>\n",
       "    .dataframe tbody tr th:only-of-type {\n",
       "        vertical-align: middle;\n",
       "    }\n",
       "\n",
       "    .dataframe tbody tr th {\n",
       "        vertical-align: top;\n",
       "    }\n",
       "\n",
       "    .dataframe thead th {\n",
       "        text-align: right;\n",
       "    }\n",
       "</style>\n",
       "<table border=\"1\" class=\"dataframe\">\n",
       "  <thead>\n",
       "    <tr style=\"text-align: right;\">\n",
       "      <th></th>\n",
       "      <th>Delivery date</th>\n",
       "      <th>Delivery time</th>\n",
       "      <th>Pharmacy number</th>\n",
       "      <th>Pharmacy postcode</th>\n",
       "      <th>YOB</th>\n",
       "      <th>Gender</th>\n",
       "      <th>CNK</th>\n",
       "      <th>Product name</th>\n",
       "      <th>ATC code</th>\n",
       "      <th>Unit</th>\n",
       "      <th>Price</th>\n",
       "      <th>Contribution</th>\n",
       "      <th>DateTime</th>\n",
       "      <th>date_offset</th>\n",
       "      <th>Season</th>\n",
       "      <th>Sales</th>\n",
       "    </tr>\n",
       "  </thead>\n",
       "  <tbody>\n",
       "    <tr>\n",
       "      <th>0</th>\n",
       "      <td>07/27/2018</td>\n",
       "      <td>11:06</td>\n",
       "      <td>7686756</td>\n",
       "      <td>20</td>\n",
       "      <td>1952</td>\n",
       "      <td>Female</td>\n",
       "      <td>33076</td>\n",
       "      <td>CYCLOCUR DRAG 3X21</td>\n",
       "      <td>G03FB01</td>\n",
       "      <td>21</td>\n",
       "      <td>9.24</td>\n",
       "      <td>1.58</td>\n",
       "      <td>2018-07-27 11:06:00</td>\n",
       "      <td>407.0</td>\n",
       "      <td>summer</td>\n",
       "      <td>194.04</td>\n",
       "    </tr>\n",
       "    <tr>\n",
       "      <th>1</th>\n",
       "      <td>07/26/2019</td>\n",
       "      <td>14:12</td>\n",
       "      <td>7981002</td>\n",
       "      <td>20</td>\n",
       "      <td>1981</td>\n",
       "      <td>Male</td>\n",
       "      <td>5510276</td>\n",
       "      <td>BIJKOMEND HONORARIUM VOOR DE SUBSTITUTIEBEHAND...</td>\n",
       "      <td></td>\n",
       "      <td>1</td>\n",
       "      <td>0.83</td>\n",
       "      <td>0.00</td>\n",
       "      <td>2019-07-26 14:12:00</td>\n",
       "      <td>406.0</td>\n",
       "      <td>summer</td>\n",
       "      <td>0.83</td>\n",
       "    </tr>\n",
       "  </tbody>\n",
       "</table>\n",
       "</div>"
      ],
      "text/plain": [
       "  Delivery date Delivery time  Pharmacy number  Pharmacy postcode   YOB  \\\n",
       "0    07/27/2018         11:06          7686756                 20  1952   \n",
       "1    07/26/2019         14:12          7981002                 20  1981   \n",
       "\n",
       "   Gender      CNK                                       Product name  \\\n",
       "0  Female    33076                                 CYCLOCUR DRAG 3X21   \n",
       "1    Male  5510276  BIJKOMEND HONORARIUM VOOR DE SUBSTITUTIEBEHAND...   \n",
       "\n",
       "  ATC code  Unit  Price  Contribution            DateTime  date_offset  \\\n",
       "0  G03FB01    21   9.24          1.58 2018-07-27 11:06:00        407.0   \n",
       "1              1   0.83          0.00 2019-07-26 14:12:00        406.0   \n",
       "\n",
       "   Season   Sales  \n",
       "0  summer  194.04  \n",
       "1  summer    0.83  "
      ]
     },
     "execution_count": 30,
     "metadata": {},
     "output_type": "execute_result"
    }
   ],
   "source": [
    "df_s = df_nguyen_filter.sample(1000).reset_index(drop=True)\n",
    "df_s.head(2)"
   ]
  },
  {
   "cell_type": "markdown",
   "metadata": {
    "papermill": {
     "duration": 0.097863,
     "end_time": "2020-10-26T01:48:27.227832",
     "exception": false,
     "start_time": "2020-10-26T01:48:27.129969",
     "status": "completed"
    },
    "tags": []
   },
   "source": [
    "**6.2.1 Comparison between Product Type**\n"
   ]
  },
  {
   "cell_type": "code",
   "execution_count": 31,
   "metadata": {
    "execution": {
     "iopub.execute_input": "2020-10-26T01:48:27.438325Z",
     "iopub.status.busy": "2020-10-26T01:48:27.436914Z",
     "iopub.status.idle": "2020-10-26T01:48:27.826602Z",
     "shell.execute_reply": "2020-10-26T01:48:27.825525Z"
    },
    "papermill": {
     "duration": 0.498483,
     "end_time": "2020-10-26T01:48:27.826791",
     "exception": false,
     "start_time": "2020-10-26T01:48:27.328308",
     "status": "completed"
    },
    "tags": []
   },
   "outputs": [
    {
     "data": {
      "text/html": [
       "<div>\n",
       "<style scoped>\n",
       "    .dataframe tbody tr th:only-of-type {\n",
       "        vertical-align: middle;\n",
       "    }\n",
       "\n",
       "    .dataframe tbody tr th {\n",
       "        vertical-align: top;\n",
       "    }\n",
       "\n",
       "    .dataframe thead th {\n",
       "        text-align: right;\n",
       "    }\n",
       "</style>\n",
       "<table border=\"1\" class=\"dataframe\">\n",
       "  <thead>\n",
       "    <tr style=\"text-align: right;\">\n",
       "      <th></th>\n",
       "      <th>Delivery date</th>\n",
       "      <th>Delivery time</th>\n",
       "      <th>Pharmacy number</th>\n",
       "      <th>Pharmacy postcode</th>\n",
       "      <th>YOB</th>\n",
       "      <th>Gender</th>\n",
       "      <th>CNK</th>\n",
       "      <th>Product name</th>\n",
       "      <th>ATC code</th>\n",
       "      <th>Unit</th>\n",
       "      <th>Price</th>\n",
       "      <th>Contribution</th>\n",
       "      <th>DateTime</th>\n",
       "      <th>date_offset</th>\n",
       "      <th>Season</th>\n",
       "      <th>Sales</th>\n",
       "      <th>ProductType</th>\n",
       "    </tr>\n",
       "  </thead>\n",
       "  <tbody>\n",
       "    <tr>\n",
       "      <th>0</th>\n",
       "      <td>07/27/2018</td>\n",
       "      <td>11:06</td>\n",
       "      <td>7686756</td>\n",
       "      <td>20</td>\n",
       "      <td>1952</td>\n",
       "      <td>Female</td>\n",
       "      <td>33076</td>\n",
       "      <td>CYCLOCUR DRAG 3X21</td>\n",
       "      <td>G03FB01</td>\n",
       "      <td>21</td>\n",
       "      <td>9.24</td>\n",
       "      <td>1.58</td>\n",
       "      <td>2018-07-27 11:06:00</td>\n",
       "      <td>407.0</td>\n",
       "      <td>summer</td>\n",
       "      <td>194.04</td>\n",
       "      <td>Pills</td>\n",
       "    </tr>\n",
       "    <tr>\n",
       "      <th>1</th>\n",
       "      <td>07/26/2019</td>\n",
       "      <td>14:12</td>\n",
       "      <td>7981002</td>\n",
       "      <td>20</td>\n",
       "      <td>1981</td>\n",
       "      <td>Male</td>\n",
       "      <td>5510276</td>\n",
       "      <td>BIJKOMEND HONORARIUM VOOR DE SUBSTITUTIEBEHAND...</td>\n",
       "      <td></td>\n",
       "      <td>1</td>\n",
       "      <td>0.83</td>\n",
       "      <td>0.00</td>\n",
       "      <td>2019-07-26 14:12:00</td>\n",
       "      <td>406.0</td>\n",
       "      <td>summer</td>\n",
       "      <td>0.83</td>\n",
       "      <td>Honorarium</td>\n",
       "    </tr>\n",
       "    <tr>\n",
       "      <th>2</th>\n",
       "      <td>09/25/2017</td>\n",
       "      <td>15:57</td>\n",
       "      <td>8002245</td>\n",
       "      <td>20</td>\n",
       "      <td>1955</td>\n",
       "      <td>Female</td>\n",
       "      <td>2953099</td>\n",
       "      <td>DESLORATADINE SANDOZ 5 MG FILMOMH TABL  50 X  ...</td>\n",
       "      <td>R06AX27</td>\n",
       "      <td>50</td>\n",
       "      <td>13.05</td>\n",
       "      <td>6.78</td>\n",
       "      <td>2017-09-25 15:57:00</td>\n",
       "      <td>605.0</td>\n",
       "      <td>autumn</td>\n",
       "      <td>652.50</td>\n",
       "      <td>Tablet</td>\n",
       "    </tr>\n",
       "    <tr>\n",
       "      <th>3</th>\n",
       "      <td>05/29/2019</td>\n",
       "      <td>10:46</td>\n",
       "      <td>7334325</td>\n",
       "      <td>20</td>\n",
       "      <td>1926</td>\n",
       "      <td>Male</td>\n",
       "      <td>2454726</td>\n",
       "      <td>NOVOMIX 50 PENFILL 100U/1ML 5 3ML</td>\n",
       "      <td>A10AD05</td>\n",
       "      <td>5</td>\n",
       "      <td>41.09</td>\n",
       "      <td>0.00</td>\n",
       "      <td>2019-05-29 10:46:00</td>\n",
       "      <td>209.0</td>\n",
       "      <td>Spring</td>\n",
       "      <td>205.45</td>\n",
       "      <td>Pills</td>\n",
       "    </tr>\n",
       "    <tr>\n",
       "      <th>4</th>\n",
       "      <td>11/15/2017</td>\n",
       "      <td>11:35</td>\n",
       "      <td>7334325</td>\n",
       "      <td>20</td>\n",
       "      <td>1933</td>\n",
       "      <td>Female</td>\n",
       "      <td>1184027</td>\n",
       "      <td>ZESTRIL 20 COMP 56X20MG</td>\n",
       "      <td>C09AA03</td>\n",
       "      <td>56</td>\n",
       "      <td>19.85</td>\n",
       "      <td>0.00</td>\n",
       "      <td>2017-11-15 11:35:00</td>\n",
       "      <td>795.0</td>\n",
       "      <td>autumn</td>\n",
       "      <td>1111.60</td>\n",
       "      <td>Pills</td>\n",
       "    </tr>\n",
       "  </tbody>\n",
       "</table>\n",
       "</div>"
      ],
      "text/plain": [
       "  Delivery date Delivery time  Pharmacy number  Pharmacy postcode   YOB  \\\n",
       "0    07/27/2018         11:06          7686756                 20  1952   \n",
       "1    07/26/2019         14:12          7981002                 20  1981   \n",
       "2    09/25/2017         15:57          8002245                 20  1955   \n",
       "3    05/29/2019         10:46          7334325                 20  1926   \n",
       "4    11/15/2017         11:35          7334325                 20  1933   \n",
       "\n",
       "   Gender      CNK                                       Product name  \\\n",
       "0  Female    33076                                 CYCLOCUR DRAG 3X21   \n",
       "1    Male  5510276  BIJKOMEND HONORARIUM VOOR DE SUBSTITUTIEBEHAND...   \n",
       "2  Female  2953099  DESLORATADINE SANDOZ 5 MG FILMOMH TABL  50 X  ...   \n",
       "3    Male  2454726                  NOVOMIX 50 PENFILL 100U/1ML 5 3ML   \n",
       "4  Female  1184027                            ZESTRIL 20 COMP 56X20MG   \n",
       "\n",
       "  ATC code  Unit  Price  Contribution            DateTime  date_offset  \\\n",
       "0  G03FB01    21   9.24          1.58 2018-07-27 11:06:00        407.0   \n",
       "1              1   0.83          0.00 2019-07-26 14:12:00        406.0   \n",
       "2  R06AX27    50  13.05          6.78 2017-09-25 15:57:00        605.0   \n",
       "3  A10AD05     5  41.09          0.00 2019-05-29 10:46:00        209.0   \n",
       "4  C09AA03    56  19.85          0.00 2017-11-15 11:35:00        795.0   \n",
       "\n",
       "   Season    Sales ProductType  \n",
       "0  summer   194.04       Pills  \n",
       "1  summer     0.83  Honorarium  \n",
       "2  autumn   652.50      Tablet  \n",
       "3  Spring   205.45       Pills  \n",
       "4  autumn  1111.60       Pills  "
      ]
     },
     "execution_count": 31,
     "metadata": {},
     "output_type": "execute_result"
    }
   ],
   "source": [
    "for i in range(0, len(df_s)):\n",
    "    if ('honorarium' in df_s.loc[i, 'Product name'].lower()): \n",
    "        df_s.loc[i, 'ProductType'] = 'Honorarium'\n",
    "    elif ('tabl' in df_s.loc[i, 'Product name'].lower()): \n",
    "        df_s.loc[i, 'ProductType'] = 'Tablet'\n",
    "    else:\n",
    "        df_s.loc[i, 'ProductType'] = 'Pills'\n",
    "        \n",
    "df_s.head()"
   ]
  },
  {
   "cell_type": "markdown",
   "metadata": {
    "papermill": {
     "duration": 0.099528,
     "end_time": "2020-10-26T01:48:28.026361",
     "exception": false,
     "start_time": "2020-10-26T01:48:27.926833",
     "status": "completed"
    },
    "tags": []
   },
   "source": [
    "**Comparison plot**"
   ]
  },
  {
   "cell_type": "markdown",
   "metadata": {
    "papermill": {
     "duration": 0.099568,
     "end_time": "2020-10-26T01:48:28.226592",
     "exception": false,
     "start_time": "2020-10-26T01:48:28.127024",
     "status": "completed"
    },
    "tags": []
   },
   "source": [
    "Which is more expensive, medication, tablet or honorarium?"
   ]
  },
  {
   "cell_type": "code",
   "execution_count": 32,
   "metadata": {
    "execution": {
     "iopub.execute_input": "2020-10-26T01:48:28.440398Z",
     "iopub.status.busy": "2020-10-26T01:48:28.435680Z",
     "iopub.status.idle": "2020-10-26T01:48:28.743854Z",
     "shell.execute_reply": "2020-10-26T01:48:28.742914Z"
    },
    "papermill": {
     "duration": 0.417585,
     "end_time": "2020-10-26T01:48:28.744000",
     "exception": false,
     "start_time": "2020-10-26T01:48:28.326415",
     "status": "completed"
    },
    "tags": []
   },
   "outputs": [
    {
     "data": {
      "image/png": "[encoded data removed]",
      "text/plain": [
       "<Figure size 720x288 with 1 Axes>"
      ]
     },
     "metadata": {
      "needs_background": "light"
     },
     "output_type": "display_data"
    }
   ],
   "source": [
    "plt.figure(figsize=(10,4))\n",
    "sns.barplot(x='ProductType', y='Price', data=df_s);"
   ]
  },
  {
   "cell_type": "markdown",
   "metadata": {
    "papermill": {
     "duration": 0.099775,
     "end_time": "2020-10-26T01:48:28.954815",
     "exception": false,
     "start_time": "2020-10-26T01:48:28.855040",
     "status": "completed"
    },
    "tags": []
   },
   "source": [
    "**6.2.2 Most expensive products:**\n",
    "\n",
    "The chart below noted on which product has the highest income. The ten most expensive products have a price range between 250 and 1750."
   ]
  },
  {
   "cell_type": "code",
   "execution_count": 33,
   "metadata": {
    "execution": {
     "iopub.execute_input": "2020-10-26T01:48:29.161936Z",
     "iopub.status.busy": "2020-10-26T01:48:29.161126Z",
     "iopub.status.idle": "2020-10-26T01:48:29.166314Z",
     "shell.execute_reply": "2020-10-26T01:48:29.165617Z"
    },
    "papermill": {
     "duration": 0.111771,
     "end_time": "2020-10-26T01:48:29.166447",
     "exception": false,
     "start_time": "2020-10-26T01:48:29.054676",
     "status": "completed"
    },
    "tags": []
   },
   "outputs": [],
   "source": [
    "df_price_top10 = df_s.sort_values(by='Price',ascending=False).head(10)"
   ]
  },
  {
   "cell_type": "code",
   "execution_count": 34,
   "metadata": {
    "execution": {
     "iopub.execute_input": "2020-10-26T01:48:29.376041Z",
     "iopub.status.busy": "2020-10-26T01:48:29.374046Z",
     "iopub.status.idle": "2020-10-26T01:48:29.751985Z",
     "shell.execute_reply": "2020-10-26T01:48:29.752561Z"
    },
    "papermill": {
     "duration": 0.484618,
     "end_time": "2020-10-26T01:48:29.752727",
     "exception": false,
     "start_time": "2020-10-26T01:48:29.268109",
     "status": "completed"
    },
    "tags": []
   },
   "outputs": [
    {
     "data": {
      "text/plain": [
       "<matplotlib.axes._subplots.AxesSubplot at 0x7f8e2422f390>"
      ]
     },
     "execution_count": 34,
     "metadata": {},
     "output_type": "execute_result"
    },
    {
     "data": {
      "image/png": "[encoded data removed]",
      "text/plain": [
       "<Figure size 432x288 with 1 Axes>"
      ]
     },
     "metadata": {
      "needs_background": "light"
     },
     "output_type": "display_data"
    }
   ],
   "source": [
    "df_price_top10.set_index('Product name',inplace=True)\n",
    "dfp=df_price_top10[['Price','Contribution']]\n",
    "dfp.plot.bar()"
   ]
  },
  {
   "cell_type": "markdown",
   "metadata": {
    "papermill": {
     "duration": 0.101596,
     "end_time": "2020-10-26T01:48:29.956930",
     "exception": false,
     "start_time": "2020-10-26T01:48:29.855334",
     "status": "completed"
    },
    "tags": []
   },
   "source": [
    "****6.2.3 Year of birth based on gender****"
   ]
  },
  {
   "cell_type": "markdown",
   "metadata": {
    "papermill": {
     "duration": 0.102691,
     "end_time": "2020-10-26T01:48:30.161176",
     "exception": false,
     "start_time": "2020-10-26T01:48:30.058485",
     "status": "completed"
    },
    "tags": []
   },
   "source": [
    "Correlation plot"
   ]
  },
  {
   "cell_type": "code",
   "execution_count": 35,
   "metadata": {
    "execution": {
     "iopub.execute_input": "2020-10-26T01:48:30.480360Z",
     "iopub.status.busy": "2020-10-26T01:48:30.371859Z",
     "iopub.status.idle": "2020-10-26T01:48:30.904673Z",
     "shell.execute_reply": "2020-10-26T01:48:30.903959Z"
    },
    "papermill": {
     "duration": 0.640886,
     "end_time": "2020-10-26T01:48:30.904804",
     "exception": false,
     "start_time": "2020-10-26T01:48:30.263918",
     "status": "completed"
    },
    "tags": []
   },
   "outputs": [
    {
     "data": {
      "image/png": "[encoded data removed]",
      "text/plain": [
       "<Figure size 720x720 with 1 Axes>"
      ]
     },
     "metadata": {
      "needs_background": "light"
     },
     "output_type": "display_data"
    }
   ],
   "source": [
    "ax=plt.figure(figsize=(10,10))\n",
    "sns.scatterplot(x='Price', y='Contribution', hue='Gender',data=df_s);"
   ]
  },
  {
   "cell_type": "markdown",
   "metadata": {
    "papermill": {
     "duration": 0.105179,
     "end_time": "2020-10-26T01:48:31.113794",
     "exception": false,
     "start_time": "2020-10-26T01:48:31.008615",
     "status": "completed"
    },
    "tags": []
   },
   "source": [
    "Looking at the age of these patients from region 20, male patients in the year of birth of 1940 and 1960 will most likely buy medications more than female from this year of birth in this region. Another remarkable thing is that females who are born in the 1920 would, would most likely buy medicines more than males. "
   ]
  },
  {
   "cell_type": "code",
   "execution_count": 36,
   "metadata": {
    "execution": {
     "iopub.execute_input": "2020-10-26T01:48:32.065813Z",
     "iopub.status.busy": "2020-10-26T01:48:32.064697Z",
     "iopub.status.idle": "2020-10-26T01:48:35.232662Z",
     "shell.execute_reply": "2020-10-26T01:48:35.231794Z"
    },
    "papermill": {
     "duration": 4.015073,
     "end_time": "2020-10-26T01:48:35.232816",
     "exception": false,
     "start_time": "2020-10-26T01:48:31.217743",
     "status": "completed"
    },
    "tags": []
   },
   "outputs": [
    {
     "data": {
      "text/plain": [
       "(1910.0, 2020.0)"
      ]
     },
     "execution_count": 36,
     "metadata": {},
     "output_type": "execute_result"
    },
    {
     "data": {
      "image/png": "[encoded data removed]",
      "text/plain": [
       "<Figure size 432x288 with 1 Axes>"
      ]
     },
     "metadata": {},
     "output_type": "display_data"
    }
   ],
   "source": [
    "m_yob = df_nguyen_filter[df_nguyen_filter['Gender']=='Male']\n",
    "f_yob = df_nguyen_filter[df_nguyen_filter['Gender']=='Female']\n",
    "\n",
    "sns.set_style(\"darkgrid\")\n",
    "\n",
    "ax = sns.distplot(m_yob[['YOB']], bins = 120)\n",
    "sns.distplot(f_yob[['YOB']], bins = 120)\n",
    "\n",
    "plt.legend(['Male','Female','Neutral']);\n",
    "plt.title('Year of Birth base on Gender')\n",
    "plt.xlabel('Year of Birth')\n",
    "plt.xlim(1910, 2020)"
   ]
  },
  {
   "cell_type": "markdown",
   "metadata": {
    "papermill": {
     "duration": 0.105649,
     "end_time": "2020-10-26T01:48:35.444862",
     "exception": false,
     "start_time": "2020-10-26T01:48:35.339213",
     "status": "completed"
    },
    "tags": []
   },
   "source": [
    "**6.2.4 Timelines**\n",
    "\n",
    "There is a significant rise in sales of products in 05-2019. Another huge change in selling products is between May 2017 and September 2017."
   ]
  },
  {
   "cell_type": "code",
   "execution_count": 37,
   "metadata": {
    "execution": {
     "iopub.execute_input": "2020-10-26T01:48:35.662819Z",
     "iopub.status.busy": "2020-10-26T01:48:35.662002Z",
     "iopub.status.idle": "2020-10-26T01:48:35.681298Z",
     "shell.execute_reply": "2020-10-26T01:48:35.680708Z"
    },
    "papermill": {
     "duration": 0.131028,
     "end_time": "2020-10-26T01:48:35.681447",
     "exception": false,
     "start_time": "2020-10-26T01:48:35.550419",
     "status": "completed"
    },
    "tags": []
   },
   "outputs": [
    {
     "data": {
      "text/html": [
       "<div>\n",
       "<style scoped>\n",
       "    .dataframe tbody tr th:only-of-type {\n",
       "        vertical-align: middle;\n",
       "    }\n",
       "\n",
       "    .dataframe tbody tr th {\n",
       "        vertical-align: top;\n",
       "    }\n",
       "\n",
       "    .dataframe thead th {\n",
       "        text-align: right;\n",
       "    }\n",
       "</style>\n",
       "<table border=\"1\" class=\"dataframe\">\n",
       "  <thead>\n",
       "    <tr style=\"text-align: right;\">\n",
       "      <th></th>\n",
       "      <th>Price</th>\n",
       "    </tr>\n",
       "    <tr>\n",
       "      <th>DateTime</th>\n",
       "      <th></th>\n",
       "    </tr>\n",
       "  </thead>\n",
       "  <tbody>\n",
       "    <tr>\n",
       "      <th>2017-01-02 10:33:00</th>\n",
       "      <td>125.37</td>\n",
       "    </tr>\n",
       "    <tr>\n",
       "      <th>2017-01-02 15:44:00</th>\n",
       "      <td>11.48</td>\n",
       "    </tr>\n",
       "    <tr>\n",
       "      <th>2017-01-03 10:24:00</th>\n",
       "      <td>7.68</td>\n",
       "    </tr>\n",
       "    <tr>\n",
       "      <th>2017-01-03 14:29:00</th>\n",
       "      <td>7.62</td>\n",
       "    </tr>\n",
       "    <tr>\n",
       "      <th>2017-01-09 00:00:00</th>\n",
       "      <td>11.95</td>\n",
       "    </tr>\n",
       "  </tbody>\n",
       "</table>\n",
       "</div>"
      ],
      "text/plain": [
       "                      Price\n",
       "DateTime                   \n",
       "2017-01-02 10:33:00  125.37\n",
       "2017-01-02 15:44:00   11.48\n",
       "2017-01-03 10:24:00    7.68\n",
       "2017-01-03 14:29:00    7.62\n",
       "2017-01-09 00:00:00   11.95"
      ]
     },
     "execution_count": 37,
     "metadata": {},
     "output_type": "execute_result"
    }
   ],
   "source": [
    "df_sales=df_s.groupby(['DateTime'])['Price'].sum().reset_index()\n",
    "df_sales.set_index('DateTime',inplace=True)\n",
    "df_sales.head()"
   ]
  },
  {
   "cell_type": "code",
   "execution_count": 38,
   "metadata": {
    "execution": {
     "iopub.execute_input": "2020-10-26T01:48:35.909927Z",
     "iopub.status.busy": "2020-10-26T01:48:35.909006Z",
     "iopub.status.idle": "2020-10-26T01:48:37.139554Z",
     "shell.execute_reply": "2020-10-26T01:48:37.138913Z"
    },
    "papermill": {
     "duration": 1.352843,
     "end_time": "2020-10-26T01:48:37.139687",
     "exception": false,
     "start_time": "2020-10-26T01:48:35.786844",
     "status": "completed"
    },
    "tags": []
   },
   "outputs": [
    {
     "data": {
      "image/png": "[encoded data removed]",
      "text/plain": [
       "<Figure size 1080x720 with 2 Axes>"
      ]
     },
     "metadata": {},
     "output_type": "display_data"
    }
   ],
   "source": [
    "fig, ax = plt.subplots(2, 1,figsize=(15,10))\n",
    "df_sales['Price'].plot(ax=ax[0],color=\"#4C72B0\")\n",
    "ax[0].set_title(\"Sales\")\n",
    "ax[0].legend([\"area 20\"])\n",
    "\n",
    "df_sales['rp']=df_sales['Price'].rolling(10).mean()\n",
    "df_sales['rp'].plot(ax=ax[1],color=\"#4C72B0\")\n",
    "ax[1].set_title(\"Rolling Sales\")\n",
    "ax[1].legend([\"area 20\"]);"
   ]
  },
  {
   "cell_type": "markdown",
   "metadata": {
    "papermill": {
     "duration": 0.108096,
     "end_time": "2020-10-26T01:48:37.358014",
     "exception": false,
     "start_time": "2020-10-26T01:48:37.249918",
     "status": "completed"
    },
    "tags": []
   },
   "source": [
    "### 6.3.Region 22 (Mitchel)\n",
    "\n",
    "The part that is analysed in this chapter is pharmacy postcode 22. This postcode lies in the region of Antwerp.\n",
    "\n",
    "#### 6.3.1.Seasonal Analysis\n",
    "\n",
    "In this chapter we will take a look at all the data we can find that is related to the four seasons. As we can see there is not much of a difference between the total products that have been sold per season. in de data below."
   ]
  },
  {
   "cell_type": "code",
   "execution_count": 39,
   "metadata": {
    "execution": {
     "iopub.execute_input": "2020-10-26T01:48:37.581268Z",
     "iopub.status.busy": "2020-10-26T01:48:37.580195Z",
     "iopub.status.idle": "2020-10-26T01:48:37.695131Z",
     "shell.execute_reply": "2020-10-26T01:48:37.694545Z"
    },
    "papermill": {
     "duration": 0.229658,
     "end_time": "2020-10-26T01:48:37.695256",
     "exception": false,
     "start_time": "2020-10-26T01:48:37.465598",
     "status": "completed"
    },
    "tags": []
   },
   "outputs": [
    {
     "data": {
      "text/plain": [
       "Season\n",
       "summer    164215\n",
       "Spring    166218\n",
       "winter    174461\n",
       "autumn    183346\n",
       "Name: Product name, dtype: int64"
      ]
     },
     "execution_count": 39,
     "metadata": {},
     "output_type": "execute_result"
    }
   ],
   "source": [
    "df_prices = df_mitchel_filter.groupby(\"Season\")[\"Product name\"].count()\n",
    "df_prices.sort_values()"
   ]
  },
  {
   "cell_type": "markdown",
   "metadata": {
    "papermill": {
     "duration": 0.108929,
     "end_time": "2020-10-26T01:48:37.913311",
     "exception": false,
     "start_time": "2020-10-26T01:48:37.804382",
     "status": "completed"
    },
    "tags": []
   },
   "source": [
    "The barplot above indicated that there is not much difference in the amount of products sold per season. It does show that in the autumn season more has been bought.\n",
    "\n",
    "This data can also be split per gender type as seen in the plot below. This plot indicates that female customers have been buying more than male customer in every season."
   ]
  },
  {
   "cell_type": "code",
   "execution_count": 40,
   "metadata": {
    "execution": {
     "iopub.execute_input": "2020-10-26T01:48:38.138262Z",
     "iopub.status.busy": "2020-10-26T01:48:38.137442Z",
     "iopub.status.idle": "2020-10-26T01:48:38.468459Z",
     "shell.execute_reply": "2020-10-26T01:48:38.467884Z"
    },
    "papermill": {
     "duration": 0.447204,
     "end_time": "2020-10-26T01:48:38.468612",
     "exception": false,
     "start_time": "2020-10-26T01:48:38.021408",
     "status": "completed"
    },
    "tags": []
   },
   "outputs": [
    {
     "data": {
      "image/png": "[encoded data removed]",
      "text/plain": [
       "<Figure size 720x288 with 1 Axes>"
      ]
     },
     "metadata": {},
     "output_type": "display_data"
    }
   ],
   "source": [
    "plt.figure(figsize = (10,4))\n",
    "sns.countplot(x = 'Season', data = df_mitchel_filter);"
   ]
  },
  {
   "cell_type": "markdown",
   "metadata": {
    "papermill": {
     "duration": 0.109136,
     "end_time": "2020-10-26T01:48:38.687307",
     "exception": false,
     "start_time": "2020-10-26T01:48:38.578171",
     "status": "completed"
    },
    "tags": []
   },
   "source": [
    "#### 6.3.2.Age & Gender\n",
    "\n",
    "for the genders we would like to see how old the customers are. This could help us see the average age of the customers and predict what products are bought mostly be specific age groups."
   ]
  },
  {
   "cell_type": "code",
   "execution_count": 41,
   "metadata": {
    "execution": {
     "iopub.execute_input": "2020-10-26T01:48:38.949748Z",
     "iopub.status.busy": "2020-10-26T01:48:38.948940Z",
     "iopub.status.idle": "2020-10-26T01:48:39.084116Z",
     "shell.execute_reply": "2020-10-26T01:48:39.084684Z"
    },
    "papermill": {
     "duration": 0.288367,
     "end_time": "2020-10-26T01:48:39.084845",
     "exception": false,
     "start_time": "2020-10-26T01:48:38.796478",
     "status": "completed"
    },
    "tags": []
   },
   "outputs": [
    {
     "data": {
      "text/html": [
       "<div>\n",
       "<style scoped>\n",
       "    .dataframe tbody tr th:only-of-type {\n",
       "        vertical-align: middle;\n",
       "    }\n",
       "\n",
       "    .dataframe tbody tr th {\n",
       "        vertical-align: top;\n",
       "    }\n",
       "\n",
       "    .dataframe thead th {\n",
       "        text-align: right;\n",
       "    }\n",
       "</style>\n",
       "<table border=\"1\" class=\"dataframe\">\n",
       "  <thead>\n",
       "    <tr style=\"text-align: right;\">\n",
       "      <th></th>\n",
       "      <th>Gender</th>\n",
       "      <th>YOB</th>\n",
       "      <th>Count</th>\n",
       "    </tr>\n",
       "  </thead>\n",
       "  <tbody>\n",
       "    <tr>\n",
       "      <th>35</th>\n",
       "      <td>Female</td>\n",
       "      <td>1945</td>\n",
       "      <td>7265</td>\n",
       "    </tr>\n",
       "    <tr>\n",
       "      <th>143</th>\n",
       "      <td>Male</td>\n",
       "      <td>1947</td>\n",
       "      <td>7242</td>\n",
       "    </tr>\n",
       "    <tr>\n",
       "      <th>37</th>\n",
       "      <td>Female</td>\n",
       "      <td>1947</td>\n",
       "      <td>7233</td>\n",
       "    </tr>\n",
       "    <tr>\n",
       "      <th>36</th>\n",
       "      <td>Female</td>\n",
       "      <td>1946</td>\n",
       "      <td>7207</td>\n",
       "    </tr>\n",
       "    <tr>\n",
       "      <th>38</th>\n",
       "      <td>Female</td>\n",
       "      <td>1948</td>\n",
       "      <td>7161</td>\n",
       "    </tr>\n",
       "    <tr>\n",
       "      <th>144</th>\n",
       "      <td>Male</td>\n",
       "      <td>1948</td>\n",
       "      <td>7149</td>\n",
       "    </tr>\n",
       "    <tr>\n",
       "      <th>147</th>\n",
       "      <td>Male</td>\n",
       "      <td>1951</td>\n",
       "      <td>7129</td>\n",
       "    </tr>\n",
       "    <tr>\n",
       "      <th>34</th>\n",
       "      <td>Female</td>\n",
       "      <td>1944</td>\n",
       "      <td>7078</td>\n",
       "    </tr>\n",
       "    <tr>\n",
       "      <th>49</th>\n",
       "      <td>Female</td>\n",
       "      <td>1959</td>\n",
       "      <td>7066</td>\n",
       "    </tr>\n",
       "    <tr>\n",
       "      <th>145</th>\n",
       "      <td>Male</td>\n",
       "      <td>1949</td>\n",
       "      <td>7063</td>\n",
       "    </tr>\n",
       "  </tbody>\n",
       "</table>\n",
       "</div>"
      ],
      "text/plain": [
       "     Gender   YOB  Count\n",
       "35   Female  1945   7265\n",
       "143    Male  1947   7242\n",
       "37   Female  1947   7233\n",
       "36   Female  1946   7207\n",
       "38   Female  1948   7161\n",
       "144    Male  1948   7149\n",
       "147    Male  1951   7129\n",
       "34   Female  1944   7078\n",
       "49   Female  1959   7066\n",
       "145    Male  1949   7063"
      ]
     },
     "execution_count": 41,
     "metadata": {},
     "output_type": "execute_result"
    }
   ],
   "source": [
    "YearCount = df_mitchel_filter.groupby(['Gender', 'YOB'])['Season'].count().reset_index()\n",
    "\n",
    "YearCount.columns = ['Gender', 'YOB', 'Count']\n",
    "YearCount.sort_values(by = 'Count', ascending = False, inplace = True)\n",
    "\n",
    "YearCount.head(10)"
   ]
  },
  {
   "cell_type": "markdown",
   "metadata": {
    "papermill": {
     "duration": 0.110211,
     "end_time": "2020-10-26T01:48:39.305262",
     "exception": false,
     "start_time": "2020-10-26T01:48:39.195051",
     "status": "completed"
    },
    "tags": []
   },
   "source": [
    "All the customers have been grouped per year and gender. Now we are able to put this in a plot and see what years the customers are born the most frequent."
   ]
  },
  {
   "cell_type": "code",
   "execution_count": 42,
   "metadata": {
    "execution": {
     "iopub.execute_input": "2020-10-26T01:48:39.541466Z",
     "iopub.status.busy": "2020-10-26T01:48:39.536230Z",
     "iopub.status.idle": "2020-10-26T01:48:39.935056Z",
     "shell.execute_reply": "2020-10-26T01:48:39.934327Z"
    },
    "papermill": {
     "duration": 0.520111,
     "end_time": "2020-10-26T01:48:39.935177",
     "exception": false,
     "start_time": "2020-10-26T01:48:39.415066",
     "status": "completed"
    },
    "tags": []
   },
   "outputs": [
    {
     "data": {
      "image/png": "[encoded data removed]",
      "text/plain": [
       "<Figure size 432x288 with 1 Axes>"
      ]
     },
     "metadata": {},
     "output_type": "display_data"
    }
   ],
   "source": [
    "sns.lineplot(x = 'YOB', y = 'Count', hue = 'Gender', style = 'Gender', data = YearCount)\n",
    "plt.show()"
   ]
  },
  {
   "cell_type": "markdown",
   "metadata": {
    "papermill": {
     "duration": 0.11164,
     "end_time": "2020-10-26T01:48:40.157919",
     "exception": false,
     "start_time": "2020-10-26T01:48:40.046279",
     "status": "completed"
    },
    "tags": []
   },
   "source": [
    "As we can see, the ages are not entirely correct. This means we will only look at the ages that could be alive at the moment. This can be seen in the plot below:"
   ]
  },
  {
   "cell_type": "code",
   "execution_count": 43,
   "metadata": {
    "execution": {
     "iopub.execute_input": "2020-10-26T01:48:40.403285Z",
     "iopub.status.busy": "2020-10-26T01:48:40.402537Z",
     "iopub.status.idle": "2020-10-26T01:48:40.810889Z",
     "shell.execute_reply": "2020-10-26T01:48:40.810150Z"
    },
    "papermill": {
     "duration": 0.54077,
     "end_time": "2020-10-26T01:48:40.811021",
     "exception": false,
     "start_time": "2020-10-26T01:48:40.270251",
     "status": "completed"
    },
    "tags": []
   },
   "outputs": [
    {
     "data": {
      "image/png": "[encoded data removed]",
      "text/plain": [
       "<Figure size 432x288 with 1 Axes>"
      ]
     },
     "metadata": {},
     "output_type": "display_data"
    }
   ],
   "source": [
    "ax = sns.lineplot(x = 'YOB', y = 'Count', hue = 'Gender', style = 'Gender', data = YearCount)\n",
    "ax.set_xlim(1900,2020)\n",
    "plt.show()"
   ]
  },
  {
   "cell_type": "markdown",
   "metadata": {
    "papermill": {
     "duration": 0.129334,
     "end_time": "2020-10-26T01:48:41.062722",
     "exception": false,
     "start_time": "2020-10-26T01:48:40.933388",
     "status": "completed"
    },
    "tags": []
   },
   "source": [
    "#### 6.3.3.Prices & Contribution\n",
    "\n",
    "In the multiple scatterplots shown below we can see the correlation between the price and contributions per gender and season. This could show us what connections could be found between the contribution and prices per gender and season."
   ]
  },
  {
   "cell_type": "code",
   "execution_count": 44,
   "metadata": {
    "execution": {
     "iopub.execute_input": "2020-10-26T01:48:41.429170Z",
     "iopub.status.busy": "2020-10-26T01:48:41.383287Z",
     "iopub.status.idle": "2020-10-26T01:48:56.319195Z",
     "shell.execute_reply": "2020-10-26T01:48:56.319888Z"
    },
    "papermill": {
     "duration": 15.119266,
     "end_time": "2020-10-26T01:48:56.320067",
     "exception": false,
     "start_time": "2020-10-26T01:48:41.200801",
     "status": "completed"
    },
    "tags": []
   },
   "outputs": [
    {
     "data": {
      "text/plain": [
       "<seaborn.axisgrid.FacetGrid at 0x7f8e23502310>"
      ]
     },
     "execution_count": 44,
     "metadata": {},
     "output_type": "execute_result"
    },
    {
     "data": {
      "text/plain": [
       "<Figure size 1440x1440 with 0 Axes>"
      ]
     },
     "metadata": {},
     "output_type": "display_data"
    },
    {
     "data": {
      "image/png": "[encoded data removed]",
      "text/plain": [
       "<Figure size 943.725x432 with 8 Axes>"
      ]
     },
     "metadata": {},
     "output_type": "display_data"
    }
   ],
   "source": [
    "ax = plt.figure(figsize = (20, 20))\n",
    "g = sns.FacetGrid(df_mitchel_filter, col = 'Season', row = 'Gender' , hue = 'Gender')\n",
    "g.map(sns.regplot, 'Contribution', 'Price', fit_reg = False, x_jitter = .1)\n",
    "g.add_legend()"
   ]
  },
  {
   "cell_type": "markdown",
   "metadata": {
    "papermill": {
     "duration": 0.133443,
     "end_time": "2020-10-26T01:48:56.582890",
     "exception": false,
     "start_time": "2020-10-26T01:48:56.449447",
     "status": "completed"
    },
    "tags": []
   },
   "source": [
    "### 6.4.Region 30 (Nikita)"
   ]
  },
  {
   "cell_type": "code",
   "execution_count": 45,
   "metadata": {
    "execution": {
     "iopub.execute_input": "2020-10-26T01:48:56.875527Z",
     "iopub.status.busy": "2020-10-26T01:48:56.874344Z",
     "iopub.status.idle": "2020-10-26T01:48:56.879748Z",
     "shell.execute_reply": "2020-10-26T01:48:56.879107Z"
    },
    "papermill": {
     "duration": 0.165687,
     "end_time": "2020-10-26T01:48:56.879873",
     "exception": false,
     "start_time": "2020-10-26T01:48:56.714186",
     "status": "completed"
    },
    "tags": []
   },
   "outputs": [
    {
     "data": {
      "text/html": [
       "<div>\n",
       "<style scoped>\n",
       "    .dataframe tbody tr th:only-of-type {\n",
       "        vertical-align: middle;\n",
       "    }\n",
       "\n",
       "    .dataframe tbody tr th {\n",
       "        vertical-align: top;\n",
       "    }\n",
       "\n",
       "    .dataframe thead th {\n",
       "        text-align: right;\n",
       "    }\n",
       "</style>\n",
       "<table border=\"1\" class=\"dataframe\">\n",
       "  <thead>\n",
       "    <tr style=\"text-align: right;\">\n",
       "      <th></th>\n",
       "      <th>Delivery date</th>\n",
       "      <th>Delivery time</th>\n",
       "      <th>Pharmacy number</th>\n",
       "      <th>Pharmacy postcode</th>\n",
       "      <th>YOB</th>\n",
       "      <th>Gender</th>\n",
       "      <th>CNK</th>\n",
       "      <th>Product name</th>\n",
       "      <th>ATC code</th>\n",
       "      <th>Unit</th>\n",
       "      <th>Price</th>\n",
       "      <th>Contribution</th>\n",
       "      <th>DateTime</th>\n",
       "      <th>date_offset</th>\n",
       "      <th>Season</th>\n",
       "      <th>Sales</th>\n",
       "    </tr>\n",
       "  </thead>\n",
       "  <tbody>\n",
       "    <tr>\n",
       "      <th>742</th>\n",
       "      <td>01/01/2018</td>\n",
       "      <td>00:00</td>\n",
       "      <td>7981002</td>\n",
       "      <td>30</td>\n",
       "      <td>1926</td>\n",
       "      <td>Female</td>\n",
       "      <td>5520465</td>\n",
       "      <td>HONORARIUM PER WEEK PER RUSTOORDBEWONER ROB-RVT</td>\n",
       "      <td></td>\n",
       "      <td>1</td>\n",
       "      <td>3.09</td>\n",
       "      <td>0.00</td>\n",
       "      <td>2018-01-01</td>\n",
       "      <td>1081.0</td>\n",
       "      <td>winter</td>\n",
       "      <td>3.09</td>\n",
       "    </tr>\n",
       "    <tr>\n",
       "      <th>743</th>\n",
       "      <td>01/01/2018</td>\n",
       "      <td>00:00</td>\n",
       "      <td>7729509</td>\n",
       "      <td>30</td>\n",
       "      <td>1927</td>\n",
       "      <td>Female</td>\n",
       "      <td>5520465</td>\n",
       "      <td>HONORARIUM PER WEEK PER RUSTOORDBEWONER ROB-RVT</td>\n",
       "      <td></td>\n",
       "      <td>1</td>\n",
       "      <td>3.09</td>\n",
       "      <td>0.00</td>\n",
       "      <td>2018-01-01</td>\n",
       "      <td>1081.0</td>\n",
       "      <td>winter</td>\n",
       "      <td>3.09</td>\n",
       "    </tr>\n",
       "    <tr>\n",
       "      <th>744</th>\n",
       "      <td>01/01/2018</td>\n",
       "      <td>00:00</td>\n",
       "      <td>7729509</td>\n",
       "      <td>30</td>\n",
       "      <td>1930</td>\n",
       "      <td>Female</td>\n",
       "      <td>708099</td>\n",
       "      <td>GLUCOPHAGE COMP  1 X 850 MG</td>\n",
       "      <td>A10BA02</td>\n",
       "      <td>1</td>\n",
       "      <td>0.03</td>\n",
       "      <td>0.00</td>\n",
       "      <td>2018-01-01</td>\n",
       "      <td>1081.0</td>\n",
       "      <td>winter</td>\n",
       "      <td>0.03</td>\n",
       "    </tr>\n",
       "    <tr>\n",
       "      <th>745</th>\n",
       "      <td>01/01/2018</td>\n",
       "      <td>00:00</td>\n",
       "      <td>7981002</td>\n",
       "      <td>30</td>\n",
       "      <td>1927</td>\n",
       "      <td>Female</td>\n",
       "      <td>743294</td>\n",
       "      <td>L THYROXINE CHRISTIAENS COMP 1 X 100 MCG</td>\n",
       "      <td>H03AA01</td>\n",
       "      <td>1</td>\n",
       "      <td>0.04</td>\n",
       "      <td>0.01</td>\n",
       "      <td>2018-01-01</td>\n",
       "      <td>1081.0</td>\n",
       "      <td>winter</td>\n",
       "      <td>0.04</td>\n",
       "    </tr>\n",
       "    <tr>\n",
       "      <th>746</th>\n",
       "      <td>01/01/2018</td>\n",
       "      <td>00:00</td>\n",
       "      <td>7729509</td>\n",
       "      <td>30</td>\n",
       "      <td>1929</td>\n",
       "      <td>Female</td>\n",
       "      <td>743294</td>\n",
       "      <td>L THYROXINE CHRISTIAENS COMP 1 X 100 MCG</td>\n",
       "      <td>H03AA01</td>\n",
       "      <td>1</td>\n",
       "      <td>0.04</td>\n",
       "      <td>0.01</td>\n",
       "      <td>2018-01-01</td>\n",
       "      <td>1081.0</td>\n",
       "      <td>winter</td>\n",
       "      <td>0.04</td>\n",
       "    </tr>\n",
       "    <tr>\n",
       "      <th>747</th>\n",
       "      <td>01/01/2018</td>\n",
       "      <td>00:00</td>\n",
       "      <td>7729509</td>\n",
       "      <td>30</td>\n",
       "      <td>1927</td>\n",
       "      <td>Female</td>\n",
       "      <td>743294</td>\n",
       "      <td>L THYROXINE CHRISTIAENS COMP 1 X 100 MCG</td>\n",
       "      <td>H03AA01</td>\n",
       "      <td>1</td>\n",
       "      <td>0.04</td>\n",
       "      <td>0.01</td>\n",
       "      <td>2018-01-01</td>\n",
       "      <td>1081.0</td>\n",
       "      <td>winter</td>\n",
       "      <td>0.04</td>\n",
       "    </tr>\n",
       "    <tr>\n",
       "      <th>748</th>\n",
       "      <td>01/01/2018</td>\n",
       "      <td>00:00</td>\n",
       "      <td>7729509</td>\n",
       "      <td>30</td>\n",
       "      <td>1926</td>\n",
       "      <td>Female</td>\n",
       "      <td>743294</td>\n",
       "      <td>L THYROXINE CHRISTIAENS COMP 1 X 100 MCG</td>\n",
       "      <td>H03AA01</td>\n",
       "      <td>1</td>\n",
       "      <td>0.04</td>\n",
       "      <td>0.01</td>\n",
       "      <td>2018-01-01</td>\n",
       "      <td>1081.0</td>\n",
       "      <td>winter</td>\n",
       "      <td>0.04</td>\n",
       "    </tr>\n",
       "    <tr>\n",
       "      <th>749</th>\n",
       "      <td>01/01/2018</td>\n",
       "      <td>00:00</td>\n",
       "      <td>7729509</td>\n",
       "      <td>30</td>\n",
       "      <td>1926</td>\n",
       "      <td>Female</td>\n",
       "      <td>753061</td>\n",
       "      <td>QUETIAPIN SANDOZ COMP 1 X 100 MG</td>\n",
       "      <td>N05AH04</td>\n",
       "      <td>1</td>\n",
       "      <td>0.34</td>\n",
       "      <td>0.08</td>\n",
       "      <td>2018-01-01</td>\n",
       "      <td>1081.0</td>\n",
       "      <td>winter</td>\n",
       "      <td>0.34</td>\n",
       "    </tr>\n",
       "    <tr>\n",
       "      <th>750</th>\n",
       "      <td>01/01/2018</td>\n",
       "      <td>00:00</td>\n",
       "      <td>7729509</td>\n",
       "      <td>30</td>\n",
       "      <td>1928</td>\n",
       "      <td>Female</td>\n",
       "      <td>753061</td>\n",
       "      <td>QUETIAPIN SANDOZ COMP 1 X 100 MG</td>\n",
       "      <td>N05AH04</td>\n",
       "      <td>1</td>\n",
       "      <td>0.35</td>\n",
       "      <td>0.08</td>\n",
       "      <td>2018-01-01</td>\n",
       "      <td>1081.0</td>\n",
       "      <td>winter</td>\n",
       "      <td>0.35</td>\n",
       "    </tr>\n",
       "    <tr>\n",
       "      <th>751</th>\n",
       "      <td>01/01/2018</td>\n",
       "      <td>00:00</td>\n",
       "      <td>7729509</td>\n",
       "      <td>30</td>\n",
       "      <td>1926</td>\n",
       "      <td>Female</td>\n",
       "      <td>782219</td>\n",
       "      <td>CYMBALTA CAPS MAAGSAPRESIST 1 X 60 MG</td>\n",
       "      <td>N06AX21</td>\n",
       "      <td>1</td>\n",
       "      <td>0.45</td>\n",
       "      <td>0.13</td>\n",
       "      <td>2018-01-01</td>\n",
       "      <td>1081.0</td>\n",
       "      <td>winter</td>\n",
       "      <td>0.45</td>\n",
       "    </tr>\n",
       "  </tbody>\n",
       "</table>\n",
       "</div>"
      ],
      "text/plain": [
       "    Delivery date Delivery time  Pharmacy number  Pharmacy postcode   YOB  \\\n",
       "742    01/01/2018         00:00          7981002                 30  1926   \n",
       "743    01/01/2018         00:00          7729509                 30  1927   \n",
       "744    01/01/2018         00:00          7729509                 30  1930   \n",
       "745    01/01/2018         00:00          7981002                 30  1927   \n",
       "746    01/01/2018         00:00          7729509                 30  1929   \n",
       "747    01/01/2018         00:00          7729509                 30  1927   \n",
       "748    01/01/2018         00:00          7729509                 30  1926   \n",
       "749    01/01/2018         00:00          7729509                 30  1926   \n",
       "750    01/01/2018         00:00          7729509                 30  1928   \n",
       "751    01/01/2018         00:00          7729509                 30  1926   \n",
       "\n",
       "     Gender      CNK                                     Product name  \\\n",
       "742  Female  5520465  HONORARIUM PER WEEK PER RUSTOORDBEWONER ROB-RVT   \n",
       "743  Female  5520465  HONORARIUM PER WEEK PER RUSTOORDBEWONER ROB-RVT   \n",
       "744  Female   708099                      GLUCOPHAGE COMP  1 X 850 MG   \n",
       "745  Female   743294         L THYROXINE CHRISTIAENS COMP 1 X 100 MCG   \n",
       "746  Female   743294         L THYROXINE CHRISTIAENS COMP 1 X 100 MCG   \n",
       "747  Female   743294         L THYROXINE CHRISTIAENS COMP 1 X 100 MCG   \n",
       "748  Female   743294         L THYROXINE CHRISTIAENS COMP 1 X 100 MCG   \n",
       "749  Female   753061                 QUETIAPIN SANDOZ COMP 1 X 100 MG   \n",
       "750  Female   753061                 QUETIAPIN SANDOZ COMP 1 X 100 MG   \n",
       "751  Female   782219            CYMBALTA CAPS MAAGSAPRESIST 1 X 60 MG   \n",
       "\n",
       "    ATC code  Unit  Price  Contribution   DateTime  date_offset  Season  Sales  \n",
       "742              1   3.09          0.00 2018-01-01       1081.0  winter   3.09  \n",
       "743              1   3.09          0.00 2018-01-01       1081.0  winter   3.09  \n",
       "744  A10BA02     1   0.03          0.00 2018-01-01       1081.0  winter   0.03  \n",
       "745  H03AA01     1   0.04          0.01 2018-01-01       1081.0  winter   0.04  \n",
       "746  H03AA01     1   0.04          0.01 2018-01-01       1081.0  winter   0.04  \n",
       "747  H03AA01     1   0.04          0.01 2018-01-01       1081.0  winter   0.04  \n",
       "748  H03AA01     1   0.04          0.01 2018-01-01       1081.0  winter   0.04  \n",
       "749  N05AH04     1   0.34          0.08 2018-01-01       1081.0  winter   0.34  \n",
       "750  N05AH04     1   0.35          0.08 2018-01-01       1081.0  winter   0.35  \n",
       "751  N06AX21     1   0.45          0.13 2018-01-01       1081.0  winter   0.45  "
      ]
     },
     "execution_count": 45,
     "metadata": {},
     "output_type": "execute_result"
    }
   ],
   "source": [
    "df_nikita_filter.head(10)"
   ]
  },
  {
   "cell_type": "markdown",
   "metadata": {
    "papermill": {
     "duration": 0.117901,
     "end_time": "2020-10-26T01:48:57.119071",
     "exception": false,
     "start_time": "2020-10-26T01:48:57.001170",
     "status": "completed"
    },
    "tags": []
   },
   "source": [
    "I am going to describe the post code of 30 which is Leuven which is the capital and largest city of the province of Flemish Brabant in the Flemish Region of Belgium."
   ]
  },
  {
   "cell_type": "code",
   "execution_count": 46,
   "metadata": {
    "execution": {
     "iopub.execute_input": "2020-10-26T01:48:57.360182Z",
     "iopub.status.busy": "2020-10-26T01:48:57.359393Z",
     "iopub.status.idle": "2020-10-26T01:48:58.127695Z",
     "shell.execute_reply": "2020-10-26T01:48:58.127068Z"
    },
    "papermill": {
     "duration": 0.892421,
     "end_time": "2020-10-26T01:48:58.127827",
     "exception": false,
     "start_time": "2020-10-26T01:48:57.235406",
     "status": "completed"
    },
    "tags": []
   },
   "outputs": [
    {
     "data": {
      "text/plain": [
       "Gender\n",
       "Female    943776\n",
       "Male      644168\n",
       "Name: Product name, dtype: int64"
      ]
     },
     "execution_count": 46,
     "metadata": {},
     "output_type": "execute_result"
    }
   ],
   "source": [
    "df_nikita_filter = df_nikita_filter[df_nikita_filter['Pharmacy postcode'] == 30]\n",
    "\n",
    "df_postcode = df_nikita_filter.groupby(\"Gender\")[\"Product name\"].count()\n",
    "df_postcode"
   ]
  },
  {
   "cell_type": "code",
   "execution_count": 47,
   "metadata": {
    "execution": {
     "iopub.execute_input": "2020-10-26T01:48:58.382058Z",
     "iopub.status.busy": "2020-10-26T01:48:58.376903Z",
     "iopub.status.idle": "2020-10-26T01:48:58.573110Z",
     "shell.execute_reply": "2020-10-26T01:48:58.573734Z"
    },
    "papermill": {
     "duration": 0.328877,
     "end_time": "2020-10-26T01:48:58.573910",
     "exception": false,
     "start_time": "2020-10-26T01:48:58.245033",
     "status": "completed"
    },
    "tags": []
   },
   "outputs": [
    {
     "data": {
      "text/plain": [
       "Text(0.5, 1.0, 'Gender sold medicines')"
      ]
     },
     "execution_count": 47,
     "metadata": {},
     "output_type": "execute_result"
    },
    {
     "data": {
      "image/png": "[encoded data removed]",
      "text/plain": [
       "<Figure size 432x288 with 1 Axes>"
      ]
     },
     "metadata": {},
     "output_type": "display_data"
    }
   ],
   "source": [
    "from pandas import DataFrame\n",
    "datagender = {'Gender': ['Female','Male','Neutral'],\n",
    "        'Total': [969246,661576,11148]}\n",
    "  \n",
    "dfgender = DataFrame(datagender,columns=['Gender','Total'])\n",
    "dfgender.plot(x ='Gender', y='Total', kind = 'bar')\n",
    "plt.title('Gender sold medicines')"
   ]
  },
  {
   "cell_type": "markdown",
   "metadata": {
    "papermill": {
     "duration": 0.117728,
     "end_time": "2020-10-26T01:48:58.823288",
     "exception": false,
     "start_time": "2020-10-26T01:48:58.705560",
     "status": "completed"
    },
    "tags": []
   },
   "source": [
    "The graph shows the distribution in purchasing the medicine between Female, male and neutral genders. As you can see in the region of Leuven women purchased 30 thousand more medicine than men. \n"
   ]
  },
  {
   "cell_type": "code",
   "execution_count": 48,
   "metadata": {
    "execution": {
     "iopub.execute_input": "2020-10-26T01:48:59.068234Z",
     "iopub.status.busy": "2020-10-26T01:48:59.067270Z",
     "iopub.status.idle": "2020-10-26T01:48:59.272639Z",
     "shell.execute_reply": "2020-10-26T01:48:59.271983Z"
    },
    "papermill": {
     "duration": 0.331054,
     "end_time": "2020-10-26T01:48:59.272762",
     "exception": false,
     "start_time": "2020-10-26T01:48:58.941708",
     "status": "completed"
    },
    "tags": []
   },
   "outputs": [
    {
     "data": {
      "text/html": [
       "<div>\n",
       "<style scoped>\n",
       "    .dataframe tbody tr th:only-of-type {\n",
       "        vertical-align: middle;\n",
       "    }\n",
       "\n",
       "    .dataframe tbody tr th {\n",
       "        vertical-align: top;\n",
       "    }\n",
       "\n",
       "    .dataframe thead th {\n",
       "        text-align: right;\n",
       "    }\n",
       "</style>\n",
       "<table border=\"1\" class=\"dataframe\">\n",
       "  <thead>\n",
       "    <tr style=\"text-align: right;\">\n",
       "      <th></th>\n",
       "      <th>Season</th>\n",
       "      <th>Total Product</th>\n",
       "    </tr>\n",
       "  </thead>\n",
       "  <tbody>\n",
       "    <tr>\n",
       "      <th>2</th>\n",
       "      <td>autumn</td>\n",
       "      <td>316357</td>\n",
       "    </tr>\n",
       "    <tr>\n",
       "      <th>3</th>\n",
       "      <td>winter</td>\n",
       "      <td>290758</td>\n",
       "    </tr>\n",
       "    <tr>\n",
       "      <th>0</th>\n",
       "      <td>Spring</td>\n",
       "      <td>279268</td>\n",
       "    </tr>\n",
       "    <tr>\n",
       "      <th>1</th>\n",
       "      <td>summer</td>\n",
       "      <td>272182</td>\n",
       "    </tr>\n",
       "  </tbody>\n",
       "</table>\n",
       "</div>"
      ],
      "text/plain": [
       "   Season  Total Product\n",
       "2  autumn         316357\n",
       "3  winter         290758\n",
       "0  Spring         279268\n",
       "1  summer         272182"
      ]
     },
     "execution_count": 48,
     "metadata": {},
     "output_type": "execute_result"
    }
   ],
   "source": [
    "df_season = df_nikita_filter.groupby(['Season'])['Product name'].count().reset_index()\n",
    "\n",
    "df_season.columns=['Season', 'Total Product']\n",
    "df_season.sort_values(by='Total Product',ascending=False,inplace=True)\n",
    "df_season"
   ]
  },
  {
   "cell_type": "code",
   "execution_count": 49,
   "metadata": {
    "execution": {
     "iopub.execute_input": "2020-10-26T01:48:59.520228Z",
     "iopub.status.busy": "2020-10-26T01:48:59.519066Z",
     "iopub.status.idle": "2020-10-26T01:49:00.009845Z",
     "shell.execute_reply": "2020-10-26T01:49:00.009069Z"
    },
    "papermill": {
     "duration": 0.618814,
     "end_time": "2020-10-26T01:49:00.009969",
     "exception": false,
     "start_time": "2020-10-26T01:48:59.391155",
     "status": "completed"
    },
    "tags": []
   },
   "outputs": [
    {
     "data": {
      "image/png": "[encoded data removed]",
      "text/plain": [
       "<Figure size 432x288 with 1 Axes>"
      ]
     },
     "metadata": {},
     "output_type": "display_data"
    }
   ],
   "source": [
    "df_season = df_nikita_filter.groupby(['Season'])['Product name'].count().reset_index()\n",
    "\n",
    "df_season.columns=['Season', 'Total Product']\n",
    "df_season.sort_values(by='Total Product',ascending=False,inplace=True)\n",
    "df_season\n",
    "\n",
    "bars = df_season['Season']\n",
    "height = df_season['Total Product']\n",
    "\n",
    "y_pos = np.arange(len(bars))\n",
    "\n",
    "plt.barh(y_pos, height)\n",
    "plt.yticks(y_pos, bars)\n",
    "plt.title('seasons by sold products')\n",
    "plt.show()"
   ]
  },
  {
   "cell_type": "markdown",
   "metadata": {
    "papermill": {
     "duration": 0.119164,
     "end_time": "2020-10-26T01:49:00.249697",
     "exception": false,
     "start_time": "2020-10-26T01:49:00.130533",
     "status": "completed"
    },
    "tags": []
   },
   "source": [
    "The above graph shows when the purchased of the medicine is usually accurate. The figures are similar for each of the season. However, during the summer people purchase the least amount of medicine. We can assume that people are less likely to get ill because the weather is warm and dry compared to another season. "
   ]
  },
  {
   "cell_type": "code",
   "execution_count": 50,
   "metadata": {
    "execution": {
     "iopub.execute_input": "2020-10-26T01:49:00.498601Z",
     "iopub.status.busy": "2020-10-26T01:49:00.497800Z",
     "iopub.status.idle": "2020-10-26T01:49:01.131759Z",
     "shell.execute_reply": "2020-10-26T01:49:01.132332Z"
    },
    "papermill": {
     "duration": 0.762388,
     "end_time": "2020-10-26T01:49:01.132490",
     "exception": false,
     "start_time": "2020-10-26T01:49:00.370102",
     "status": "completed"
    },
    "tags": []
   },
   "outputs": [
    {
     "data": {
      "text/html": [
       "<div>\n",
       "<style scoped>\n",
       "    .dataframe tbody tr th:only-of-type {\n",
       "        vertical-align: middle;\n",
       "    }\n",
       "\n",
       "    .dataframe tbody tr th {\n",
       "        vertical-align: top;\n",
       "    }\n",
       "\n",
       "    .dataframe thead th {\n",
       "        text-align: right;\n",
       "    }\n",
       "</style>\n",
       "<table border=\"1\" class=\"dataframe\">\n",
       "  <thead>\n",
       "    <tr style=\"text-align: right;\">\n",
       "      <th></th>\n",
       "      <th>Price</th>\n",
       "      <th>Product name</th>\n",
       "      <th>Counts</th>\n",
       "    </tr>\n",
       "  </thead>\n",
       "  <tbody>\n",
       "    <tr>\n",
       "      <th>4374</th>\n",
       "      <td>3.09</td>\n",
       "      <td>HONORARIUM PER WEEK PER RUSTOORDBEWONER ROB-RVT</td>\n",
       "      <td>19783</td>\n",
       "    </tr>\n",
       "    <tr>\n",
       "      <th>4371</th>\n",
       "      <td>3.04</td>\n",
       "      <td>HONORARIUM PER WEEK PER RUSTOORDBEWONER ROB-RVT</td>\n",
       "      <td>17135</td>\n",
       "    </tr>\n",
       "    <tr>\n",
       "      <th>3459</th>\n",
       "      <td>0.03</td>\n",
       "      <td>ASAFLOW COMP  1 X  80 MG</td>\n",
       "      <td>15392</td>\n",
       "    </tr>\n",
       "    <tr>\n",
       "      <th>3661</th>\n",
       "      <td>0.12</td>\n",
       "      <td>BURINEX COMP 1 X 1 MG</td>\n",
       "      <td>9290</td>\n",
       "    </tr>\n",
       "    <tr>\n",
       "      <th>3496</th>\n",
       "      <td>0.05</td>\n",
       "      <td>BISOPROLOL EG COMP 1 X 2,5 MG</td>\n",
       "      <td>8173</td>\n",
       "    </tr>\n",
       "    <tr>\n",
       "      <th>7241</th>\n",
       "      <td>10.03</td>\n",
       "      <td>ASAFLOW  80MG MAAGSAPRES COMP BLI 168X 80MG</td>\n",
       "      <td>6677</td>\n",
       "    </tr>\n",
       "    <tr>\n",
       "      <th>4381</th>\n",
       "      <td>3.14</td>\n",
       "      <td>HONORARIUM PER WEEK PER RUSTOORDBEWONER ROB-RVT</td>\n",
       "      <td>6593</td>\n",
       "    </tr>\n",
       "    <tr>\n",
       "      <th>7169</th>\n",
       "      <td>9.95</td>\n",
       "      <td>ASAFLOW  80MG MAAGSAPRES COMP BLI 168X 80MG</td>\n",
       "      <td>6456</td>\n",
       "    </tr>\n",
       "    <tr>\n",
       "      <th>9213</th>\n",
       "      <td>13.28</td>\n",
       "      <td>ALPHARIX-TETRA SER INJ 0,5 ML  2017</td>\n",
       "      <td>5658</td>\n",
       "    </tr>\n",
       "    <tr>\n",
       "      <th>5960</th>\n",
       "      <td>8.25</td>\n",
       "      <td>BURINEX COMP  30 X 1 MG</td>\n",
       "      <td>5354</td>\n",
       "    </tr>\n",
       "  </tbody>\n",
       "</table>\n",
       "</div>"
      ],
      "text/plain": [
       "      Price                                     Product name  Counts\n",
       "4374   3.09  HONORARIUM PER WEEK PER RUSTOORDBEWONER ROB-RVT   19783\n",
       "4371   3.04  HONORARIUM PER WEEK PER RUSTOORDBEWONER ROB-RVT   17135\n",
       "3459   0.03                         ASAFLOW COMP  1 X  80 MG   15392\n",
       "3661   0.12                            BURINEX COMP 1 X 1 MG    9290\n",
       "3496   0.05                    BISOPROLOL EG COMP 1 X 2,5 MG    8173\n",
       "7241  10.03      ASAFLOW  80MG MAAGSAPRES COMP BLI 168X 80MG    6677\n",
       "4381   3.14  HONORARIUM PER WEEK PER RUSTOORDBEWONER ROB-RVT    6593\n",
       "7169   9.95      ASAFLOW  80MG MAAGSAPRES COMP BLI 168X 80MG    6456\n",
       "9213  13.28              ALPHARIX-TETRA SER INJ 0,5 ML  2017    5658\n",
       "5960   8.25                          BURINEX COMP  30 X 1 MG    5354"
      ]
     },
     "execution_count": 50,
     "metadata": {},
     "output_type": "execute_result"
    }
   ],
   "source": [
    "df_products = df_nikita_filter.groupby(['Price','Product name'])['Gender'].count().reset_index()\n",
    "\n",
    "df_products.columns=['Price','Product name','Counts']\n",
    "df_products.sort_values(by='Counts',ascending=False,inplace=True)\n",
    "df_products10 = df_products.head(10)\n",
    "df_products10"
   ]
  },
  {
   "cell_type": "code",
   "execution_count": 51,
   "metadata": {
    "execution": {
     "iopub.execute_input": "2020-10-26T01:49:01.385692Z",
     "iopub.status.busy": "2020-10-26T01:49:01.384880Z",
     "iopub.status.idle": "2020-10-26T01:49:02.395062Z",
     "shell.execute_reply": "2020-10-26T01:49:02.394430Z"
    },
    "papermill": {
     "duration": 1.142803,
     "end_time": "2020-10-26T01:49:02.395180",
     "exception": false,
     "start_time": "2020-10-26T01:49:01.252377",
     "status": "completed"
    },
    "tags": []
   },
   "outputs": [
    {
     "data": {
      "image/png": "[encoded data removed]",
      "text/plain": [
       "<Figure size 432x288 with 1 Axes>"
      ]
     },
     "metadata": {},
     "output_type": "display_data"
    }
   ],
   "source": [
    "df_products = df_nikita_filter.groupby(['Price','Product name'])['Gender'].count().reset_index()\n",
    "\n",
    "df_products.columns=['Price','Product name','Counts']\n",
    "df_products.sort_values(by='Counts',ascending=False,inplace=True)\n",
    "df_products10 = df_products.head(10)\n",
    "\n",
    "bars = df_products10['Product name']\n",
    "height = df_products10['Counts']\n",
    "\n",
    "y_pos = np.arange(len(bars))\n",
    "\n",
    "plt.barh(y_pos, height)\n",
    "plt.yticks(y_pos, bars)\n",
    "plt.title('most sold products')\n",
    "plt.show()"
   ]
  },
  {
   "cell_type": "markdown",
   "metadata": {
    "papermill": {
     "duration": 0.121777,
     "end_time": "2020-10-26T01:49:02.639401",
     "exception": false,
     "start_time": "2020-10-26T01:49:02.517624",
     "status": "completed"
    },
    "tags": []
   },
   "source": [
    "\n",
    "The most sold medicines are Honorarium (in different variations), Bisoprolol for heart diseases, Asaflow (in different variations)which is also preventing some cardiovascular diseases, Burinex is a medicine used to treat swelling and high blood pressure,  and last but not the least is Alphrix-tetra medicine which is used against flu. "
   ]
  },
  {
   "cell_type": "markdown",
   "metadata": {
    "papermill": {
     "duration": 0.121207,
     "end_time": "2020-10-26T01:49:02.882606",
     "exception": false,
     "start_time": "2020-10-26T01:49:02.761399",
     "status": "completed"
    },
    "tags": []
   },
   "source": [
    "### 6.5.Region 40 (Mailinh)\n",
    "\n",
    "To divide the work, we first had to take a look where most of the medications are being sold in which region. In this case, the top 5 regions are: number 20, 10, 30, 40 and 22. I had to do my EDA on region 40.\n",
    "\n",
    "The postcode 40 is from the province of Liege, the capital city Liege. The population is quite high, Liege is ranking 4th as the most populated city in Belgium with 197355 people living in the city in 2019. That is the reason why the amount of sold products is quite high in this region."
   ]
  },
  {
   "cell_type": "code",
   "execution_count": 52,
   "metadata": {
    "execution": {
     "iopub.execute_input": "2020-10-26T01:49:03.159008Z",
     "iopub.status.busy": "2020-10-26T01:49:03.158073Z",
     "iopub.status.idle": "2020-10-26T01:49:03.162302Z",
     "shell.execute_reply": "2020-10-26T01:49:03.162843Z"
    },
    "papermill": {
     "duration": 0.157949,
     "end_time": "2020-10-26T01:49:03.163003",
     "exception": false,
     "start_time": "2020-10-26T01:49:03.005054",
     "status": "completed"
    },
    "tags": []
   },
   "outputs": [
    {
     "data": {
      "text/html": [
       "<div>\n",
       "<style scoped>\n",
       "    .dataframe tbody tr th:only-of-type {\n",
       "        vertical-align: middle;\n",
       "    }\n",
       "\n",
       "    .dataframe tbody tr th {\n",
       "        vertical-align: top;\n",
       "    }\n",
       "\n",
       "    .dataframe thead th {\n",
       "        text-align: right;\n",
       "    }\n",
       "</style>\n",
       "<table border=\"1\" class=\"dataframe\">\n",
       "  <thead>\n",
       "    <tr style=\"text-align: right;\">\n",
       "      <th></th>\n",
       "      <th>Delivery date</th>\n",
       "      <th>Delivery time</th>\n",
       "      <th>Pharmacy number</th>\n",
       "      <th>Pharmacy postcode</th>\n",
       "      <th>YOB</th>\n",
       "      <th>Gender</th>\n",
       "      <th>CNK</th>\n",
       "      <th>Product name</th>\n",
       "      <th>ATC code</th>\n",
       "      <th>Unit</th>\n",
       "      <th>Price</th>\n",
       "      <th>Contribution</th>\n",
       "      <th>DateTime</th>\n",
       "      <th>date_offset</th>\n",
       "      <th>Season</th>\n",
       "      <th>Sales</th>\n",
       "    </tr>\n",
       "  </thead>\n",
       "  <tbody>\n",
       "    <tr>\n",
       "      <th>10</th>\n",
       "      <td>01/01/2017</td>\n",
       "      <td>00:00</td>\n",
       "      <td>7641438</td>\n",
       "      <td>40</td>\n",
       "      <td>1949</td>\n",
       "      <td>Female</td>\n",
       "      <td>1676626</td>\n",
       "      <td>CIPROFLOXACINE SANDOZ 500MG TABL 20 NEW SANDOZ</td>\n",
       "      <td>J01MA02</td>\n",
       "      <td>20</td>\n",
       "      <td>17.31</td>\n",
       "      <td>4.34</td>\n",
       "      <td>2017-01-01</td>\n",
       "      <td>1081.0</td>\n",
       "      <td>winter</td>\n",
       "      <td>346.20</td>\n",
       "    </tr>\n",
       "    <tr>\n",
       "      <th>11</th>\n",
       "      <td>01/01/2017</td>\n",
       "      <td>00:00</td>\n",
       "      <td>7641438</td>\n",
       "      <td>40</td>\n",
       "      <td>1948</td>\n",
       "      <td>Female</td>\n",
       "      <td>5520523</td>\n",
       "      <td>WACHTHONORARIUM</td>\n",
       "      <td></td>\n",
       "      <td>1</td>\n",
       "      <td>4.90</td>\n",
       "      <td>0.00</td>\n",
       "      <td>2017-01-01</td>\n",
       "      <td>1081.0</td>\n",
       "      <td>winter</td>\n",
       "      <td>4.90</td>\n",
       "    </tr>\n",
       "    <tr>\n",
       "      <th>18</th>\n",
       "      <td>01/01/2017</td>\n",
       "      <td>00:00</td>\n",
       "      <td>7641438</td>\n",
       "      <td>40</td>\n",
       "      <td>1956</td>\n",
       "      <td>Female</td>\n",
       "      <td>278192</td>\n",
       "      <td>CLEXANE SPUIT INJ 10 X 40 MG/0,4 ML</td>\n",
       "      <td>B01AB05</td>\n",
       "      <td>10</td>\n",
       "      <td>41.53</td>\n",
       "      <td>10.92</td>\n",
       "      <td>2017-01-01</td>\n",
       "      <td>1081.0</td>\n",
       "      <td>winter</td>\n",
       "      <td>415.30</td>\n",
       "    </tr>\n",
       "    <tr>\n",
       "      <th>19</th>\n",
       "      <td>01/01/2017</td>\n",
       "      <td>00:00</td>\n",
       "      <td>8272695</td>\n",
       "      <td>40</td>\n",
       "      <td>1959</td>\n",
       "      <td>Female</td>\n",
       "      <td>5520523</td>\n",
       "      <td>WACHTHONORARIUM</td>\n",
       "      <td></td>\n",
       "      <td>1</td>\n",
       "      <td>4.90</td>\n",
       "      <td>0.00</td>\n",
       "      <td>2017-01-01</td>\n",
       "      <td>1081.0</td>\n",
       "      <td>winter</td>\n",
       "      <td>4.90</td>\n",
       "    </tr>\n",
       "    <tr>\n",
       "      <th>21</th>\n",
       "      <td>01/01/2017</td>\n",
       "      <td>00:00</td>\n",
       "      <td>7641438</td>\n",
       "      <td>40</td>\n",
       "      <td>1961</td>\n",
       "      <td>Male</td>\n",
       "      <td>1458736</td>\n",
       "      <td>AUGMENTIN 875 MG COMP 10X875MG</td>\n",
       "      <td>J01CR02</td>\n",
       "      <td>10</td>\n",
       "      <td>10.14</td>\n",
       "      <td>1.14</td>\n",
       "      <td>2017-01-01</td>\n",
       "      <td>1081.0</td>\n",
       "      <td>winter</td>\n",
       "      <td>101.40</td>\n",
       "    </tr>\n",
       "    <tr>\n",
       "      <th>23</th>\n",
       "      <td>01/01/2017</td>\n",
       "      <td>00:00</td>\n",
       "      <td>7641438</td>\n",
       "      <td>40</td>\n",
       "      <td>1961</td>\n",
       "      <td>Male</td>\n",
       "      <td>5520523</td>\n",
       "      <td>WACHTHONORARIUM</td>\n",
       "      <td></td>\n",
       "      <td>1</td>\n",
       "      <td>4.90</td>\n",
       "      <td>0.00</td>\n",
       "      <td>2017-01-01</td>\n",
       "      <td>1081.0</td>\n",
       "      <td>winter</td>\n",
       "      <td>4.90</td>\n",
       "    </tr>\n",
       "    <tr>\n",
       "      <th>31</th>\n",
       "      <td>01/01/2017</td>\n",
       "      <td>00:00</td>\n",
       "      <td>7641438</td>\n",
       "      <td>40</td>\n",
       "      <td>1967</td>\n",
       "      <td>Male</td>\n",
       "      <td>1525500</td>\n",
       "      <td>AMOXICILLINE SANDOZ  500 MG TABL DISP 16</td>\n",
       "      <td>J01CA04</td>\n",
       "      <td>16</td>\n",
       "      <td>7.06</td>\n",
       "      <td>0.79</td>\n",
       "      <td>2017-01-01</td>\n",
       "      <td>1081.0</td>\n",
       "      <td>winter</td>\n",
       "      <td>112.96</td>\n",
       "    </tr>\n",
       "    <tr>\n",
       "      <th>39</th>\n",
       "      <td>01/01/2017</td>\n",
       "      <td>00:00</td>\n",
       "      <td>7341765</td>\n",
       "      <td>40</td>\n",
       "      <td>1972</td>\n",
       "      <td>Female</td>\n",
       "      <td>2131514</td>\n",
       "      <td>LAMBIPOL TABL DISP 60 X 200 MG</td>\n",
       "      <td>N03AX09</td>\n",
       "      <td>60</td>\n",
       "      <td>71.76</td>\n",
       "      <td>12.02</td>\n",
       "      <td>2017-01-01</td>\n",
       "      <td>1081.0</td>\n",
       "      <td>winter</td>\n",
       "      <td>4305.60</td>\n",
       "    </tr>\n",
       "    <tr>\n",
       "      <th>40</th>\n",
       "      <td>01/01/2017</td>\n",
       "      <td>00:00</td>\n",
       "      <td>7641438</td>\n",
       "      <td>40</td>\n",
       "      <td>1969</td>\n",
       "      <td>Female</td>\n",
       "      <td>3183092</td>\n",
       "      <td>CYMBALTA 60 MG MAAGSAPRESIST. CAPS  98 X 60 MG</td>\n",
       "      <td>N06AX21</td>\n",
       "      <td>98</td>\n",
       "      <td>53.30</td>\n",
       "      <td>13.67</td>\n",
       "      <td>2017-01-01</td>\n",
       "      <td>1081.0</td>\n",
       "      <td>winter</td>\n",
       "      <td>5223.40</td>\n",
       "    </tr>\n",
       "    <tr>\n",
       "      <th>41</th>\n",
       "      <td>01/01/2017</td>\n",
       "      <td>00:00</td>\n",
       "      <td>7641438</td>\n",
       "      <td>40</td>\n",
       "      <td>1971</td>\n",
       "      <td>Female</td>\n",
       "      <td>5520523</td>\n",
       "      <td>WACHTHONORARIUM</td>\n",
       "      <td></td>\n",
       "      <td>1</td>\n",
       "      <td>4.90</td>\n",
       "      <td>0.00</td>\n",
       "      <td>2017-01-01</td>\n",
       "      <td>1081.0</td>\n",
       "      <td>winter</td>\n",
       "      <td>4.90</td>\n",
       "    </tr>\n",
       "  </tbody>\n",
       "</table>\n",
       "</div>"
      ],
      "text/plain": [
       "   Delivery date Delivery time  Pharmacy number  Pharmacy postcode   YOB  \\\n",
       "10    01/01/2017         00:00          7641438                 40  1949   \n",
       "11    01/01/2017         00:00          7641438                 40  1948   \n",
       "18    01/01/2017         00:00          7641438                 40  1956   \n",
       "19    01/01/2017         00:00          8272695                 40  1959   \n",
       "21    01/01/2017         00:00          7641438                 40  1961   \n",
       "23    01/01/2017         00:00          7641438                 40  1961   \n",
       "31    01/01/2017         00:00          7641438                 40  1967   \n",
       "39    01/01/2017         00:00          7341765                 40  1972   \n",
       "40    01/01/2017         00:00          7641438                 40  1969   \n",
       "41    01/01/2017         00:00          7641438                 40  1971   \n",
       "\n",
       "    Gender      CNK                                    Product name ATC code  \\\n",
       "10  Female  1676626  CIPROFLOXACINE SANDOZ 500MG TABL 20 NEW SANDOZ  J01MA02   \n",
       "11  Female  5520523                                 WACHTHONORARIUM            \n",
       "18  Female   278192             CLEXANE SPUIT INJ 10 X 40 MG/0,4 ML  B01AB05   \n",
       "19  Female  5520523                                 WACHTHONORARIUM            \n",
       "21    Male  1458736                  AUGMENTIN 875 MG COMP 10X875MG  J01CR02   \n",
       "23    Male  5520523                                 WACHTHONORARIUM            \n",
       "31    Male  1525500        AMOXICILLINE SANDOZ  500 MG TABL DISP 16  J01CA04   \n",
       "39  Female  2131514                  LAMBIPOL TABL DISP 60 X 200 MG  N03AX09   \n",
       "40  Female  3183092  CYMBALTA 60 MG MAAGSAPRESIST. CAPS  98 X 60 MG  N06AX21   \n",
       "41  Female  5520523                                 WACHTHONORARIUM            \n",
       "\n",
       "    Unit  Price  Contribution   DateTime  date_offset  Season    Sales  \n",
       "10    20  17.31          4.34 2017-01-01       1081.0  winter   346.20  \n",
       "11     1   4.90          0.00 2017-01-01       1081.0  winter     4.90  \n",
       "18    10  41.53         10.92 2017-01-01       1081.0  winter   415.30  \n",
       "19     1   4.90          0.00 2017-01-01       1081.0  winter     4.90  \n",
       "21    10  10.14          1.14 2017-01-01       1081.0  winter   101.40  \n",
       "23     1   4.90          0.00 2017-01-01       1081.0  winter     4.90  \n",
       "31    16   7.06          0.79 2017-01-01       1081.0  winter   112.96  \n",
       "39    60  71.76         12.02 2017-01-01       1081.0  winter  4305.60  \n",
       "40    98  53.30         13.67 2017-01-01       1081.0  winter  5223.40  \n",
       "41     1   4.90          0.00 2017-01-01       1081.0  winter     4.90  "
      ]
     },
     "execution_count": 52,
     "metadata": {},
     "output_type": "execute_result"
    }
   ],
   "source": [
    "df_mailinh_filter.head(10)\n"
   ]
  },
  {
   "cell_type": "markdown",
   "metadata": {
    "papermill": {
     "duration": 0.123236,
     "end_time": "2020-10-26T01:49:03.410916",
     "exception": false,
     "start_time": "2020-10-26T01:49:03.287680",
     "status": "completed"
    },
    "tags": []
   },
   "source": [
    "### Gender"
   ]
  },
  {
   "cell_type": "markdown",
   "metadata": {
    "papermill": {
     "duration": 0.122956,
     "end_time": "2020-10-26T01:49:03.656932",
     "exception": false,
     "start_time": "2020-10-26T01:49:03.533976",
     "status": "completed"
    },
    "tags": []
   },
   "source": [
    "In the code below, I want to take a look a look which gender would most likely buy medications more often in region 40.\n"
   ]
  },
  {
   "cell_type": "code",
   "execution_count": 53,
   "metadata": {
    "execution": {
     "iopub.execute_input": "2020-10-26T01:49:03.951944Z",
     "iopub.status.busy": "2020-10-26T01:49:03.951134Z",
     "iopub.status.idle": "2020-10-26T01:49:04.417673Z",
     "shell.execute_reply": "2020-10-26T01:49:04.417004Z"
    },
    "papermill": {
     "duration": 0.638094,
     "end_time": "2020-10-26T01:49:04.417801",
     "exception": false,
     "start_time": "2020-10-26T01:49:03.779707",
     "status": "completed"
    },
    "tags": []
   },
   "outputs": [
    {
     "data": {
      "image/png": "[encoded data removed]",
      "text/plain": [
       "<Figure size 1080x576 with 1 Axes>"
      ]
     },
     "metadata": {},
     "output_type": "display_data"
    }
   ],
   "source": [
    "df_by_gender = df_mailinh_filter.groupby(\"Gender\")[\"Product name\"].count().reset_index()\n",
    "df_by_gender.columns=['Gender', 'Total']\n",
    "df_by_gender.sort_values(by='Total',ascending=False,inplace=True)\n",
    "\n",
    "plt.figure(figsize=(15,8))\n",
    "plt.xticks(rotation = 0)\n",
    "plt.title('Amount of sold medicines to gender')\n",
    "states_plot = sns.barplot(x=df_by_gender['Gender'],y=df_by_gender['Total'], palette=\"GnBu_r\")\n",
    "plt.show()"
   ]
  },
  {
   "cell_type": "markdown",
   "metadata": {
    "papermill": {
     "duration": 0.124093,
     "end_time": "2020-10-26T01:49:04.666395",
     "exception": false,
     "start_time": "2020-10-26T01:49:04.542302",
     "status": "completed"
    },
    "tags": []
   },
   "source": [
    "Females would more likely buy medications than males according to the dataset. The amount of products sold to females is 614182, while the amount of products sold to males were only 458473.\n",
    "\n"
   ]
  },
  {
   "cell_type": "code",
   "execution_count": 54,
   "metadata": {
    "execution": {
     "iopub.execute_input": "2020-10-26T01:49:05.117806Z",
     "iopub.status.busy": "2020-10-26T01:49:05.117041Z",
     "iopub.status.idle": "2020-10-26T01:49:06.843110Z",
     "shell.execute_reply": "2020-10-26T01:49:06.843706Z"
    },
    "papermill": {
     "duration": 2.053518,
     "end_time": "2020-10-26T01:49:06.843870",
     "exception": false,
     "start_time": "2020-10-26T01:49:04.790352",
     "status": "completed"
    },
    "tags": []
   },
   "outputs": [
    {
     "data": {
      "text/plain": [
       "(1910.0, 2020.0)"
      ]
     },
     "execution_count": 54,
     "metadata": {},
     "output_type": "execute_result"
    },
    {
     "data": {
      "image/png": "[encoded data removed]",
      "text/plain": [
       "<Figure size 432x288 with 1 Axes>"
      ]
     },
     "metadata": {},
     "output_type": "display_data"
    }
   ],
   "source": [
    "## I want to see which age group by which gender will most likely buy medications more \n",
    "## source: https://seaborn.pydata.org/generated/seaborn.countplot.html\n",
    "## source: https://seaborn.pydata.org/generated/seaborn.distplot.html\n",
    "import seaborn as sns\n",
    "\n",
    "m_yob = df_mailinh_filter[df_mailinh_filter['Gender']=='Male']\n",
    "f_yob = df_mailinh_filter[df_mailinh_filter['Gender']=='Female']\n",
    "\n",
    "sns.set_style(\"darkgrid\")\n",
    "\n",
    "ax = sns.distplot(m_yob[['YOB']], bins = 120)\n",
    "sns.distplot(f_yob[['YOB']], bins = 120)\n",
    "\n",
    "plt.legend(['Male','Female','Neutral']);\n",
    "plt.title('Year of Birth of patients')\n",
    "plt.xlabel('Year of Birth')\n",
    "plt.xlim(1910, 2020)"
   ]
  },
  {
   "cell_type": "markdown",
   "metadata": {
    "papermill": {
     "duration": 0.126567,
     "end_time": "2020-10-26T01:49:07.100636",
     "exception": false,
     "start_time": "2020-10-26T01:49:06.974069",
     "status": "completed"
    },
    "tags": []
   },
   "source": [
    "But looking at the age of these patients, male patients in the year of birth of 1940 and 1960 will most likely buy medications more than female from this year of birth in this region. Another remarkable thing is that females who are born in the 1920 would, would most likely buy medicines more than males.\n",
    "\n"
   ]
  },
  {
   "cell_type": "markdown",
   "metadata": {
    "papermill": {
     "duration": 0.125876,
     "end_time": "2020-10-26T01:49:07.353113",
     "exception": false,
     "start_time": "2020-10-26T01:49:07.227237",
     "status": "completed"
    },
    "tags": []
   },
   "source": [
    "### Medication Products¶\n"
   ]
  },
  {
   "cell_type": "markdown",
   "metadata": {
    "papermill": {
     "duration": 0.126178,
     "end_time": "2020-10-26T01:49:07.605390",
     "exception": false,
     "start_time": "2020-10-26T01:49:07.479212",
     "status": "completed"
    },
    "tags": []
   },
   "source": [
    "In this chapter, I want to see the division of the amount of medication products being sold. So in other words to see which products are being sold more. So in the code below, we are going to see the top 5 medication products that is being sold the most.\n",
    "\n"
   ]
  },
  {
   "cell_type": "code",
   "execution_count": 55,
   "metadata": {
    "execution": {
     "iopub.execute_input": "2020-10-26T01:49:07.904644Z",
     "iopub.status.busy": "2020-10-26T01:49:07.903242Z",
     "iopub.status.idle": "2020-10-26T01:49:08.352820Z",
     "shell.execute_reply": "2020-10-26T01:49:08.352051Z"
    },
    "papermill": {
     "duration": 0.620313,
     "end_time": "2020-10-26T01:49:08.352945",
     "exception": false,
     "start_time": "2020-10-26T01:49:07.732632",
     "status": "completed"
    },
    "tags": []
   },
   "outputs": [
    {
     "data": {
      "text/html": [
       "<div>\n",
       "<style scoped>\n",
       "    .dataframe tbody tr th:only-of-type {\n",
       "        vertical-align: middle;\n",
       "    }\n",
       "\n",
       "    .dataframe tbody tr th {\n",
       "        vertical-align: top;\n",
       "    }\n",
       "\n",
       "    .dataframe thead th {\n",
       "        text-align: right;\n",
       "    }\n",
       "</style>\n",
       "<table border=\"1\" class=\"dataframe\">\n",
       "  <thead>\n",
       "    <tr style=\"text-align: right;\">\n",
       "      <th></th>\n",
       "      <th>Price</th>\n",
       "      <th>Product name</th>\n",
       "      <th>Counts</th>\n",
       "    </tr>\n",
       "  </thead>\n",
       "  <tbody>\n",
       "    <tr>\n",
       "      <th>3607</th>\n",
       "      <td>3.14</td>\n",
       "      <td>HONORARIUM PER WEEK PER RUSTOORDBEWONER ROB-RVT</td>\n",
       "      <td>12792</td>\n",
       "    </tr>\n",
       "    <tr>\n",
       "      <th>3604</th>\n",
       "      <td>3.09</td>\n",
       "      <td>HONORARIUM PER WEEK PER RUSTOORDBEWONER ROB-RVT</td>\n",
       "      <td>12720</td>\n",
       "    </tr>\n",
       "    <tr>\n",
       "      <th>3601</th>\n",
       "      <td>3.04</td>\n",
       "      <td>HONORARIUM PER WEEK PER RUSTOORDBEWONER ROB-RVT</td>\n",
       "      <td>12002</td>\n",
       "    </tr>\n",
       "    <tr>\n",
       "      <th>2833</th>\n",
       "      <td>0.03</td>\n",
       "      <td>ASAFLOW COMP  1 X  80 MG</td>\n",
       "      <td>11598</td>\n",
       "    </tr>\n",
       "    <tr>\n",
       "      <th>3018</th>\n",
       "      <td>0.12</td>\n",
       "      <td>BURINEX COMP 1 X 1 MG</td>\n",
       "      <td>6815</td>\n",
       "    </tr>\n",
       "  </tbody>\n",
       "</table>\n",
       "</div>"
      ],
      "text/plain": [
       "      Price                                     Product name  Counts\n",
       "3607   3.14  HONORARIUM PER WEEK PER RUSTOORDBEWONER ROB-RVT   12792\n",
       "3604   3.09  HONORARIUM PER WEEK PER RUSTOORDBEWONER ROB-RVT   12720\n",
       "3601   3.04  HONORARIUM PER WEEK PER RUSTOORDBEWONER ROB-RVT   12002\n",
       "2833   0.03                         ASAFLOW COMP  1 X  80 MG   11598\n",
       "3018   0.12                            BURINEX COMP 1 X 1 MG    6815"
      ]
     },
     "execution_count": 55,
     "metadata": {},
     "output_type": "execute_result"
    }
   ],
   "source": [
    "## Here we want to see the top 5 most sold products in region 40 \n",
    "df_products = df_mailinh_filter.groupby(['Price','Product name'])['Gender'].count().reset_index()\n",
    "\n",
    "df_products.columns=['Price','Product name','Counts']\n",
    "df_products.sort_values(by='Counts',ascending=False,inplace=True)\n",
    "df_products5 = df_products.head(5)\n",
    "df_products5"
   ]
  },
  {
   "cell_type": "markdown",
   "metadata": {
    "papermill": {
     "duration": 0.126356,
     "end_time": "2020-10-26T01:49:08.606119",
     "exception": false,
     "start_time": "2020-10-26T01:49:08.479763",
     "status": "completed"
    },
    "tags": []
   },
   "source": [
    "It seems that honorarium is the most popular. As you can see in the table above there are 3 different kinds of honorarium because of the different prices.\n",
    "\n"
   ]
  },
  {
   "cell_type": "code",
   "execution_count": 56,
   "metadata": {
    "execution": {
     "iopub.execute_input": "2020-10-26T01:49:08.872728Z",
     "iopub.status.busy": "2020-10-26T01:49:08.871592Z",
     "iopub.status.idle": "2020-10-26T01:49:09.648159Z",
     "shell.execute_reply": "2020-10-26T01:49:09.647536Z"
    },
    "papermill": {
     "duration": 0.915472,
     "end_time": "2020-10-26T01:49:09.648293",
     "exception": false,
     "start_time": "2020-10-26T01:49:08.732821",
     "status": "completed"
    },
    "tags": []
   },
   "outputs": [
    {
     "data": {
      "image/png": "[encoded data removed]",
      "text/plain": [
       "<Figure size 432x288 with 1 Axes>"
      ]
     },
     "metadata": {},
     "output_type": "display_data"
    }
   ],
   "source": [
    "df_products = df_mailinh_filter.groupby(['Price','Product name'])['Gender'].count().reset_index()\n",
    "\n",
    "df_products.columns=['Price','Product name','Counts']\n",
    "df_products.sort_values(by='Counts',ascending=False,inplace=True)\n",
    "df_products5 = df_products.head(10)\n",
    "\n",
    "bars = df_products5['Product name']\n",
    "height = df_products5['Counts']\n",
    "\n",
    "y_pos = np.arange(len(bars))\n",
    "\n",
    "plt.barh(y_pos, height)\n",
    "plt.yticks(y_pos, bars)\n",
    "plt.title('Top 10 most sold products')\n",
    "plt.show()"
   ]
  },
  {
   "cell_type": "code",
   "execution_count": 57,
   "metadata": {
    "execution": {
     "iopub.execute_input": "2020-10-26T01:49:09.974669Z",
     "iopub.status.busy": "2020-10-26T01:49:09.973744Z",
     "iopub.status.idle": "2020-10-26T01:49:28.475160Z",
     "shell.execute_reply": "2020-10-26T01:49:28.475763Z"
    },
    "papermill": {
     "duration": 18.698897,
     "end_time": "2020-10-26T01:49:28.475928",
     "exception": false,
     "start_time": "2020-10-26T01:49:09.777031",
     "status": "completed"
    },
    "tags": []
   },
   "outputs": [
    {
     "data": {
      "image/png": "[encoded data removed]",
      "text/plain": [
       "<Figure size 720x288 with 1 Axes>"
      ]
     },
     "metadata": {},
     "output_type": "display_data"
    }
   ],
   "source": [
    "df_productstype = df_mailinh_filter.groupby(['Season','Product name'])['Gender'].count().reset_index()\n",
    "df_productstype.columns=['Season','Product name','Counts']\n",
    "df_productstype.sort_values(by='Counts',ascending=False,inplace=True)\n",
    "\n",
    "for i in range(0, len(df_productstype)):\n",
    "    if ('honorarium' in df_productstype.loc[i, 'Product name'].lower()): \n",
    "        df_productstype.loc[i, 'ProductType'] = 'Honorarium'\n",
    "    elif ('tab' in df_productstype.loc[i, 'Product name'].lower()): \n",
    "        df_productstype.loc[i, 'ProductType'] = 'Tablet'\n",
    "    else:\n",
    "        df_productstype.loc[i, 'ProductType'] = 'Pills'\n",
    "plt.figure(figsize=(10,4))\n",
    "plt.title(\"Products type\")\n",
    "sns.barplot(x='ProductType', y='Counts', data=df_productstype);"
   ]
  },
  {
   "cell_type": "markdown",
   "metadata": {
    "papermill": {
     "duration": 0.129659,
     "end_time": "2020-10-26T01:49:28.737125",
     "exception": false,
     "start_time": "2020-10-26T01:49:28.607466",
     "status": "completed"
    },
    "tags": []
   },
   "source": [
    "To dive more into the medications, we want to see what kind of medications are popular in this pharmacy region. It seems that pills is the most popular in region 40, second place is tablets that is being sold the second best\n",
    "\n"
   ]
  },
  {
   "cell_type": "markdown",
   "metadata": {
    "papermill": {
     "duration": 0.131864,
     "end_time": "2020-10-26T01:49:28.998954",
     "exception": false,
     "start_time": "2020-10-26T01:49:28.867090",
     "status": "completed"
    },
    "tags": []
   },
   "source": [
    "### Season¶"
   ]
  },
  {
   "cell_type": "markdown",
   "metadata": {
    "papermill": {
     "duration": 0.130006,
     "end_time": "2020-10-26T01:49:29.260652",
     "exception": false,
     "start_time": "2020-10-26T01:49:29.130646",
     "status": "completed"
    },
    "tags": []
   },
   "source": [
    "To help us to find a better overview of the sales per year, we want to see in which season which medications are being sold the most.\n",
    "\n"
   ]
  },
  {
   "cell_type": "code",
   "execution_count": 58,
   "metadata": {
    "execution": {
     "iopub.execute_input": "2020-10-26T01:49:29.530285Z",
     "iopub.status.busy": "2020-10-26T01:49:29.529401Z",
     "iopub.status.idle": "2020-10-26T01:49:29.902867Z",
     "shell.execute_reply": "2020-10-26T01:49:29.902154Z"
    },
    "papermill": {
     "duration": 0.512643,
     "end_time": "2020-10-26T01:49:29.902992",
     "exception": false,
     "start_time": "2020-10-26T01:49:29.390349",
     "status": "completed"
    },
    "tags": []
   },
   "outputs": [
    {
     "data": {
      "image/png": "[encoded data removed]",
      "text/plain": [
       "<Figure size 1080x576 with 1 Axes>"
      ]
     },
     "metadata": {},
     "output_type": "display_data"
    }
   ],
   "source": [
    "df_season = df_mailinh_filter.groupby(['Season'])['Product name'].count().reset_index()\n",
    "\n",
    "df_season.columns=['Season', 'Total Product']\n",
    "df_season.sort_values(by='Total Product',ascending=False,inplace=True)\n",
    "df_season_totalproduct = df_season['Total Product']\n",
    "\n",
    "plt.figure(figsize=(15,8))\n",
    "plt.xticks(rotation = 0)\n",
    "plt.title('Amount of sold medicines to gender')\n",
    "states_plot = sns.barplot(x=df_season['Season'],y=df_season_totalproduct, palette=\"GnBu_r\")\n",
    "plt.show()"
   ]
  },
  {
   "cell_type": "markdown",
   "metadata": {
    "papermill": {
     "duration": 0.132218,
     "end_time": "2020-10-26T01:49:30.168071",
     "exception": false,
     "start_time": "2020-10-26T01:49:30.035853",
     "status": "completed"
    },
    "tags": []
   },
   "source": [
    "In this case, it’s the fall season where the pharmacy sells most of its products. As you can see in the table below, the hotter the weather, the less likely people would buy medications. In the summer, the pharmacy doesn’t sell a lot of medications compared to the fall. But then again, in the fall season people would most likely buy medications more than winter.\n",
    "\n"
   ]
  },
  {
   "cell_type": "markdown",
   "metadata": {
    "papermill": {
     "duration": 0.130491,
     "end_time": "2020-10-26T01:49:30.429875",
     "exception": false,
     "start_time": "2020-10-26T01:49:30.299384",
     "status": "completed"
    },
    "tags": []
   },
   "source": [
    "### Clinic in region 40¶\n"
   ]
  },
  {
   "cell_type": "markdown",
   "metadata": {
    "papermill": {
     "duration": 0.130478,
     "end_time": "2020-10-26T01:49:30.691633",
     "exception": false,
     "start_time": "2020-10-26T01:49:30.561155",
     "status": "completed"
    },
    "tags": []
   },
   "source": [
    "Below we can see the amount products being sold by each clinic in region 40. It seems that clinic number 7894359 is selling the most compared to others.\n",
    "\n"
   ]
  },
  {
   "cell_type": "code",
   "execution_count": 59,
   "metadata": {
    "execution": {
     "iopub.execute_input": "2020-10-26T01:49:30.966332Z",
     "iopub.status.busy": "2020-10-26T01:49:30.965214Z",
     "iopub.status.idle": "2020-10-26T01:49:31.138463Z",
     "shell.execute_reply": "2020-10-26T01:49:31.137814Z"
    },
    "papermill": {
     "duration": 0.316473,
     "end_time": "2020-10-26T01:49:31.138601",
     "exception": false,
     "start_time": "2020-10-26T01:49:30.822128",
     "status": "completed"
    },
    "tags": []
   },
   "outputs": [
    {
     "data": {
      "text/html": [
       "<div>\n",
       "<style scoped>\n",
       "    .dataframe tbody tr th:only-of-type {\n",
       "        vertical-align: middle;\n",
       "    }\n",
       "\n",
       "    .dataframe tbody tr th {\n",
       "        vertical-align: top;\n",
       "    }\n",
       "\n",
       "    .dataframe thead th {\n",
       "        text-align: right;\n",
       "    }\n",
       "</style>\n",
       "<table border=\"1\" class=\"dataframe\">\n",
       "  <thead>\n",
       "    <tr style=\"text-align: right;\">\n",
       "      <th></th>\n",
       "      <th>Pharmacy number</th>\n",
       "      <th>Total of sold products</th>\n",
       "    </tr>\n",
       "  </thead>\n",
       "  <tbody>\n",
       "    <tr>\n",
       "      <th>140</th>\n",
       "      <td>7894359</td>\n",
       "      <td>290777</td>\n",
       "    </tr>\n",
       "    <tr>\n",
       "      <th>185</th>\n",
       "      <td>7991232</td>\n",
       "      <td>101790</td>\n",
       "    </tr>\n",
       "    <tr>\n",
       "      <th>238</th>\n",
       "      <td>9068022</td>\n",
       "      <td>66590</td>\n",
       "    </tr>\n",
       "    <tr>\n",
       "      <th>57</th>\n",
       "      <td>7641438</td>\n",
       "      <td>62878</td>\n",
       "    </tr>\n",
       "    <tr>\n",
       "      <th>6</th>\n",
       "      <td>4354302</td>\n",
       "      <td>61411</td>\n",
       "    </tr>\n",
       "  </tbody>\n",
       "</table>\n",
       "</div>"
      ],
      "text/plain": [
       "     Pharmacy number  Total of sold products\n",
       "140          7894359                  290777\n",
       "185          7991232                  101790\n",
       "238          9068022                   66590\n",
       "57           7641438                   62878\n",
       "6            4354302                   61411"
      ]
     },
     "execution_count": 59,
     "metadata": {},
     "output_type": "execute_result"
    }
   ],
   "source": [
    "df_clinic = df_mailinh_filter.groupby(\"Pharmacy number\")[\"Product name\"].count().reset_index()\n",
    "df_clinic.columns=['Pharmacy number','Total of sold products']\n",
    "df_clinic.sort_values(by='Total of sold products',ascending=False,inplace=True)\n",
    "\n",
    "df_clinic.head(5)"
   ]
  },
  {
   "cell_type": "markdown",
   "metadata": {
    "papermill": {
     "duration": 0.131452,
     "end_time": "2020-10-26T01:49:31.403340",
     "exception": false,
     "start_time": "2020-10-26T01:49:31.271888",
     "status": "completed"
    },
    "tags": []
   },
   "source": [
    "Below we can see the amount products being sold by each clinic in region 40. It seems that clinic number 7894359 is selling the most compared to others. "
   ]
  },
  {
   "cell_type": "code",
   "execution_count": 60,
   "metadata": {
    "execution": {
     "iopub.execute_input": "2020-10-26T01:49:31.676358Z",
     "iopub.status.busy": "2020-10-26T01:49:31.675387Z",
     "iopub.status.idle": "2020-10-26T01:49:32.153132Z",
     "shell.execute_reply": "2020-10-26T01:49:32.152531Z"
    },
    "papermill": {
     "duration": 0.618245,
     "end_time": "2020-10-26T01:49:32.153257",
     "exception": false,
     "start_time": "2020-10-26T01:49:31.535012",
     "status": "completed"
    },
    "tags": []
   },
   "outputs": [
    {
     "data": {
      "image/png": "[encoded data removed]",
      "text/plain": [
       "<Figure size 1080x576 with 1 Axes>"
      ]
     },
     "metadata": {},
     "output_type": "display_data"
    }
   ],
   "source": [
    "df_clinic_sales = df_mailinh_filter.groupby(\"Pharmacy number\")['Sales'].sum().reset_index()\n",
    "df_clinic_sales.columns = ['Phamarcy number', 'Total amount of sales']\n",
    "df_clinic_sales.sort_values(by='Total amount of sales',ascending=False,inplace=True)\n",
    "df_clinic_sales = df_clinic_sales.head(10)\n",
    "\n",
    "plt.figure(figsize=(15,8))\n",
    "plt.xticks(rotation = 0)\n",
    "plt.title('Top 10 clinics with most sales')\n",
    "states_plot = sns.barplot(x=df_clinic_sales['Phamarcy number'],y=df_clinic_sales['Total amount of sales'], palette=\"GnBu_r\")\n",
    "plt.show()"
   ]
  }
 ],
 "metadata": {
  "kernelspec": {
   "display_name": "Python 3",
   "language": "python",
   "name": "python3"
  },
  "language_info": {
   "codemirror_mode": {
    "name": "ipython",
    "version": 3
   },
   "file_extension": ".py",
   "mimetype": "text/x-python",
   "name": "python",
   "nbconvert_exporter": "python",
   "pygments_lexer": "ipython3",
   "version": "3.7.6"
  },
  "papermill": {
   "duration": 362.053633,
   "end_time": "2020-10-26T01:49:32.596691",
   "environment_variables": {},
   "exception": null,
   "input_path": "__notebook__.ipynb",
   "output_path": "__notebook__.ipynb",
   "parameters": {},
   "start_time": "2020-10-26T01:43:30.543058",
   "version": "2.1.0"
  }
 },
 "nbformat": 4,
 "nbformat_minor": 4
}
