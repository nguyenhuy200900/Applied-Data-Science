{
 "cells": [
  {
   "cell_type": "markdown",
   "metadata": {},
   "source": [
    "*ADS-A Proftask - Group B*\n",
    "\n",
    "# Data Analysis: Informa"
   ]
  },
  {
   "cell_type": "markdown",
   "metadata": {},
   "source": [
    "## Introduction (Mailinh)"
   ]
  },
  {
   "cell_type": "markdown",
   "metadata": {},
   "source": [
    "<font color='red'>Put text Here:</font>"
   ]
  },
  {
   "cell_type": "markdown",
   "metadata": {},
   "source": [
    "## 1.Loading Libraries"
   ]
  },
  {
   "cell_type": "markdown",
   "metadata": {},
   "source": [
    "The first thing we do is import all the neccessary libraries that are going to be used to analyse the data."
   ]
  },
  {
   "cell_type": "code",
   "execution_count": 68,
   "metadata": {},
   "outputs": [],
   "source": [
    "import numpy as np\n",
    "import datetime\n",
    "import pandas as pd\n",
    "import pylab as pyl\n",
    "\n",
    "import matplotlib as mpl\n",
    "from matplotlib import pyplot as plt\n",
    "\n",
    "import seaborn as sns\n",
    "sns.set()\n",
    "\n",
    "%matplotlib inline "
   ]
  },
  {
   "cell_type": "markdown",
   "metadata": {},
   "source": [
    "## 2.Loading CSV Data "
   ]
  },
  {
   "cell_type": "markdown",
   "metadata": {},
   "source": [
    "With the code below we can import the csv files to the notebook. After reading the CSV files, we merge the CSV files together."
   ]
  },
  {
   "cell_type": "code",
   "execution_count": 69,
   "metadata": {},
   "outputs": [],
   "source": [
    "df1 = pd.read_csv('D:/Documenten/Fontys ICT/Semester 4/ADS-A/Proftaak/Data Analysis/Data/ds-1.csv')\n",
    "df2 = pd.read_csv('D:/Documenten/Fontys ICT/Semester 4/ADS-A/Proftaak/Data Analysis/Data/ds-2.csv')\n",
    "df3 = pd.read_csv('D:/Documenten/Fontys ICT/Semester 4/ADS-A/Proftaak/Data Analysis/Data/ds-3.csv')\n",
    "df4 = pd.read_csv('D:/Documenten/Fontys ICT/Semester 4/ADS-A/Proftaak/Data Analysis/Data/ds-4.csv')\n",
    "df5 = pd.read_csv('D:/Documenten/Fontys ICT/Semester 4/ADS-A/Proftaak/Data Analysis/Data/ds-5.csv')\n",
    "df6 = pd.read_csv('D:/Documenten/Fontys ICT/Semester 4/ADS-A/Proftaak/Data Analysis/Data/ds-6.csv')\n",
    "df7 = pd.read_csv('D:/Documenten/Fontys ICT/Semester 4/ADS-A/Proftaak/Data Analysis/Data/ds-7.csv')\n",
    "df8 = pd.read_csv('D:/Documenten/Fontys ICT/Semester 4/ADS-A/Proftaak/Data Analysis/Data/ds-8.csv')\n",
    "df9 = pd.read_csv('D:/Documenten/Fontys ICT/Semester 4/ADS-A/Proftaak/Data Analysis/Data/ds-9.csv')"
   ]
  },
  {
   "cell_type": "markdown",
   "metadata": {},
   "source": [
    "## 3.Data Merging"
   ]
  },
  {
   "cell_type": "markdown",
   "metadata": {},
   "source": [
    "<font color='red'>Put text Here:</font>"
   ]
  },
  {
   "cell_type": "code",
   "execution_count": 70,
   "metadata": {},
   "outputs": [],
   "source": [
    "frames = [df1, df2, df3, df4, df5, df6, df7, df8, df9]\n",
    "df_all = pd.concat(frames)\n",
    "\n",
    "df_all.columns = ['Delivery date','Delivery time','Pharmacy number','Pharmacy postcode','YOB','Gender','CNK','Product name','ATC code','Unit','Price','Contribution']"
   ]
  },
  {
   "cell_type": "markdown",
   "metadata": {},
   "source": [
    "## 4.Data Cleaning"
   ]
  },
  {
   "cell_type": "markdown",
   "metadata": {},
   "source": [
    "<font color='red'>Put text Here:</font>"
   ]
  },
  {
   "cell_type": "markdown",
   "metadata": {},
   "source": [
    "### 4.1.Gender Number Replacement"
   ]
  },
  {
   "cell_type": "markdown",
   "metadata": {},
   "source": [
    "<font color='red'>Put text Here:</font>"
   ]
  },
  {
   "cell_type": "code",
   "execution_count": 71,
   "metadata": {},
   "outputs": [],
   "source": [
    "df_all['Gender'].replace([0], 'Unknown', inplace = True)\n",
    "df_all['Gender'].replace([1], 'Male', inplace = True)\n",
    "df_all['Gender'].replace([2], 'Female', inplace = True)\n",
    "df_all['Gender'].replace([3], 'Unknown', inplace = True)"
   ]
  },
  {
   "cell_type": "code",
   "execution_count": 72,
   "metadata": {},
   "outputs": [
    {
     "data": {
      "text/html": [
       "<div>\n",
       "<style scoped>\n",
       "    .dataframe tbody tr th:only-of-type {\n",
       "        vertical-align: middle;\n",
       "    }\n",
       "\n",
       "    .dataframe tbody tr th {\n",
       "        vertical-align: top;\n",
       "    }\n",
       "\n",
       "    .dataframe thead th {\n",
       "        text-align: right;\n",
       "    }\n",
       "</style>\n",
       "<table border=\"1\" class=\"dataframe\">\n",
       "  <thead>\n",
       "    <tr style=\"text-align: right;\">\n",
       "      <th></th>\n",
       "      <th>Delivery date</th>\n",
       "      <th>Delivery time</th>\n",
       "      <th>Pharmacy number</th>\n",
       "      <th>Pharmacy postcode</th>\n",
       "      <th>YOB</th>\n",
       "      <th>Gender</th>\n",
       "      <th>CNK</th>\n",
       "      <th>Product name</th>\n",
       "      <th>ATC code</th>\n",
       "      <th>Unit</th>\n",
       "      <th>Price</th>\n",
       "      <th>Contribution</th>\n",
       "    </tr>\n",
       "  </thead>\n",
       "  <tbody>\n",
       "    <tr>\n",
       "      <th>0</th>\n",
       "      <td>01/01/2017</td>\n",
       "      <td>00:00</td>\n",
       "      <td>7341765</td>\n",
       "      <td>21</td>\n",
       "      <td>1922</td>\n",
       "      <td>Male</td>\n",
       "      <td>5520523</td>\n",
       "      <td>WACHTHONORARIUM</td>\n",
       "      <td></td>\n",
       "      <td>0</td>\n",
       "      <td>4.90</td>\n",
       "      <td>0.00</td>\n",
       "    </tr>\n",
       "    <tr>\n",
       "      <th>1</th>\n",
       "      <td>01/01/2017</td>\n",
       "      <td>00:00</td>\n",
       "      <td>7341765</td>\n",
       "      <td>21</td>\n",
       "      <td>1925</td>\n",
       "      <td>Male</td>\n",
       "      <td>1799931</td>\n",
       "      <td>ZALDIAR 37,5 MG/325 MG FILMOMH TABL 20</td>\n",
       "      <td>N02AJ13</td>\n",
       "      <td>20</td>\n",
       "      <td>9.26</td>\n",
       "      <td>3.62</td>\n",
       "    </tr>\n",
       "    <tr>\n",
       "      <th>2</th>\n",
       "      <td>01/01/2017</td>\n",
       "      <td>00:00</td>\n",
       "      <td>8272695</td>\n",
       "      <td>16</td>\n",
       "      <td>1932</td>\n",
       "      <td>Female</td>\n",
       "      <td>1719400</td>\n",
       "      <td>VASEXTEN CAPS BLIST 28 X 10 MG</td>\n",
       "      <td>C08CA12</td>\n",
       "      <td>28</td>\n",
       "      <td>19.22</td>\n",
       "      <td>4.98</td>\n",
       "    </tr>\n",
       "    <tr>\n",
       "      <th>3</th>\n",
       "      <td>01/01/2017</td>\n",
       "      <td>00:00</td>\n",
       "      <td>8272695</td>\n",
       "      <td>16</td>\n",
       "      <td>1933</td>\n",
       "      <td>Female</td>\n",
       "      <td>5520523</td>\n",
       "      <td>WACHTHONORARIUM</td>\n",
       "      <td></td>\n",
       "      <td>0</td>\n",
       "      <td>4.90</td>\n",
       "      <td>0.00</td>\n",
       "    </tr>\n",
       "    <tr>\n",
       "      <th>4</th>\n",
       "      <td>01/01/2017</td>\n",
       "      <td>00:00</td>\n",
       "      <td>9111423</td>\n",
       "      <td>10</td>\n",
       "      <td>1931</td>\n",
       "      <td>Male</td>\n",
       "      <td>1750132</td>\n",
       "      <td>AACIDEXAM 5MG/ML OPL INJ FL INJ  1 X 1ML</td>\n",
       "      <td>H02AB02</td>\n",
       "      <td>1</td>\n",
       "      <td>6.15</td>\n",
       "      <td>0.39</td>\n",
       "    </tr>\n",
       "    <tr>\n",
       "      <th>5</th>\n",
       "      <td>01/01/2017</td>\n",
       "      <td>00:00</td>\n",
       "      <td>8272695</td>\n",
       "      <td>10</td>\n",
       "      <td>1933</td>\n",
       "      <td>Male</td>\n",
       "      <td>1750132</td>\n",
       "      <td>AACIDEXAM 5MG/ML OPL INJ FL INJ  1 X 1ML</td>\n",
       "      <td>H02AB02</td>\n",
       "      <td>1</td>\n",
       "      <td>6.15</td>\n",
       "      <td>0.39</td>\n",
       "    </tr>\n",
       "    <tr>\n",
       "      <th>6</th>\n",
       "      <td>01/01/2017</td>\n",
       "      <td>00:00</td>\n",
       "      <td>8272695</td>\n",
       "      <td>16</td>\n",
       "      <td>1935</td>\n",
       "      <td>Female</td>\n",
       "      <td>1715127</td>\n",
       "      <td>AMOXICLAV SANDOZ 875 MG/125 MG COMP 20</td>\n",
       "      <td>J01CR02</td>\n",
       "      <td>20</td>\n",
       "      <td>15.18</td>\n",
       "      <td>3.58</td>\n",
       "    </tr>\n",
       "    <tr>\n",
       "      <th>7</th>\n",
       "      <td>01/01/2017</td>\n",
       "      <td>00:00</td>\n",
       "      <td>8272695</td>\n",
       "      <td>16</td>\n",
       "      <td>1933</td>\n",
       "      <td>Female</td>\n",
       "      <td>5520523</td>\n",
       "      <td>WACHTHONORARIUM</td>\n",
       "      <td></td>\n",
       "      <td>0</td>\n",
       "      <td>4.90</td>\n",
       "      <td>0.00</td>\n",
       "    </tr>\n",
       "    <tr>\n",
       "      <th>8</th>\n",
       "      <td>01/01/2017</td>\n",
       "      <td>00:00</td>\n",
       "      <td>8272695</td>\n",
       "      <td>21</td>\n",
       "      <td>1940</td>\n",
       "      <td>Male</td>\n",
       "      <td>5520523</td>\n",
       "      <td>WACHTHONORARIUM</td>\n",
       "      <td></td>\n",
       "      <td>0</td>\n",
       "      <td>4.90</td>\n",
       "      <td>0.00</td>\n",
       "    </tr>\n",
       "    <tr>\n",
       "      <th>9</th>\n",
       "      <td>01/01/2017</td>\n",
       "      <td>00:00</td>\n",
       "      <td>7939080</td>\n",
       "      <td>45</td>\n",
       "      <td>1949</td>\n",
       "      <td>Female</td>\n",
       "      <td>1537380</td>\n",
       "      <td>AROMASIN 25MG COMP 100</td>\n",
       "      <td>L02BG06</td>\n",
       "      <td>100</td>\n",
       "      <td>152.84</td>\n",
       "      <td>0.00</td>\n",
       "    </tr>\n",
       "  </tbody>\n",
       "</table>\n",
       "</div>"
      ],
      "text/plain": [
       "  Delivery date Delivery time  Pharmacy number  Pharmacy postcode   YOB  \\\n",
       "0    01/01/2017         00:00          7341765                 21  1922   \n",
       "1    01/01/2017         00:00          7341765                 21  1925   \n",
       "2    01/01/2017         00:00          8272695                 16  1932   \n",
       "3    01/01/2017         00:00          8272695                 16  1933   \n",
       "4    01/01/2017         00:00          9111423                 10  1931   \n",
       "5    01/01/2017         00:00          8272695                 10  1933   \n",
       "6    01/01/2017         00:00          8272695                 16  1935   \n",
       "7    01/01/2017         00:00          8272695                 16  1933   \n",
       "8    01/01/2017         00:00          8272695                 21  1940   \n",
       "9    01/01/2017         00:00          7939080                 45  1949   \n",
       "\n",
       "   Gender      CNK                              Product name ATC code  Unit  \\\n",
       "0    Male  5520523                           WACHTHONORARIUM              0   \n",
       "1    Male  1799931    ZALDIAR 37,5 MG/325 MG FILMOMH TABL 20  N02AJ13    20   \n",
       "2  Female  1719400            VASEXTEN CAPS BLIST 28 X 10 MG  C08CA12    28   \n",
       "3  Female  5520523                           WACHTHONORARIUM              0   \n",
       "4    Male  1750132  AACIDEXAM 5MG/ML OPL INJ FL INJ  1 X 1ML  H02AB02     1   \n",
       "5    Male  1750132  AACIDEXAM 5MG/ML OPL INJ FL INJ  1 X 1ML  H02AB02     1   \n",
       "6  Female  1715127    AMOXICLAV SANDOZ 875 MG/125 MG COMP 20  J01CR02    20   \n",
       "7  Female  5520523                           WACHTHONORARIUM              0   \n",
       "8    Male  5520523                           WACHTHONORARIUM              0   \n",
       "9  Female  1537380                    AROMASIN 25MG COMP 100  L02BG06   100   \n",
       "\n",
       "    Price  Contribution  \n",
       "0    4.90          0.00  \n",
       "1    9.26          3.62  \n",
       "2   19.22          4.98  \n",
       "3    4.90          0.00  \n",
       "4    6.15          0.39  \n",
       "5    6.15          0.39  \n",
       "6   15.18          3.58  \n",
       "7    4.90          0.00  \n",
       "8    4.90          0.00  \n",
       "9  152.84          0.00  "
      ]
     },
     "execution_count": 72,
     "metadata": {},
     "output_type": "execute_result"
    }
   ],
   "source": [
    "df_all.head(10)"
   ]
  },
  {
   "cell_type": "markdown",
   "metadata": {},
   "source": [
    "<font color='red'>Put text Here:</font>"
   ]
  },
  {
   "cell_type": "code",
   "execution_count": 73,
   "metadata": {},
   "outputs": [
    {
     "data": {
      "text/plain": [
       "Female     13061752\n",
       "Male        9565377\n",
       "Unknown       78218\n",
       "Name: Gender, dtype: int64"
      ]
     },
     "execution_count": 73,
     "metadata": {},
     "output_type": "execute_result"
    }
   ],
   "source": [
    "df_all['Gender'].value_counts()"
   ]
  },
  {
   "cell_type": "markdown",
   "metadata": {},
   "source": [
    "### 4.2.Change Delivery Date & Time"
   ]
  },
  {
   "cell_type": "markdown",
   "metadata": {},
   "source": [
    "<font color='red'>Put text Here:</font>"
   ]
  },
  {
   "cell_type": "code",
   "execution_count": 74,
   "metadata": {},
   "outputs": [
    {
     "data": {
      "text/plain": [
       "00:00    3418510\n",
       "10:05      39610\n",
       "10:07      39112\n",
       "10:59      38922\n",
       "10:14      38898\n",
       "          ...   \n",
       "04:07          1\n",
       "04:42          1\n",
       "04:47          1\n",
       "06:43          1\n",
       "06:48          1\n",
       "Name: Delivery time, Length: 1413, dtype: int64"
      ]
     },
     "execution_count": 74,
     "metadata": {},
     "output_type": "execute_result"
    }
   ],
   "source": [
    "df_all['Delivery time'].replace('?', np.NaN)\n",
    "df_all['Delivery time'].value_counts()"
   ]
  },
  {
   "cell_type": "code",
   "execution_count": 75,
   "metadata": {},
   "outputs": [
    {
     "data": {
      "text/plain": [
       "2019-11-04 00:00:00    18802\n",
       "2019-04-30 00:00:00    17521\n",
       "2019-04-29 00:00:00    17112\n",
       "2019-05-27 00:00:00    17071\n",
       "2019-12-23 00:00:00    17014\n",
       "                       ...  \n",
       "2018-05-21 15:31:00        1\n",
       "2018-12-01 12:06:00        1\n",
       "2017-12-30 08:50:00        1\n",
       "2019-08-27 19:39:00        1\n",
       "2019-07-11 18:48:00        1\n",
       "Name: DateTime, Length: 658010, dtype: int64"
      ]
     },
     "execution_count": 75,
     "metadata": {},
     "output_type": "execute_result"
    }
   ],
   "source": [
    "df_all['DateTime'] = pd.to_datetime(df_all['Delivery date'] + ' ' + df_all['Delivery time'])\n",
    "df_all['DateTime'].value_counts()"
   ]
  },
  {
   "cell_type": "code",
   "execution_count": 76,
   "metadata": {},
   "outputs": [
    {
     "data": {
      "text/html": [
       "<div>\n",
       "<style scoped>\n",
       "    .dataframe tbody tr th:only-of-type {\n",
       "        vertical-align: middle;\n",
       "    }\n",
       "\n",
       "    .dataframe tbody tr th {\n",
       "        vertical-align: top;\n",
       "    }\n",
       "\n",
       "    .dataframe thead th {\n",
       "        text-align: right;\n",
       "    }\n",
       "</style>\n",
       "<table border=\"1\" class=\"dataframe\">\n",
       "  <thead>\n",
       "    <tr style=\"text-align: right;\">\n",
       "      <th></th>\n",
       "      <th>Delivery date</th>\n",
       "      <th>Delivery time</th>\n",
       "      <th>Pharmacy number</th>\n",
       "      <th>Pharmacy postcode</th>\n",
       "      <th>YOB</th>\n",
       "      <th>Gender</th>\n",
       "      <th>CNK</th>\n",
       "      <th>Product name</th>\n",
       "      <th>ATC code</th>\n",
       "      <th>Unit</th>\n",
       "      <th>Price</th>\n",
       "      <th>Contribution</th>\n",
       "      <th>DateTime</th>\n",
       "    </tr>\n",
       "  </thead>\n",
       "  <tbody>\n",
       "    <tr>\n",
       "      <th>0</th>\n",
       "      <td>01/01/2017</td>\n",
       "      <td>00:00</td>\n",
       "      <td>7341765</td>\n",
       "      <td>21</td>\n",
       "      <td>1922</td>\n",
       "      <td>Male</td>\n",
       "      <td>5520523</td>\n",
       "      <td>WACHTHONORARIUM</td>\n",
       "      <td></td>\n",
       "      <td>0</td>\n",
       "      <td>4.90</td>\n",
       "      <td>0.00</td>\n",
       "      <td>2017-01-01</td>\n",
       "    </tr>\n",
       "    <tr>\n",
       "      <th>1</th>\n",
       "      <td>01/01/2017</td>\n",
       "      <td>00:00</td>\n",
       "      <td>7341765</td>\n",
       "      <td>21</td>\n",
       "      <td>1925</td>\n",
       "      <td>Male</td>\n",
       "      <td>1799931</td>\n",
       "      <td>ZALDIAR 37,5 MG/325 MG FILMOMH TABL 20</td>\n",
       "      <td>N02AJ13</td>\n",
       "      <td>20</td>\n",
       "      <td>9.26</td>\n",
       "      <td>3.62</td>\n",
       "      <td>2017-01-01</td>\n",
       "    </tr>\n",
       "    <tr>\n",
       "      <th>2</th>\n",
       "      <td>01/01/2017</td>\n",
       "      <td>00:00</td>\n",
       "      <td>8272695</td>\n",
       "      <td>16</td>\n",
       "      <td>1932</td>\n",
       "      <td>Female</td>\n",
       "      <td>1719400</td>\n",
       "      <td>VASEXTEN CAPS BLIST 28 X 10 MG</td>\n",
       "      <td>C08CA12</td>\n",
       "      <td>28</td>\n",
       "      <td>19.22</td>\n",
       "      <td>4.98</td>\n",
       "      <td>2017-01-01</td>\n",
       "    </tr>\n",
       "    <tr>\n",
       "      <th>3</th>\n",
       "      <td>01/01/2017</td>\n",
       "      <td>00:00</td>\n",
       "      <td>8272695</td>\n",
       "      <td>16</td>\n",
       "      <td>1933</td>\n",
       "      <td>Female</td>\n",
       "      <td>5520523</td>\n",
       "      <td>WACHTHONORARIUM</td>\n",
       "      <td></td>\n",
       "      <td>0</td>\n",
       "      <td>4.90</td>\n",
       "      <td>0.00</td>\n",
       "      <td>2017-01-01</td>\n",
       "    </tr>\n",
       "    <tr>\n",
       "      <th>4</th>\n",
       "      <td>01/01/2017</td>\n",
       "      <td>00:00</td>\n",
       "      <td>9111423</td>\n",
       "      <td>10</td>\n",
       "      <td>1931</td>\n",
       "      <td>Male</td>\n",
       "      <td>1750132</td>\n",
       "      <td>AACIDEXAM 5MG/ML OPL INJ FL INJ  1 X 1ML</td>\n",
       "      <td>H02AB02</td>\n",
       "      <td>1</td>\n",
       "      <td>6.15</td>\n",
       "      <td>0.39</td>\n",
       "      <td>2017-01-01</td>\n",
       "    </tr>\n",
       "  </tbody>\n",
       "</table>\n",
       "</div>"
      ],
      "text/plain": [
       "  Delivery date Delivery time  Pharmacy number  Pharmacy postcode   YOB  \\\n",
       "0    01/01/2017         00:00          7341765                 21  1922   \n",
       "1    01/01/2017         00:00          7341765                 21  1925   \n",
       "2    01/01/2017         00:00          8272695                 16  1932   \n",
       "3    01/01/2017         00:00          8272695                 16  1933   \n",
       "4    01/01/2017         00:00          9111423                 10  1931   \n",
       "\n",
       "   Gender      CNK                              Product name ATC code  Unit  \\\n",
       "0    Male  5520523                           WACHTHONORARIUM              0   \n",
       "1    Male  1799931    ZALDIAR 37,5 MG/325 MG FILMOMH TABL 20  N02AJ13    20   \n",
       "2  Female  1719400            VASEXTEN CAPS BLIST 28 X 10 MG  C08CA12    28   \n",
       "3  Female  5520523                           WACHTHONORARIUM              0   \n",
       "4    Male  1750132  AACIDEXAM 5MG/ML OPL INJ FL INJ  1 X 1ML  H02AB02     1   \n",
       "\n",
       "   Price  Contribution   DateTime  \n",
       "0   4.90          0.00 2017-01-01  \n",
       "1   9.26          3.62 2017-01-01  \n",
       "2  19.22          4.98 2017-01-01  \n",
       "3   4.90          0.00 2017-01-01  \n",
       "4   6.15          0.39 2017-01-01  "
      ]
     },
     "execution_count": 76,
     "metadata": {},
     "output_type": "execute_result"
    }
   ],
   "source": [
    "df_all.head(5)"
   ]
  },
  {
   "cell_type": "markdown",
   "metadata": {},
   "source": [
    "### 4.3.Season Category"
   ]
  },
  {
   "cell_type": "markdown",
   "metadata": {},
   "source": [
    "To make some good visuals with the seasons we first have to extract the seasons from the DateTime column, which was made from the delivery dates and delivery times. This has been done with pd.cut.\n",
    "\n",
    "Source: https://stackoverflow.com/questions/60285557/extract-seasons-from-datetime-pandas\n",
    "\n",
    "After making the column for the seasons we want to see if it was successfully executed. This is why we count the values by season to see is all season are made and what season has the most deliveries."
   ]
  },
  {
   "cell_type": "code",
   "execution_count": 77,
   "metadata": {},
   "outputs": [
    {
     "data": {
      "text/html": [
       "<div>\n",
       "<style scoped>\n",
       "    .dataframe tbody tr th:only-of-type {\n",
       "        vertical-align: middle;\n",
       "    }\n",
       "\n",
       "    .dataframe tbody tr th {\n",
       "        vertical-align: top;\n",
       "    }\n",
       "\n",
       "    .dataframe thead th {\n",
       "        text-align: right;\n",
       "    }\n",
       "</style>\n",
       "<table border=\"1\" class=\"dataframe\">\n",
       "  <thead>\n",
       "    <tr style=\"text-align: right;\">\n",
       "      <th></th>\n",
       "      <th>Delivery date</th>\n",
       "      <th>Delivery time</th>\n",
       "      <th>Pharmacy number</th>\n",
       "      <th>Pharmacy postcode</th>\n",
       "      <th>YOB</th>\n",
       "      <th>Gender</th>\n",
       "      <th>CNK</th>\n",
       "      <th>Product name</th>\n",
       "      <th>ATC code</th>\n",
       "      <th>Unit</th>\n",
       "      <th>Price</th>\n",
       "      <th>Contribution</th>\n",
       "      <th>DateTime</th>\n",
       "      <th>date_offset</th>\n",
       "      <th>Season</th>\n",
       "    </tr>\n",
       "  </thead>\n",
       "  <tbody>\n",
       "    <tr>\n",
       "      <th>1905350</th>\n",
       "      <td>12/31/2019</td>\n",
       "      <td>23:56</td>\n",
       "      <td>7068483</td>\n",
       "      <td>90</td>\n",
       "      <td>1963</td>\n",
       "      <td>Female</td>\n",
       "      <td>2139137</td>\n",
       "      <td>FLOCATH QUICK SONDE INTERM.+AUTOLUB. CH14 20CM 30</td>\n",
       "      <td></td>\n",
       "      <td>0</td>\n",
       "      <td>81.81</td>\n",
       "      <td>0.0</td>\n",
       "      <td>2019-12-31 23:56:00</td>\n",
       "      <td>911.0</td>\n",
       "      <td>winter</td>\n",
       "    </tr>\n",
       "    <tr>\n",
       "      <th>1905351</th>\n",
       "      <td>12/31/2019</td>\n",
       "      <td>23:56</td>\n",
       "      <td>7068483</td>\n",
       "      <td>90</td>\n",
       "      <td>1962</td>\n",
       "      <td>Female</td>\n",
       "      <td>2139137</td>\n",
       "      <td>FLOCATH QUICK SONDE INTERM.+AUTOLUB. CH14 20CM 30</td>\n",
       "      <td></td>\n",
       "      <td>0</td>\n",
       "      <td>81.81</td>\n",
       "      <td>0.0</td>\n",
       "      <td>2019-12-31 23:56:00</td>\n",
       "      <td>911.0</td>\n",
       "      <td>winter</td>\n",
       "    </tr>\n",
       "    <tr>\n",
       "      <th>1905352</th>\n",
       "      <td>12/31/2019</td>\n",
       "      <td>23:56</td>\n",
       "      <td>7068483</td>\n",
       "      <td>90</td>\n",
       "      <td>1961</td>\n",
       "      <td>Female</td>\n",
       "      <td>2139137</td>\n",
       "      <td>FLOCATH QUICK SONDE INTERM.+AUTOLUB. CH14 20CM 30</td>\n",
       "      <td></td>\n",
       "      <td>0</td>\n",
       "      <td>81.81</td>\n",
       "      <td>0.0</td>\n",
       "      <td>2019-12-31 23:56:00</td>\n",
       "      <td>911.0</td>\n",
       "      <td>winter</td>\n",
       "    </tr>\n",
       "    <tr>\n",
       "      <th>1905353</th>\n",
       "      <td>12/31/2019</td>\n",
       "      <td>23:56</td>\n",
       "      <td>7068483</td>\n",
       "      <td>90</td>\n",
       "      <td>1962</td>\n",
       "      <td>Female</td>\n",
       "      <td>2139137</td>\n",
       "      <td>FLOCATH QUICK SONDE INTERM.+AUTOLUB. CH14 20CM 30</td>\n",
       "      <td></td>\n",
       "      <td>0</td>\n",
       "      <td>81.81</td>\n",
       "      <td>0.0</td>\n",
       "      <td>2019-12-31 23:56:00</td>\n",
       "      <td>911.0</td>\n",
       "      <td>winter</td>\n",
       "    </tr>\n",
       "    <tr>\n",
       "      <th>1905354</th>\n",
       "      <td>12/31/2019</td>\n",
       "      <td>23:56</td>\n",
       "      <td>7068483</td>\n",
       "      <td>90</td>\n",
       "      <td>1962</td>\n",
       "      <td>Female</td>\n",
       "      <td>2139137</td>\n",
       "      <td>FLOCATH QUICK SONDE INTERM.+AUTOLUB. CH14 20CM 30</td>\n",
       "      <td></td>\n",
       "      <td>0</td>\n",
       "      <td>81.81</td>\n",
       "      <td>0.0</td>\n",
       "      <td>2019-12-31 23:56:00</td>\n",
       "      <td>911.0</td>\n",
       "      <td>winter</td>\n",
       "    </tr>\n",
       "  </tbody>\n",
       "</table>\n",
       "</div>"
      ],
      "text/plain": [
       "        Delivery date Delivery time  Pharmacy number  Pharmacy postcode   YOB  \\\n",
       "1905350    12/31/2019         23:56          7068483                 90  1963   \n",
       "1905351    12/31/2019         23:56          7068483                 90  1962   \n",
       "1905352    12/31/2019         23:56          7068483                 90  1961   \n",
       "1905353    12/31/2019         23:56          7068483                 90  1962   \n",
       "1905354    12/31/2019         23:56          7068483                 90  1962   \n",
       "\n",
       "         Gender      CNK                                       Product name  \\\n",
       "1905350  Female  2139137  FLOCATH QUICK SONDE INTERM.+AUTOLUB. CH14 20CM 30   \n",
       "1905351  Female  2139137  FLOCATH QUICK SONDE INTERM.+AUTOLUB. CH14 20CM 30   \n",
       "1905352  Female  2139137  FLOCATH QUICK SONDE INTERM.+AUTOLUB. CH14 20CM 30   \n",
       "1905353  Female  2139137  FLOCATH QUICK SONDE INTERM.+AUTOLUB. CH14 20CM 30   \n",
       "1905354  Female  2139137  FLOCATH QUICK SONDE INTERM.+AUTOLUB. CH14 20CM 30   \n",
       "\n",
       "        ATC code  Unit  Price  Contribution            DateTime  date_offset  \\\n",
       "1905350              0  81.81           0.0 2019-12-31 23:56:00        911.0   \n",
       "1905351              0  81.81           0.0 2019-12-31 23:56:00        911.0   \n",
       "1905352              0  81.81           0.0 2019-12-31 23:56:00        911.0   \n",
       "1905353              0  81.81           0.0 2019-12-31 23:56:00        911.0   \n",
       "1905354              0  81.81           0.0 2019-12-31 23:56:00        911.0   \n",
       "\n",
       "         Season  \n",
       "1905350  winter  \n",
       "1905351  winter  \n",
       "1905352  winter  \n",
       "1905353  winter  \n",
       "1905354  winter  "
      ]
     },
     "execution_count": 77,
     "metadata": {},
     "output_type": "execute_result"
    }
   ],
   "source": [
    "df_all['date_offset'] = (df_all['DateTime'].dt.month * 100 + df_all['DateTime'].dt.day - 320) % 1300\n",
    "df_all['Season'] = pd.cut(df_all['date_offset'], [0, 300, 602, 900, 1300], labels = ['Spring', 'summer', 'autumn', 'winter'])\n",
    "df_all['Season'].value_counts()\n",
    "df_all.tail(5)"
   ]
  },
  {
   "cell_type": "markdown",
   "metadata": {},
   "source": [
    "### 4.4.Product Category"
   ]
  },
  {
   "cell_type": "markdown",
   "metadata": {},
   "source": []
  },
  {
   "cell_type": "code",
   "execution_count": 86,
   "metadata": {},
   "outputs": [],
   "source": [
    "df_products = df_all.groupby(['Price','Product name'])['Gender'].count().reset_index()\n",
    "\n",
    "df_products.columns = ['Price','Product name','Counts']\n",
    "df_products.sort_values(by = 'Counts', ascending = False, inplace = True)"
   ]
  },
  {
   "cell_type": "code",
   "execution_count": 87,
   "metadata": {},
   "outputs": [
    {
     "data": {
      "text/html": [
       "<div>\n",
       "<style scoped>\n",
       "    .dataframe tbody tr th:only-of-type {\n",
       "        vertical-align: middle;\n",
       "    }\n",
       "\n",
       "    .dataframe tbody tr th {\n",
       "        vertical-align: top;\n",
       "    }\n",
       "\n",
       "    .dataframe thead th {\n",
       "        text-align: right;\n",
       "    }\n",
       "</style>\n",
       "<table border=\"1\" class=\"dataframe\">\n",
       "  <thead>\n",
       "    <tr style=\"text-align: right;\">\n",
       "      <th></th>\n",
       "      <th>Price</th>\n",
       "      <th>Product name</th>\n",
       "      <th>Counts</th>\n",
       "    </tr>\n",
       "  </thead>\n",
       "  <tbody>\n",
       "    <tr>\n",
       "      <th>7134</th>\n",
       "      <td>0.03</td>\n",
       "      <td>ASAFLOW COMP  1 X  80 MG</td>\n",
       "      <td>189579</td>\n",
       "    </tr>\n",
       "    <tr>\n",
       "      <th>9610</th>\n",
       "      <td>3.09</td>\n",
       "      <td>HONORARIUM PER WEEK PER RUSTOORDBEWONER ROB-RVT</td>\n",
       "      <td>148892</td>\n",
       "    </tr>\n",
       "    <tr>\n",
       "      <th>9626</th>\n",
       "      <td>3.14</td>\n",
       "      <td>HONORARIUM PER WEEK PER RUSTOORDBEWONER ROB-RVT</td>\n",
       "      <td>135044</td>\n",
       "    </tr>\n",
       "    <tr>\n",
       "      <th>9604</th>\n",
       "      <td>3.04</td>\n",
       "      <td>HONORARIUM PER WEEK PER RUSTOORDBEWONER ROB-RVT</td>\n",
       "      <td>132432</td>\n",
       "    </tr>\n",
       "    <tr>\n",
       "      <th>14447</th>\n",
       "      <td>10.03</td>\n",
       "      <td>ASAFLOW  80MG MAAGSAPRES COMP BLI 168X 80MG</td>\n",
       "      <td>103441</td>\n",
       "    </tr>\n",
       "    <tr>\n",
       "      <th>14339</th>\n",
       "      <td>9.95</td>\n",
       "      <td>ASAFLOW  80MG MAAGSAPRES COMP BLI 168X 80MG</td>\n",
       "      <td>101157</td>\n",
       "    </tr>\n",
       "    <tr>\n",
       "      <th>7580</th>\n",
       "      <td>0.12</td>\n",
       "      <td>BURINEX COMP 1 X 1 MG</td>\n",
       "      <td>87512</td>\n",
       "    </tr>\n",
       "    <tr>\n",
       "      <th>17725</th>\n",
       "      <td>13.28</td>\n",
       "      <td>ALPHARIX-TETRA SER INJ 0,5 ML  2017</td>\n",
       "      <td>85681</td>\n",
       "    </tr>\n",
       "    <tr>\n",
       "      <th>12411</th>\n",
       "      <td>8.25</td>\n",
       "      <td>BURINEX COMP  30 X 1 MG</td>\n",
       "      <td>79506</td>\n",
       "    </tr>\n",
       "    <tr>\n",
       "      <th>14267</th>\n",
       "      <td>9.89</td>\n",
       "      <td>ASAFLOW  80MG MAAGSAPRES COMP BLI 168X 80MG</td>\n",
       "      <td>78632</td>\n",
       "    </tr>\n",
       "  </tbody>\n",
       "</table>\n",
       "</div>"
      ],
      "text/plain": [
       "       Price                                     Product name  Counts\n",
       "7134    0.03                         ASAFLOW COMP  1 X  80 MG  189579\n",
       "9610    3.09  HONORARIUM PER WEEK PER RUSTOORDBEWONER ROB-RVT  148892\n",
       "9626    3.14  HONORARIUM PER WEEK PER RUSTOORDBEWONER ROB-RVT  135044\n",
       "9604    3.04  HONORARIUM PER WEEK PER RUSTOORDBEWONER ROB-RVT  132432\n",
       "14447  10.03      ASAFLOW  80MG MAAGSAPRES COMP BLI 168X 80MG  103441\n",
       "14339   9.95      ASAFLOW  80MG MAAGSAPRES COMP BLI 168X 80MG  101157\n",
       "7580    0.12                            BURINEX COMP 1 X 1 MG   87512\n",
       "17725  13.28              ALPHARIX-TETRA SER INJ 0,5 ML  2017   85681\n",
       "12411   8.25                          BURINEX COMP  30 X 1 MG   79506\n",
       "14267   9.89      ASAFLOW  80MG MAAGSAPRES COMP BLI 168X 80MG   78632"
      ]
     },
     "execution_count": 87,
     "metadata": {},
     "output_type": "execute_result"
    }
   ],
   "source": [
    "df_products.head(10)"
   ]
  },
  {
   "cell_type": "markdown",
   "metadata": {},
   "source": [
    "The code below wil be analysed individualy because of the time it takes to load in the categories."
   ]
  },
  {
   "cell_type": "code",
   "execution_count": 91,
   "metadata": {},
   "outputs": [],
   "source": [
    "for i in range(0, len(df_products)):\n",
    "    if ('honorarium' in df_products.loc[i, 'Product name'].lower()): \n",
    "        df_products.loc[i, 'ProductType'] = 'Honorarium'\n",
    "    elif ('tabl' in df_products.loc[i, 'Product name'].lower()): \n",
    "        df_products.loc[i, 'ProductType'] = 'Tablet'\n",
    "    else:\n",
    "        df_products.loc[i, 'ProductType'] = 'Pills'"
   ]
  },
  {
   "cell_type": "markdown",
   "metadata": {},
   "source": [
    "<font color='red'>Put text Here:</font>"
   ]
  },
  {
   "cell_type": "code",
   "execution_count": 92,
   "metadata": {},
   "outputs": [
    {
     "data": {
      "text/html": [
       "<div>\n",
       "<style scoped>\n",
       "    .dataframe tbody tr th:only-of-type {\n",
       "        vertical-align: middle;\n",
       "    }\n",
       "\n",
       "    .dataframe tbody tr th {\n",
       "        vertical-align: top;\n",
       "    }\n",
       "\n",
       "    .dataframe thead th {\n",
       "        text-align: right;\n",
       "    }\n",
       "</style>\n",
       "<table border=\"1\" class=\"dataframe\">\n",
       "  <thead>\n",
       "    <tr style=\"text-align: right;\">\n",
       "      <th></th>\n",
       "      <th>Price</th>\n",
       "      <th>Product name</th>\n",
       "      <th>Counts</th>\n",
       "      <th>ProductType</th>\n",
       "    </tr>\n",
       "  </thead>\n",
       "  <tbody>\n",
       "    <tr>\n",
       "      <th>27770</th>\n",
       "      <td>33.39</td>\n",
       "      <td>6D SIXD OMEGA 3                  CAPS 90</td>\n",
       "      <td>1</td>\n",
       "      <td>Pills</td>\n",
       "    </tr>\n",
       "    <tr>\n",
       "      <th>10279</th>\n",
       "      <td>6.23</td>\n",
       "      <td>AACIDEXAM 5MG/ML OPL INJ FL INJ  1 X 1ML</td>\n",
       "      <td>278</td>\n",
       "      <td>Pills</td>\n",
       "    </tr>\n",
       "    <tr>\n",
       "      <th>10192</th>\n",
       "      <td>6.10</td>\n",
       "      <td>AACIDEXAM 5MG/ML OPL INJ FL INJ  1 X 1ML</td>\n",
       "      <td>13</td>\n",
       "      <td>Pills</td>\n",
       "    </tr>\n",
       "    <tr>\n",
       "      <th>10231</th>\n",
       "      <td>6.15</td>\n",
       "      <td>AACIDEXAM 5MG/ML OPL INJ FL INJ  1 X 1ML</td>\n",
       "      <td>1097</td>\n",
       "      <td>Pills</td>\n",
       "    </tr>\n",
       "    <tr>\n",
       "      <th>10648</th>\n",
       "      <td>6.67</td>\n",
       "      <td>AACIDEXAM 5MG/ML OPL INJ FL INJ  1 X 1ML</td>\n",
       "      <td>1105</td>\n",
       "      <td>Pills</td>\n",
       "    </tr>\n",
       "  </tbody>\n",
       "</table>\n",
       "</div>"
      ],
      "text/plain": [
       "       Price                              Product name  Counts ProductType\n",
       "27770  33.39  6D SIXD OMEGA 3                  CAPS 90       1       Pills\n",
       "10279   6.23  AACIDEXAM 5MG/ML OPL INJ FL INJ  1 X 1ML     278       Pills\n",
       "10192   6.10  AACIDEXAM 5MG/ML OPL INJ FL INJ  1 X 1ML      13       Pills\n",
       "10231   6.15  AACIDEXAM 5MG/ML OPL INJ FL INJ  1 X 1ML    1097       Pills\n",
       "10648   6.67  AACIDEXAM 5MG/ML OPL INJ FL INJ  1 X 1ML    1105       Pills"
      ]
     },
     "execution_count": 92,
     "metadata": {},
     "output_type": "execute_result"
    }
   ],
   "source": [
    "df_products = df_products.sort_values(by = 'Product name')\n",
    "df_products.head(5)"
   ]
  },
  {
   "cell_type": "markdown",
   "metadata": {},
   "source": [
    "<font color='red'>Put text Here:</font>"
   ]
  },
  {
   "cell_type": "code",
   "execution_count": 93,
   "metadata": {},
   "outputs": [
    {
     "data": {
      "text/plain": [
       "ProductType\n",
       "Honorarium       54\n",
       "Tablet         8763\n",
       "Pills         26184\n",
       "Name: Product name, dtype: int64"
      ]
     },
     "execution_count": 93,
     "metadata": {},
     "output_type": "execute_result"
    }
   ],
   "source": [
    "productsTypes = df_products.groupby(\"ProductType\")[\"Product name\"].count()\n",
    "productsTypes.sort_values()"
   ]
  },
  {
   "cell_type": "markdown",
   "metadata": {},
   "source": [
    "## 5.Filters"
   ]
  },
  {
   "cell_type": "markdown",
   "metadata": {},
   "source": [
    "### 5.1.Postcode Filters"
   ]
  },
  {
   "cell_type": "markdown",
   "metadata": {},
   "source": [
    "To make our analysis more efficient, every project member will analyse a part of the data based of the pharmacy postcodes. We divided the work by the top 5 postcodes with the most products."
   ]
  },
  {
   "cell_type": "code",
   "execution_count": 94,
   "metadata": {},
   "outputs": [
    {
     "data": {
      "text/plain": [
       "Pharmacy postcode\n",
       "64      11290\n",
       "33      21532\n",
       "83      26721\n",
       "81      30494\n",
       "51      44585\n",
       "       ...   \n",
       "22     859249\n",
       "40    1073508\n",
       "30    1641970\n",
       "10    3804115\n",
       "20    4423748\n",
       "Name: Product name, Length: 62, dtype: int64"
      ]
     },
     "execution_count": 94,
     "metadata": {},
     "output_type": "execute_result"
    }
   ],
   "source": [
    "df_by_postcode = df_all.groupby(\"Pharmacy postcode\")[\"Product name\"].count()\n",
    "df_by_postcode.sort_values()"
   ]
  },
  {
   "cell_type": "markdown",
   "metadata": {},
   "source": [
    "In the code above we have looked at the top 5 postcodes in the dataset. These postcodes have been divided per project group member in the following code below."
   ]
  },
  {
   "cell_type": "code",
   "execution_count": 95,
   "metadata": {},
   "outputs": [],
   "source": [
    "df_jak_filter = df_all[df_all['Pharmacy postcode'] == 10]\n",
    "df_nguyen_filter = df_all[df_all['Pharmacy postcode'] == 20].reset_index(drop=True)\n",
    "df_mitchel_filter = df_all[df_all['Pharmacy postcode'] == 22]\n",
    "df_nikita_filter = df_all[df_all['Pharmacy postcode'] == 30]\n",
    "df_mailinh_filter = df_all[df_all['Pharmacy postcode'] == 40]"
   ]
  },
  {
   "cell_type": "markdown",
   "metadata": {},
   "source": [
    "## 6.Analysis"
   ]
  },
  {
   "cell_type": "markdown",
   "metadata": {},
   "source": [
    "This part of the notebook will show the analysis done by project group B. Every project member has made their own analysis on the data that is filtered on a specific region. This way we can see what the differences are in statistics per region."
   ]
  },
  {
   "cell_type": "markdown",
   "metadata": {},
   "source": [
    "### 6.1.Region 10 (Jak)"
   ]
  },
  {
   "cell_type": "markdown",
   "metadata": {},
   "source": [
    "<font color='red'>Put text Here:</font>"
   ]
  },
  {
   "cell_type": "code",
   "execution_count": null,
   "metadata": {},
   "outputs": [],
   "source": []
  },
  {
   "cell_type": "markdown",
   "metadata": {},
   "source": [
    "### 6.2.Region 20 (Nguyen)"
   ]
  },
  {
   "cell_type": "markdown",
   "metadata": {},
   "source": [
    "<font color='red'>Put text Here: Take sample to test</font>"
   ]
  },
  {
   "cell_type": "code",
   "execution_count": null,
   "metadata": {},
   "outputs": [],
   "source": [
    "df_nguyen_filter.shape\n",
    "df_s = df_nguyen_filter.sample(1000).reset_index(drop=True)\n",
    "df_s.head(2)"
   ]
  },
  {
   "cell_type": "markdown",
   "metadata": {},
   "source": [
    "Comparison plots"
   ]
  },
  {
   "cell_type": "code",
   "execution_count": null,
   "metadata": {},
   "outputs": [],
   "source": [
    "plt.figure(figsize=(10,4))\n",
    "sns.barplot(x='ProductType', y='Price', data=df_s);\n",
    "plt.figure(figsize=(10,4))\n",
    "sns.barplot(x='ProductType', y='Price', data=df_s);"
   ]
  },
  {
   "cell_type": "markdown",
   "metadata": {},
   "source": [
    "Most expensive products"
   ]
  },
  {
   "cell_type": "code",
   "execution_count": null,
   "metadata": {},
   "outputs": [],
   "source": [
    "df_price_top10 = df_s.sort_values(by='Price',ascending=False).head(10)"
   ]
  },
  {
   "cell_type": "code",
   "execution_count": null,
   "metadata": {},
   "outputs": [],
   "source": [
    "df_price_top10.set_index('Product',inplace=True)\n",
    "dfp=df_price_top10[['Price','Contribution']]\n",
    "dfp.plot.bar()"
   ]
  },
  {
   "cell_type": "markdown",
   "metadata": {},
   "source": [
    "Correlation plots"
   ]
  },
  {
   "cell_type": "code",
   "execution_count": null,
   "metadata": {},
   "outputs": [],
   "source": [
    "ax=plt.figure(figsize=(10,10))\n",
    "sns.scatterplot(x='Price', y='Contribution', hue='Gender',data=df_s);"
   ]
  },
  {
   "cell_type": "markdown",
   "metadata": {},
   "source": [
    "YOB of each gender"
   ]
  },
  {
   "cell_type": "code",
   "execution_count": null,
   "metadata": {},
   "outputs": [],
   "source": [
    "m_yob = df_nguyen_filter[df_nguyen_filter['Gender']=='Male']\n",
    "f_yob = df_nguyen_filter[df_nguyen_filter['Gender']=='Female']\n",
    "\n",
    "sns.set_style(\"darkgrid\")\n",
    "\n",
    "ax = sns.distplot(m_yob[['YOB']], bins = 120)\n",
    "sns.distplot(f_yob[['YOB']], bins = 120)\n",
    "\n",
    "plt.legend(['Male','Female','Neutral']);\n",
    "plt.title('Year of Birth base on Gender')\n",
    "plt.xlabel('Year of Birth')\n",
    "plt.xlim(1910, 2020)"
   ]
  },
  {
   "cell_type": "markdown",
   "metadata": {},
   "source": [
    "Timelines"
   ]
  },
  {
   "cell_type": "code",
   "execution_count": null,
   "metadata": {},
   "outputs": [],
   "source": [
    "df_sales=df_s.groupby(['DateTime'])['Price'].sum().reset_index()\n",
    "df_sales.set_index('DateTime',inplace=True)\n",
    "df_sales.head()"
   ]
  },
  {
   "cell_type": "code",
   "execution_count": null,
   "metadata": {},
   "outputs": [],
   "source": [
    "fig, ax = plt.subplots(2, 1,figsize=(15,10))\n",
    "df_sales['Price'].plot(ax=ax[0],color=\"#4C72B0\")\n",
    "ax[0].set_title(\"Sales\")\n",
    "ax[0].legend([\"area 20\"])\n",
    "\n",
    "df_sales['rp']=df_sales['Price'].rolling(10).mean()\n",
    "df_sales['rp'].plot(ax=ax[1],color=\"#4C72B0\")\n",
    "ax[1].set_title(\"Rolling Sales\")\n",
    "ax[1].legend([\"area 20\"]);"
   ]
  },
  {
   "cell_type": "markdown",
   "metadata": {},
   "source": [
    "### 6.3.Region 22 (Mitchel)"
   ]
  },
  {
   "cell_type": "markdown",
   "metadata": {},
   "source": [
    "<font color='red'>Put text Here:</font>"
   ]
  },
  {
   "cell_type": "markdown",
   "metadata": {},
   "source": [
    "#### 6.3.1.Seasonal Analysis"
   ]
  },
  {
   "cell_type": "markdown",
   "metadata": {},
   "source": [
    "In this chapter we will take a look at all the data we can find that is related to the four seasons. As we can see there is not much of a difference between the total products that have been sold per season. in de data below."
   ]
  },
  {
   "cell_type": "code",
   "execution_count": 97,
   "metadata": {},
   "outputs": [
    {
     "data": {
      "text/plain": [
       "Season\n",
       "summer    168092\n",
       "Spring    170979\n",
       "winter    179263\n",
       "autumn    188247\n",
       "Name: Product name, dtype: int64"
      ]
     },
     "execution_count": 97,
     "metadata": {},
     "output_type": "execute_result"
    }
   ],
   "source": [
    "df_prices = df_mitchel_filter.groupby(\"Season\")[\"Product name\"].count()\n",
    "df_prices.sort_values()"
   ]
  },
  {
   "cell_type": "markdown",
   "metadata": {},
   "source": [
    "The barplot above indicated that there is not much difference in the amount of products sold per season. It does show that in the autumn season more has been bought.\n",
    "\n",
    "This data can also be split per gender type as seen in the plot below. This plot indicates that female customers have been buying more than male customer in every season."
   ]
  },
  {
   "cell_type": "code",
   "execution_count": 98,
   "metadata": {},
   "outputs": [
    {
     "data": {
      "image/png": "[encoded data removed]",
      "text/plain": [
       "<Figure size 720x288 with 1 Axes>"
      ]
     },
     "metadata": {
      "needs_background": "light"
     },
     "output_type": "display_data"
    }
   ],
   "source": [
    "plt.figure(figsize = (10,4))\n",
    "sns.countplot(x = 'Season', data = df_mitchel_filter);"
   ]
  },
  {
   "cell_type": "markdown",
   "metadata": {},
   "source": [
    "#### 6.3.2.Age & Gender"
   ]
  },
  {
   "cell_type": "markdown",
   "metadata": {},
   "source": [
    "<font color='red'>Put text Here:</font>"
   ]
  },
  {
   "cell_type": "code",
   "execution_count": 99,
   "metadata": {},
   "outputs": [
    {
     "data": {
      "text/plain": [
       "YOB\n",
       "1900        2\n",
       "1901        2\n",
       "2100        3\n",
       "1899        3\n",
       "1916        9\n",
       "        ...  \n",
       "1949    17194\n",
       "1951    17312\n",
       "1945    17745\n",
       "1948    18061\n",
       "1947    18103\n",
       "Name: Gender, Length: 114, dtype: int64"
      ]
     },
     "execution_count": 99,
     "metadata": {},
     "output_type": "execute_result"
    }
   ],
   "source": [
    "df_prices = df_mitchel_filter.groupby(\"YOB\")[\"Gender\"].count()\n",
    "df_prices.sort_values()"
   ]
  },
  {
   "cell_type": "markdown",
   "metadata": {},
   "source": [
    "<font color='red'>Put text Here:</font>"
   ]
  },
  {
   "cell_type": "code",
   "execution_count": 100,
   "metadata": {},
   "outputs": [
    {
     "data": {
      "text/plain": [
       "<matplotlib.axes._subplots.AxesSubplot at 0x21d097a2160>"
      ]
     },
     "execution_count": 100,
     "metadata": {},
     "output_type": "execute_result"
    },
    {
     "data": {
      "image/png": "[encoded data removed]",
      "text/plain": [
       "<Figure size 432x288 with 1 Axes>"
      ]
     },
     "metadata": {
      "needs_background": "light"
     },
     "output_type": "display_data"
    }
   ],
   "source": [
    "df_mitchel_filter['YOB'].value_counts().plot.bar()"
   ]
  },
  {
   "cell_type": "markdown",
   "metadata": {},
   "source": [
    "#### 6.3.3.Prices & Contribution"
   ]
  },
  {
   "cell_type": "markdown",
   "metadata": {},
   "source": [
    "In the multiple scatterplots shown below we can see the correlation between the price and contributions per gender and season. This could show us what connections could be found between the contribution and prices per gender and season."
   ]
  },
  {
   "cell_type": "code",
   "execution_count": 102,
   "metadata": {},
   "outputs": [
    {
     "data": {
      "text/plain": [
       "<seaborn.axisgrid.FacetGrid at 0x21d1149bd30>"
      ]
     },
     "execution_count": 102,
     "metadata": {},
     "output_type": "execute_result"
    },
    {
     "data": {
      "text/plain": [
       "<Figure size 1440x1440 with 0 Axes>"
      ]
     },
     "metadata": {},
     "output_type": "display_data"
    },
    {
     "data": {
      "image/png": "[encoded data removed]",
      "text/plain": [
       "<Figure size 949.475x648 with 12 Axes>"
      ]
     },
     "metadata": {
      "needs_background": "light"
     },
     "output_type": "display_data"
    }
   ],
   "source": [
    "ax = plt.figure(figsize = (20, 20))\n",
    "g = sns.FacetGrid(df_mitchel_filter, col = 'Season', row = 'Gender' , hue = 'Gender')\n",
    "g.map(sns.regplot, 'Contribution', 'Price', fit_reg = False, x_jitter = .1)\n",
    "g.add_legend()"
   ]
  },
  {
   "cell_type": "markdown",
   "metadata": {},
   "source": [
    "### 6.4.Region 30 (Nikita)"
   ]
  },
  {
   "cell_type": "markdown",
   "metadata": {},
   "source": [
    "<font color='red'>Put text Here:</font>"
   ]
  },
  {
   "cell_type": "code",
   "execution_count": null,
   "metadata": {},
   "outputs": [],
   "source": []
  },
  {
   "cell_type": "markdown",
   "metadata": {},
   "source": [
    "### 6.5.Region 40 (Mailinh)"
   ]
  },
  {
   "cell_type": "markdown",
   "metadata": {},
   "source": [
    "<font color='red'>Put text Here:</font>"
   ]
  },
  {
   "cell_type": "code",
   "execution_count": null,
   "metadata": {},
   "outputs": [],
   "source": []
  }
 ],
 "metadata": {
  "kernelspec": {
   "display_name": "Python 3",
   "language": "python",
   "name": "python3"
  },
  "language_info": {
   "codemirror_mode": {
    "name": "ipython",
    "version": 3
   },
   "file_extension": ".py",
   "mimetype": "text/x-python",
   "name": "python",
   "nbconvert_exporter": "python",
   "pygments_lexer": "ipython3",
   "version": "3.7.4"
  }
 },
 "nbformat": 4,
 "nbformat_minor": 4
}
